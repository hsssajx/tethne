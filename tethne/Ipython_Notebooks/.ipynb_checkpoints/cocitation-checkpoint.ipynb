{
 "metadata": {
  "name": ""
 },
 "nbformat": 3,
 "nbformat_minor": 0,
 "worksheets": [
  {
   "cells": [
    {
     "cell_type": "code",
     "collapsed": false,
     "input": [
      "import tethne.data as ds\n",
      "import tethne.readers as rd\n",
      "\n",
      "filepath =  \"/Users/ramki/tethne/tethne/testsuite/testin/instituitions_2_types_input.txt\" \n",
      "wos_list  = rd.parse_wos(filepath)\n",
      "#print wos_list\n",
      "meta_list = rd.wos2meta(wos_list)\n",
      "for entry in meta_list:\n",
      "        print 'Entry :', entry['citations'], '\\t'\n",
      "        \n",
      "        if entry['citations'] is not None:\n",
      "            for citation in entry['citations']:\n",
      "                citation_dict = citation['ayjid']\n",
      "               # print citation_dict.upper()\n",
      "            "
     ],
     "language": "python",
     "metadata": {},
     "outputs": [
      {
       "ename": "ValueError",
       "evalue": "'a' is not in list",
       "output_type": "pyerr",
       "traceback": [
        "\u001b[0;31m---------------------------------------------------------------------------\u001b[0m\n\u001b[0;31mValueError\u001b[0m                                Traceback (most recent call last)",
        "\u001b[0;32m<ipython-input-106-e82df282e6a7>\u001b[0m in \u001b[0;36m<module>\u001b[0;34m()\u001b[0m\n\u001b[1;32m      7\u001b[0m \u001b[0mmeta_list\u001b[0m \u001b[0;34m=\u001b[0m \u001b[0mrd\u001b[0m\u001b[0;34m.\u001b[0m\u001b[0mwos2meta\u001b[0m\u001b[0;34m(\u001b[0m\u001b[0mwos_list\u001b[0m\u001b[0;34m)\u001b[0m\u001b[0;34m\u001b[0m\u001b[0m\n\u001b[1;32m      8\u001b[0m \u001b[0;32mfor\u001b[0m \u001b[0mentry\u001b[0m \u001b[0;32min\u001b[0m \u001b[0mmeta_list\u001b[0m\u001b[0;34m:\u001b[0m\u001b[0;34m\u001b[0m\u001b[0m\n\u001b[0;32m----> 9\u001b[0;31m         \u001b[0;32mprint\u001b[0m \u001b[0;34m'Entry :'\u001b[0m\u001b[0;34m,\u001b[0m \u001b[0mentry\u001b[0m\u001b[0;34m[\u001b[0m\u001b[0;34m'citations'\u001b[0m\u001b[0;34m]\u001b[0m\u001b[0;34m.\u001b[0m\u001b[0mindex\u001b[0m\u001b[0;34m(\u001b[0m\u001b[0;34m'a'\u001b[0m\u001b[0;34m)\u001b[0m\u001b[0;34m,\u001b[0m \u001b[0;34m'\\t'\u001b[0m\u001b[0;34m\u001b[0m\u001b[0m\n\u001b[0m\u001b[1;32m     10\u001b[0m \u001b[0;34m\u001b[0m\u001b[0m\n\u001b[1;32m     11\u001b[0m         \u001b[0;32mif\u001b[0m \u001b[0mentry\u001b[0m\u001b[0;34m[\u001b[0m\u001b[0;34m'citations'\u001b[0m\u001b[0;34m]\u001b[0m \u001b[0;32mis\u001b[0m \u001b[0;32mnot\u001b[0m \u001b[0mNone\u001b[0m\u001b[0;34m:\u001b[0m\u001b[0;34m\u001b[0m\u001b[0m\n",
        "\u001b[0;31mValueError\u001b[0m: 'a' is not in list"
       ]
      },
      {
       "output_type": "stream",
       "stream": "stdout",
       "text": [
        " Entry :"
       ]
      }
     ],
     "prompt_number": 106
    },
    {
     "cell_type": "code",
     "collapsed": false,
     "input": [
      "import tethne.data as ds\n",
      "import tethne.readers as rd\n",
      "\n",
      "filepath =  \"/Users/ramki/tethne/tethne/testsuite/testin/cocitations_test.txt\" \n",
      "wos_list  = rd.parse_wos(filepath)\n",
      "#print wos_list\n",
      "meta_list = rd.wos2meta(wos_list)\n",
      "\n",
      "\n",
      "                    \n",
      "# Co-citation function starts here\n",
      "paper_references = {}         #keys: ayjid of each paper, values: a list of cited references of that paper (ayjid of citations) \n",
      "for paper in meta_list:\n",
      "        if paper['ayjid'] is not None:\n",
      "            authors= paper['ayjid']\n",
      "            #print authors, '\\n'\n",
      "            cit_str = \"\" \n",
      "            final_cit =\"\"\n",
      "            for cited_paper in paper['citations']:  \n",
      "                  cit_str = cited_paper['ayjid']    # field ayjid in the citations sub-dict is going to be the vertex of the Network graph.\n",
      "                  final_cit = cit_str.upper() + ',' + final_cit    # upper case\n",
      "                  cit_list= final_cit.split(',')    # to create a list\n",
      "                  paper_references[authors] = cit_list  # created a dictionary whose structure is given below.\n",
      "                    \n",
      "#To check if its correct                    \n",
      "for key,val in paper_references.iteritems():\n",
      "   # print key,'->',  val , '\\n'\n",
      "    pass\n",
      "\n",
      "\n",
      "# Example\n",
      "#{CHEN T 2013 ADVANCES IN ENGINEERING SOFTWARE : ['Zhang QF 2004 ENG COMPUTATION', 'Witten IH 2005 DATA MINING PRACTICA', 'Tu ZG 2004 IEEE T EVOLUT COMPUT', \n",
      "                                                 #'Toksari MD 2006 APPL MATH COMPUT', 'Schwefel H-P 1977 NUMERICAL OPTIMIZATI', 'Rechenberg I. 1973 EVOLUTIONSSTRATEGIE'] }\n",
      "    \n",
      "papers = paper_references.keys()\n",
      "references = paper_references.values()\n",
      "\n",
      "for each_paper in papers:\n",
      "            no_of_references= len(paper_references[each_paper]) # how many reference papers in each 'article'\n",
      "            reference_list = paper_references[each_paper]  # create a list to traverse pairs of references,\n",
      "            print reference_list\n",
      "            print no_of_references , '---------' , '\\n'\n",
      "            for i in range(no_of_references) :\n",
      "                    for j in range(no_of_references-1) :\n",
      "                        #print reference_list[i], ',', reference_list[j]\n",
      "                         \n",
      "                        \n",
      "                        pass  "
     ],
     "language": "python",
     "metadata": {},
     "outputs": [
      {
       "output_type": "stream",
       "stream": "stdout",
       "text": [
        "['ZHANG QF 2004 ENG COMPUTATION', 'WITTEN IH 2005 DATA MINING PRACTICA', 'TU ZG 2004 IEEE T EVOLUT COMPUT', 'TOKSARI MD 2006 APPL MATH COMPUT', 'SCHWEFEL H-P 1977 NUMERICAL OPTIMIZATI', 'RECHENBERG I. 1973 EVOLUTIONSSTRATEGIE', 'LIANG JJ 2006 IEEE T EVOLUT COMPUT', 'LEE CC 2006 THESIS NATL TAIWAN U', 'LAGUNA M 2005 J GLOBAL OPTIM', 'MODIS K 2010 STOCH ENV RES RISK A', 'KEANE AJ 1994 P C AD COMP ENG DES', 'HAN J. 2001 DATA MINING CONCEPTS', 'FANG KT 1994 STAT SCI', 'BRANKE J 2005 SOFT COMPUT', 'ADRIAANS P 1996 DATA MINING', '']\n",
        "16 --------- \n",
        "\n",
        "['ZAKI MJ 2001 MACH LEARN', 'WASSERMAN S 1994 SOCIAL NETWORK ANAL', 'VAN DEURSEN 2010 P 32 ACM IEEE INT C', 'TSENG B 2005 WWW 2005 WORKSH WEBL', 'TREUDE C 2009 PROC INT CONF SOFTW', 'THE NIELSEN 2010 LED FAC TWITT GLOB T', 'SONG X 2007 P 16 ACM C INF KNOWL', 'PARNIN C 2011 P 2 INT WORKSH WEB 2', 'PAGANO D 2011 P 8 C MIN SOFTW REP', 'MOCKUS A 2002 ACM T SOFTW ENG METH', 'MAALEJ W 2011 P INT C SOC COMP ITS', 'MAALEJ W 2010 2010 7 IEEE WORK C M', 'MAALEJ W 2009 2009 6TH IEEE INTERNATIONAL WORKING CONFERENCE ON MINING SOFTWARE REPOSITORIES', 'MAALEJ W 2008 SOFTWARE ENG', 'KAPLAN AM 2010 BUS HORIZONS', 'HATTORI L 2008 ASE WORKSH IEEE', 'GUZZI A 2010 P ICSM2010 IEEE INT', 'GRUHL D 2004 ACM SIGKDD EXPLOR NE', 'GLANCE N 2004 P WWW 2004 WORKSH WE', 'DICE LR 1945 ECOLOGY', 'CROWSTON K 2005 P 1 C OP SOURC SYST', 'BLEI DM 2003 J MACH LEARN RES', 'BIRD C 2006 P 2006 INT WORKSH MI', 'BETTENBURG N 2008 P 2008 INT WORK C MI', 'BETTENBURG N 2011 CONF PROC INT SYMP C', 'BEGEL A 2010 P FSE SDP WORKSH FUT', 'BACCHELLI A 2010 P ICSE 2010 32 INT C', 'AGRAWAL R 1993 P 1993 ACM SIGMOD IN', 'AGRAWAL R 1995 PROC INT CONF DATA', '']\n",
        "30 --------- \n",
        "\n",
        "['WATSON HJ 1993 MIS QUART', 'SRIKANT R. 1996 P 5 INT C EXT DAT TE', 'SMITH R. 2009 HUMAN RESOURCES ADM', 'MOON J. 1968 TOPICS TOURNAMENTS', 'MITRA S 2002 IEEE T NEURAL NETWOR', 'LIU G. 2003 P 8 INT C DAT SYST A', 'LAUDON K. 2007 MANAGEMENT INFORM SY', 'KIM C 2007 J SYST SOFTWARE', 'KEMENY J. 1962 P MATH MOD SOC SCI', 'KAO C 1997 EUR J OPER RES', 'JABEUR K 2007 EUR J OPER RES', 'HUANG YS 2013 EUR J OPER RES', 'HONG T. 1999 1999 IEEE INT C SYST', 'HERRERA F 2008 IEEE T FUZZY SYST', 'HAN J 2006 DATA MINING CONCEPTS', 'GRECO S 2008 EUR J OPER RES', 'FAGIN R. 2003 P 2003 ACM SIGMOD IN', 'COOK WD 2007 COMPUT OPER RES', 'COOK WD 2006 EUR J OPER RES', 'COOK WD 1986 PSYCHOMETRIKA', 'COOK WD 2005 MANAGE SCI', 'COOK W. 1996 EUR J OPER RES', 'CHEN YL 2008 EXPERT SYST APPL', 'CHEN YL 2010 DECIS SUPPORT SYST', 'CHEN YL 2006 FUZZY SET SYST', 'CHEN YL 2009 EUR J OPER RES', 'CHEN LS 2005 EUR J OPER RES', 'MODIS K 2010 STOCH ENV RES RISK A', 'CHANG C. 2011 THESIS NATL CHUNG CH', 'BORDA J. 1981 MEMOIRE ELECTIONS SC', 'BOGART KP 1975 SIAM J APPL MATH', 'AGRAWAL R 1995 PROC INT CONF DATA', 'AGRAWAL R 1994 P 20 INT C VER LARG', '']\n",
        "34 --------- \n",
        "\n",
        "['YU HL 2007 STOCH ENV RES RISK A', 'XIAO HY 2011 SOIL SEDIMENT CONTAM', 'VATALIS KI 2006 ENVIRON MANAGE', 'VATALIS KI 2010 J ENVIRON MANAGE', 'VATALIS K. 2011 9 INT HYDR C 5 8 OCT', 'TRIANTAFYLLOU AG 2003 ENVIRON MONIT ASSESS', 'TANG JC 2011 SOIL SEDIMENT CONTAM', 'SYLAIOS G 2012 SOIL SEDIMENT CONTAM', 'SWAINE DJ 1990 TRACE ELEMENTS COAL', 'SWAINE D. 1989 J COAL QUAL', 'SWAINE D. 1995 ENV ASPECTS TRACE EL', 'SNAKIN VV 1996 SOIL TECHNOL', 'SERRE ML 2003 STOCH ENV RES RISK A', 'SADIQ M 1997 WATER AIR SOIL POLL', 'ROSE A. 1979 GEOCHEMISTRY MINERAL', 'PILLS J. 2004 SOIL SEDIMENT CONTAM', 'PETROTOU A. 2011 ENVIRON EARTH SCI', 'PENTARI D 2006 INT J COAL GEOL', 'PAVLIDES SB 1987 J STRUCT GEOL', 'OREM W. 2004 TREATISE GEOCHEMISTR', 'NIELSEN F. 1997 GEOCHEMISTRY ENV', 'MODIS K. 2007 MINE WATER ENVIRON', 'MODIS K 2010 STOCH ENV RES RISK A', 'KOMNITSAS K 2006 SCI TOTAL ENVIRON', 'KOMNITSAS K 1998 MINER ENG', 'KOLOVOS N 2002 ENERG SOURCE', 'KAVOURIDIS K 2008 ENERG POLICY', 'KABATA-PENDIAS A. 2001 TRACE ELEMENTS SOILS', 'JOURNEL A.G. 1978 MINING GEOSTATISTICS', 'JAMES BR 1997 J SOIL CONTAM', 'ICRCL   ', 'HRISTOPOULOS D. 2003 ADV WATER RESOUR', 'HARTLEY W 2004 ENVIRON POLLUT', 'HART JD 1986 J AM STAT ASSOC', 'GEROUKI F. 1996 P 3 INT C ENV POLL S', 'GEORGAKOPOULOS A. 1996 P 3 INT C ENV POLL T', 'FINKELMAN R.B. 1981 8199 US GEOL SURV', 'FILIPPIDIS A 1992 FUEL', 'FAO   ', 'ENVIRONMENTAL PROTECTION 1992 EPA625R92004 US AG I', 'KANG P 2009 PATTERN RECOGN', 'KANG P 2008 PATTERN RECOGN', 'JUSZCZAK P 2009 NEUROCOMPUTING', 'HOTELLING H. 1947 MULTIVARIATE QUALITY', 'HODGE VJ 2004 ARTIF INTELL REV', 'HARMELING S 2006 NEUROCOMPUTING', 'DUDAS MJ 1987 CAN J SOIL SCI', 'DIMITRAKOPOULOS D. 1991 4 INT MIN ASS C LJUB', 'DAWES A 2001 SOIL SEDIMENT CONTAM', 'DANG Z 2002 ENVIRON POLLUT', 'CRNKOVIC D 2006 SOIL SEDIMENT CONTAM', 'CLARK L. 1992 149 IEACR', 'CHRISTAKOS G. 2000 MODERN SPATIOTEMPORA', 'CHRISTAKOS G 1998 GEODERMA', 'CHRISTAKOS G. 2002 TEMPORAL GIS ADV FUN', 'BROWN K. 1983 ENVIRON MONIT ASSESS', 'BOGAERT P. 1999 P IAMG 99 5 ANN C IN', 'ALLOWAY B. 1990 HEAVY METALS SOILS', 'ADRIANO D. 1986 TRACE ELEMENTS TERRE', 'ADRIANO D. 2001 TRACE ELEMENTS TERRE', '']\n",
        "61 --------- \n",
        "\n",
        "['WESKE M 2007 BUSINESS PROCESS MAN', 'WEIJTERS AJMM 2003 INTEGR COMPUT-AID E', 'VERBEEK H.M.W. 2013 BPM1309', 'VERBEEK H. 2013 BPM1309', 'VANHATALO J 2009 DATA KNOWL ENG', 'VAN DER 2003 DISTRIB PARALLEL DAT', 'VAN DER 2010 SOFTW SYST MODEL', 'VAN DER 2010 COMPUTER', 'VAN DER 2012 WIRES DATA MIN KNOWL', 'VAN DER 2004 IEEE T KNOWL DATA EN', 'VAN DER 2012 LECT NOTES COMPUTER', 'VAN DER 2012 BPM1219 BPM CTR', 'VAN DER 2012 BPM1219 BPM', 'SOLE M 2010 LECT NOTES COMPUT SC', 'SHETH A 2012 DISTRIB PARALLEL DAT', 'ROZINAT A 2008 INFORM SYST', 'ROZINAT A 2006 LECT NOTES COMPUT SC', 'REGUIEG H. 2012 LECT NOTES COMPUTER', 'POLYVYANYY A 2011 LECT NOTES COMPUT SC', 'MUNOZ-GAMA J 2010 LECT NOTES COMPUT SC', 'MUNOZ-GAMA J. 2013 BPM1310 BPM CTR', 'MUNOZ- GAMA 2013 TOPOLOGY', 'MITCHELL TM 1997 MACHINE LEARNING', 'MANYIKA JAMES 2011 BIG DATA NEXT FRONTI', 'KIM M 2012 DATA KNOWL ENG', 'KERNIGHAN B. 1970 BELL SYSTEM TECHNICAL JOURNAL', 'HILBERT M 2011 SCIENCE', 'HERBST J. 2001 THESIS', 'HERBST J. 2001 THESIS U ULM', 'GUNTHER CW 2007 LECT NOTES COMPUT SC', 'GRIGORI D 2004 COMPUT IND', 'GOEDERTIER S 2009 J MACH LEARN RES', 'GEORGAKOPOULOS D 1995 DISTRIB PARALLEL DAT', 'GAALOUL W 2009 DISTRIB PARALLEL DAT', 'FEIGE U. 2005 P 37 ANN ACM S THEOR', 'FEIGE U. 2005 ACM S THEOR COMP NEW', 'DHAMA H 1995 J SYST SOFTWARE', 'DE WEERDT 2011 IEEE S COMP INT DAT', 'DARONDEAU P 2004 LECT NOTES COMPUT SC', 'COOK JE 1999 ACM T SOFTW ENG METH', 'COOK J. 1998 ACM TRANSACTIONS ON SOFTWARE ENGINEERING AND METHODOLOGY', 'CASTELLANOS M 2004 DISTRIB PARALLEL DAT', 'CARMONA J 2008 LECT NOTES COMPUT SC', 'CARMONA J 2010 LECT NOTES ARTIF INT', 'CARMONA J 2009 LECT NOTES COMPUT SC', 'CANNATARO M 2004 IEEE T SYST MAN CY B', 'BUIJS J. 2012 LECT NOTES COMPUTER', 'BOUKALA M.C. 2007 P INT WORKSH VER EV', 'CHEN YL 2008 EXPERT SYST APPL', 'CHEN YL 2010 DECIS SUPPORT SYST', 'CHEN YL 2006 FUZZY SET SYST', 'CHEN YL 2009 EUR J OPER RES', 'CHEN LS 2005 EUR J OPER RES', 'BOUKALA M. 2007 SOCIETY', 'BERGENTHUM R 2007 LECT NOTES COMPUT SC', 'DE MEDEIROS 2007 DATA MIN KNOWL DISC', 'AGRAWAL R 1998 LECT NOTES COMPUT SC', 'AGRAWAL R 1996 IEEE T KNOWL DATA EN', 'ADRIANSYAH A 2011 LECT NOTES BUS INF P', 'ADRIANSYAH A. 2012 WORKSH BUS PROC INT', 'ADRIANSYAH A. 2012 INTELLIGENCE', 'ADRIANSYAH A 2011 IEEE EDOC CONF', '']\n",
        "63 --------- \n",
        "\n",
        "['ZHANG DS 2012 PATTERN RECOGN', 'YULE GU 1900 PHILOS T R SOC LOND', 'YANG Q 2006 INT J INF TECH DECIS', 'WU XD 2008 KNOWL INF SYST', 'WU G 2005 IEEE T KNOWL DATA EN', 'WILCOXON F 1945 BIOMETRICS BULL', 'WEISS GM 2003 J ARTIF INTELL RES', 'WANG S 2013 IEEE T KNOWL DATA EN', 'WANG S. 2009 IEEE S COMP INT DAT', 'SUN YM 2009 INT J PATTERN RECOGN', 'SUN YM 2007 PATTERN RECOGN', 'SEIFFERT C 2010 IEEE T SYST MAN CY A', 'SAEZ JA 2013 PATTERN RECOGN', 'ROKACH L 2010 ARTIF INTELL REV', 'RODRIGUEZ JJ 2010 PATTERN RECOGN LETT', 'RODRIGUEZ JJ 2006 IEEE T PATTERN ANAL', 'QUINLAN JR 1993 C4 5 PROGRAMS MACHIN', 'PROVOST F 2003 MACH LEARN', 'POLIKAR R. 2006 CIRCUITS SYSTEMS MAG', 'MUKHERJEE I 2013 J MACH LEARN RES', 'MAUDES J 2011 APPL INTELL', 'MARGINEANTU D. 1997 P 14 INT C MACH LEAR', 'LIU XY 2009 IEEE T SYST MAN CY B', 'KUNCHEVA L.I. 2000 P 15 INT C PATT REC', 'KUNCHEVA LI 2004 COMBINING PATTERN CL', 'KUNCHEVA LI 2003 MACH LEARN', 'KUNCHEVA LI 2007 IEEE T KNOWL DATA EN', 'KUNCHEVA LI 2003 PATTERN ANAL APPL', 'KUNCHEVA LI 2013 IEEE T KNOWL DATA EN', 'KHREICH W 2012 PATTERN RECOGN', 'JAPKOWICZ N. 2002 INTELLIGENT DATA ANALYSIS', 'HUANG J 2005 IEEE T KNOWL DATA EN', 'HOLM S 1979 SCAND J STAT', 'HODGES JL 1962 ANN MATH STAT', 'HE HB 2009 IEEE T KNOWL DATA EN', 'GARCIA V 2008 PATTERN ANAL APPL', 'GARCIA S 2012 IEEE T PATTERN ANAL', 'GARCIA S 2008 J MACH LEARN RES', 'GARCIA S 2010 INFORM SCIENCES', 'GARCIA S 2009 EVOL COMPUT', 'GALAR M 2012 IEEE T SYST MAN CY C', 'FREUND Y 1997 J COMPUT SYST SCI', 'FREITAS A 2007 LECT NOTES COMPUT SC', 'FERNANDEZ A 2008 FUZZY SET SYST', 'ESHELMAN L. 1991 FDN GENETIC ALGORITH', 'DROWN DJ 2009 IEEE T SYST MAN CY A', 'DEMSAR J 2006 J MACH LEARN RES', 'ALCALA-FDEZ J 2009 SOFT COMPUT', 'CHAWLA NV 2003 LECT NOTES ARTIF INT', 'CHAWLA NV 2002 J ARTIF INTELL RES', 'CHAWLA NV 2008 DATA MIN KNOWL DISC', 'CHAO WL 2013 PATTERN RECOGN', 'CHEN YL 2008 EXPERT SYST APPL', 'CHEN YL 2010 DECIS SUPPORT SYST', 'CHEN YL 2006 FUZZY SET SYST', 'CHEN YL 2009 EUR J OPER RES', 'CHEN LS 2005 EUR J OPER RES', 'BROWN G. 2005 J INFORM FUSION', 'BREIMAN L 1996 MACH LEARN', 'BRADLEY AP 1997 PATTERN RECOGN', 'BATISTA G. 2004 ACM SIGKDD EXPLORATI', 'BARANDELA R 2003 PATTERN ANAL APPL', 'BARANDELA R 2003 PATTERN RECOGN', 'ALCALA-FDEZ J 2011 J MULT-VALUED LOG S', '']\n",
        "65 --------- \n",
        "\n",
        "['ZHANG B 2009 IEEE I CONF COMP VIS', 'YU L. 2003 P 20 INT C MACH LEAR', 'WITTEN IH 2005 DATA MINING PRACTICA', 'VIDAL-NAQUET M. 2003 P ICCV', 'TUYTELAARS T. 2008 FDN TRENDS COMPUTER', 'QU GZ 2005 IEEE T KNOWL DATA EN', 'PENG HC 2005 IEEE T PATTERN ANAL', 'LIU H. 2011 P 20 ACM INT C INF K', 'LIN DH 2006 LECT NOTES COMPUT SC', 'KWAK N 2002 IEEE T PATTERN ANAL', 'KOTSIANTIS S. 2006 GESTS INT T COMPUTER', 'KERROUM MA 2010 PATTERN RECOGN LETT', 'KADIR T 2001 INT J COMPUT VISION', 'HSU C.-W. 2009 PRACTICAL GUIDE SUPP', 'HALL M. 1999 PROCEEDINGS OF THE TWELFTH INTERNATIONAL FLORIDA AI RESEARCH SOCIETY CONFERENCE', 'FLEURET F 2004 J MACH LEARN RES', 'FAYYAD UM 1993 P 13 INT JOINT C ART', 'DING C 2003 PROCEEDINGS OF THE 2003 IEEE BIOINFORMATICS CONFERENCE', 'COVER T. 1991 ELEMENTS INFORM THEO', 'CHING JY 1995 IEEE T PATTERN ANAL', 'CHEN YX 2006 IEEE T PATTERN ANAL', 'CHANG C.-C. 2001 LIBSVM LIB SUPPORT V', 'BALAGANI KS 2010 IEEE T PATTERN ANAL', 'ASUNCION A. 2010 UCI MACHINE LEARNING', 'ANG KK 2012 PATTERN RECOGN', 'AMBROISE C 2002 P NATL ACAD SCI USA', '']\n",
        "27 --------- \n",
        "\n",
        "['ZOU CL 2012 NAV RES LOG', 'ZOU CL 2011 TECHNOMETRICS', 'TAX D.M.J. 2001 THESIS DELF U TECHNO', 'SUN RX 2003 INT J PROD RES', 'STOUMBOS ZG 2002 J QUAL TECHNOL', 'ROYSTON   ', 'RAMASWAMY S. 2000 P INT C MAN DAT SIGM', 'QIU PH 2003 J ROY STAT SOC D-STA', 'QIU PH 2001 TECHNOMETRICS', 'QIU PH 2008 IIE TRANS', 'PHALADIGANON P 2011 COMMUN STAT-SIMUL C', 'NING XH 2012 IIE TRANS', 'MONTGOMERY D. 2005 INTRO STAT QUALITY C', 'MASON RL 1997 J QUAL TECHNOL', 'MASON R. 2002 MULTIVARIATE STAT PR', 'MARKOU M 2003 SIGNAL PROCESS', 'SWAINE DJ 1990 TRACE ELEMENTS COAL', 'SWAINE D. 1989 J COAL QUAL', 'SWAINE D. 1995 ENV ASPECTS TRACE EL', 'SNAKIN VV 1996 SOIL TECHNOL', 'LUCAS JM 1990 TECHNOMETRICS', 'LIU RY 1995 J AM STAT ASSOC', 'LIU R.Y. 2004 ALLGEMEINES STAT ARC', 'KANG P 2009 PATTERN RECOGN', 'KANG P 2008 PATTERN RECOGN', 'JUSZCZAK P 2009 NEUROCOMPUTING', 'HOTELLING H. 1947 MULTIVARIATE QUALITY', 'HODGE VJ 2004 ARTIF INTELL REV', 'HARMELING S 2006 NEUROCOMPUTING', 'MODIS K 2010 STOCH ENV RES RISK A', 'FRANK A. 2010 UCI MACHINE LEARNING', 'EFRON B. 1993 INTRO BOOTSTRAP', 'DAS N 2009 QUAL TECHNOL QUANT M', 'CHAKRABORTI S 2001 J QUAL TECHNOL', 'ANGIULLI F 2005 IEEE T KNOWL DATA EN', '']\n",
        "36 --------- \n",
        "\n"
       ]
      }
     ],
     "prompt_number": 320
    },
    {
     "cell_type": "code",
     "collapsed": false,
     "input": [
      "aList = [123, 'xyz', 'zadra', 'abc', 123,'zara'];\n",
      "\n",
      "if 'xayz' in aList:\n",
      "    print 'yeah'    \n",
      "\n",
      "print \"Count for 123 : \", aList.count(123);\n",
      "print \"Count for zara : \", aList.index('zara');"
     ],
     "language": "python",
     "metadata": {},
     "outputs": [
      {
       "output_type": "stream",
       "stream": "stdout",
       "text": [
        "Count for 123 :  2\n",
        "Count for zara :  5\n"
       ]
      }
     ],
     "prompt_number": 269
    },
    {
     "cell_type": "code",
     "collapsed": false,
     "input": [
      "\n",
      "            papers_dict=paper['ayjid']\n",
      "            print papers_dict\n",
      "            for each_paper in papers_dict:\n",
      "                for citation in paper['citations']:\n",
      "                    citation_str = citation['ayjid']\n",
      "                    print citation_dict\n",
      "                    try:\n",
      "                        paper_references[each_paper] += citation_str\n",
      "                    except KeyError:\n",
      "                        paper_references[each_paper] = citation_str\n",
      "            authors = author_institutions.keys()\n",
      "        for i in xrange(len(authors)):\n",
      "            coinstitution.add_node(authors[i],type ='author')  \n",
      "            for j in xrange(len(authors)):\n",
      "                if i != j:\n",
      "                    overlap = set(author_institutions[authors[i]]) & set(author_institutions[authors[j]]) #compare 2 author dict elements\n",
      "                    if len(overlap) >= threshold:\n",
      "                            coinstitution.add_node(authors[j],type ='author')            \n",
      "                            print authors[i] + \"->\" + authors[j]\n",
      "                            coinstitution.add_edge(authors[i], authors[j], overlap=len(overlap))\n",
      "                    else :\n",
      "                            pass\n",
      "                         \n",
      "                          "
     ],
     "language": "python",
     "metadata": {},
     "outputs": []
    },
    {
     "cell_type": "code",
     "collapsed": false,
     "input": [
      "list = [ {'paper1' : ['a1','a2','a3']} , {'paper2' : ['a4','5a','a2']}, {'paper3': ['a3','a2','a3']}]\n",
      "\n",
      "for l in list:\n",
      "    #print l, type(l)\n",
      "    for lis,val in l.iteritems():\n",
      "        #print lis,val\n",
      "        print val[1]\n",
      "\n",
      "author_institutions =   { 'paper1' : ['a1','a2','a3'], 'paper2' : ['a4','a5','a3'] }     \n",
      "authors = author_institutions.keys()\n",
      "values = author_institutions.values()\n",
      "print authors,values\n",
      "for author,value in authors,values:\n",
      "    for i in xrange(len(author)):\n",
      "        for j in xrange(len(value)):\n",
      "                print authors[i], values[i][j]\n"
     ],
     "language": "python",
     "metadata": {},
     "outputs": [
      {
       "ename": "IndexError",
       "evalue": "list index out of range",
       "output_type": "pyerr",
       "traceback": [
        "\u001b[0;31m---------------------------------------------------------------------------\u001b[0m\n\u001b[0;31mIndexError\u001b[0m                                Traceback (most recent call last)",
        "\u001b[0;32m<ipython-input-145-77899a1023a7>\u001b[0m in \u001b[0;36m<module>\u001b[0;34m()\u001b[0m\n\u001b[1;32m     14\u001b[0m     \u001b[0;32mfor\u001b[0m \u001b[0mi\u001b[0m \u001b[0;32min\u001b[0m \u001b[0mxrange\u001b[0m\u001b[0;34m(\u001b[0m\u001b[0mlen\u001b[0m\u001b[0;34m(\u001b[0m\u001b[0mauthor\u001b[0m\u001b[0;34m)\u001b[0m\u001b[0;34m)\u001b[0m\u001b[0;34m:\u001b[0m\u001b[0;34m\u001b[0m\u001b[0m\n\u001b[1;32m     15\u001b[0m         \u001b[0;32mfor\u001b[0m \u001b[0mj\u001b[0m \u001b[0;32min\u001b[0m \u001b[0mxrange\u001b[0m\u001b[0;34m(\u001b[0m\u001b[0mlen\u001b[0m\u001b[0;34m(\u001b[0m\u001b[0mvalue\u001b[0m\u001b[0;34m)\u001b[0m\u001b[0;34m)\u001b[0m\u001b[0;34m:\u001b[0m\u001b[0;34m\u001b[0m\u001b[0m\n\u001b[0;32m---> 16\u001b[0;31m                 \u001b[0;32mprint\u001b[0m \u001b[0mauthors\u001b[0m\u001b[0;34m[\u001b[0m\u001b[0mi\u001b[0m\u001b[0;34m]\u001b[0m\u001b[0;34m,\u001b[0m \u001b[0mvalues\u001b[0m\u001b[0;34m[\u001b[0m\u001b[0mi\u001b[0m\u001b[0;34m]\u001b[0m\u001b[0;34m[\u001b[0m\u001b[0mj\u001b[0m\u001b[0;34m]\u001b[0m\u001b[0;34m\u001b[0m\u001b[0m\n\u001b[0m",
        "\u001b[0;31mIndexError\u001b[0m: list index out of range"
       ]
      },
      {
       "output_type": "stream",
       "stream": "stdout",
       "text": [
        " a2\n",
        "5a\n",
        "a2\n",
        "['paper1', 'paper2'] [['a1', 'a2', 'a3'], ['a4', 'a5', 'a3']]\n",
        "paper1 a1\n",
        "paper1 a2\n",
        "paper1 a3\n",
        "paper1"
       ]
      }
     ],
     "prompt_number": 145
    },
    {
     "cell_type": "code",
     "collapsed": false,
     "input": [],
     "language": "python",
     "metadata": {},
     "outputs": []
    },
    {
     "cell_type": "code",
     "collapsed": false,
     "input": [
      "#right now this crashes: next step is to make networks not make any attributes\n",
      "#with value of None\n",
      "import tethne.readers as rd\n",
      "#filepath = \"../docs/savedrecs.txt\"\n",
      "filepath = \"/Users/ramki/tethne/tethne/testsuite/testin/semantic_web.txt\"\n",
      "wos_list = rd.parse_wos(filepath) \n",
      "meta_list = rd.wos2meta(wos_list)\n",
      "\n",
      "import tethne.networks as nt\n",
      "cites, internal_cites = nt.nx_citations(meta_list, 'ayjid', 'atitle', 'date',\n",
      "                                        'badkey', 'jtitle') \n",
      "\n",
      "import tethne.writers as wr\n",
      "wr.to_gexf(cites, \"/Users/ramki/output/cites\" )\n",
      "wr.to_gexf(internal_cites, \"/Users/ramki/output/internal_cites\")\n"
     ],
     "language": "python",
     "metadata": {},
     "outputs": [
      {
       "ename": "KeyError",
       "evalue": "<type 'NoneType'>",
       "output_type": "pyerr",
       "traceback": [
        "\u001b[0;31m---------------------------------------------------------------------------\u001b[0m\n\u001b[0;31mKeyError\u001b[0m                                  Traceback (most recent call last)",
        "\u001b[0;32m<ipython-input-21-52ca9f674ea6>\u001b[0m in \u001b[0;36m<module>\u001b[0;34m()\u001b[0m\n\u001b[1;32m     12\u001b[0m \u001b[0;34m\u001b[0m\u001b[0m\n\u001b[1;32m     13\u001b[0m \u001b[0;32mimport\u001b[0m \u001b[0mtethne\u001b[0m\u001b[0;34m.\u001b[0m\u001b[0mwriters\u001b[0m \u001b[0;32mas\u001b[0m \u001b[0mwr\u001b[0m\u001b[0;34m\u001b[0m\u001b[0m\n\u001b[0;32m---> 14\u001b[0;31m \u001b[0mwr\u001b[0m\u001b[0;34m.\u001b[0m\u001b[0mto_gexf\u001b[0m\u001b[0;34m(\u001b[0m\u001b[0mcites\u001b[0m\u001b[0;34m,\u001b[0m \u001b[0;34m\"/Users/ramki/output/cites\"\u001b[0m \u001b[0;34m)\u001b[0m\u001b[0;34m\u001b[0m\u001b[0m\n\u001b[0m\u001b[1;32m     15\u001b[0m \u001b[0mwr\u001b[0m\u001b[0;34m.\u001b[0m\u001b[0mto_gexf\u001b[0m\u001b[0;34m(\u001b[0m\u001b[0minternal_cites\u001b[0m\u001b[0;34m,\u001b[0m \u001b[0;34m\"/Users/ramki/output/internal_cites\"\u001b[0m\u001b[0;34m)\u001b[0m\u001b[0;34m\u001b[0m\u001b[0m\n",
        "\u001b[0;32m/Users/ramki/tethne/tethne/writers.pyc\u001b[0m in \u001b[0;36mto_gexf\u001b[0;34m(graph, output_path)\u001b[0m\n\u001b[1;32m    133\u001b[0m \u001b[0;32mdef\u001b[0m \u001b[0mto_gexf\u001b[0m\u001b[0;34m(\u001b[0m\u001b[0mgraph\u001b[0m\u001b[0;34m,\u001b[0m \u001b[0moutput_path\u001b[0m\u001b[0;34m)\u001b[0m\u001b[0;34m:\u001b[0m\u001b[0;34m\u001b[0m\u001b[0m\n\u001b[1;32m    134\u001b[0m     \u001b[0;34m\"\"\"Writes the provided graph to a GEXF-format network file.\"\"\"\u001b[0m\u001b[0;34m\u001b[0m\u001b[0m\n\u001b[0;32m--> 135\u001b[0;31m     \u001b[0mnx\u001b[0m\u001b[0;34m.\u001b[0m\u001b[0mwrite_gexf\u001b[0m\u001b[0;34m(\u001b[0m\u001b[0mgraph\u001b[0m\u001b[0;34m,\u001b[0m \u001b[0moutput_path\u001b[0m \u001b[0;34m+\u001b[0m \u001b[0;34m\".gexf\"\u001b[0m\u001b[0;34m)\u001b[0m\u001b[0;34m\u001b[0m\u001b[0m\n\u001b[0m\u001b[1;32m    136\u001b[0m \u001b[0;34m\u001b[0m\u001b[0m\n\u001b[1;32m    137\u001b[0m \u001b[0;34m\u001b[0m\u001b[0m\n",
        "\u001b[0;32m/Library/Python/2.7/site-packages/networkx/readwrite/gexf.pyc\u001b[0m in \u001b[0;36mwrite_gexf\u001b[0;34m(G, path, encoding, prettyprint, version)\u001b[0m\n",
        "\u001b[0;32m/Library/Python/2.7/site-packages/networkx/utils/decorators.pyc\u001b[0m in \u001b[0;36m_open_file\u001b[0;34m(func, *args, **kwargs)\u001b[0m\n\u001b[1;32m    261\u001b[0m         \u001b[0;31m# Finally, we call the original function, making sure to close the fobj.\u001b[0m\u001b[0;34m\u001b[0m\u001b[0;34m\u001b[0m\u001b[0m\n\u001b[1;32m    262\u001b[0m         \u001b[0;32mtry\u001b[0m\u001b[0;34m:\u001b[0m\u001b[0;34m\u001b[0m\u001b[0m\n\u001b[0;32m--> 263\u001b[0;31m             \u001b[0mresult\u001b[0m \u001b[0;34m=\u001b[0m \u001b[0mfunc\u001b[0m\u001b[0;34m(\u001b[0m\u001b[0;34m*\u001b[0m\u001b[0mnew_args\u001b[0m\u001b[0;34m,\u001b[0m \u001b[0;34m**\u001b[0m\u001b[0mkwargs\u001b[0m\u001b[0;34m)\u001b[0m\u001b[0;34m\u001b[0m\u001b[0m\n\u001b[0m\u001b[1;32m    264\u001b[0m         \u001b[0;32mfinally\u001b[0m\u001b[0;34m:\u001b[0m\u001b[0;34m\u001b[0m\u001b[0m\n\u001b[1;32m    265\u001b[0m             \u001b[0;32mif\u001b[0m \u001b[0mclose_fobj\u001b[0m\u001b[0;34m:\u001b[0m\u001b[0;34m\u001b[0m\u001b[0m\n",
        "\u001b[0;32m/Library/Python/2.7/site-packages/networkx/readwrite/gexf.pyc\u001b[0m in \u001b[0;36mwrite_gexf\u001b[0;34m(G, path, encoding, prettyprint, version)\u001b[0m\n\u001b[1;32m     75\u001b[0m     writer = GEXFWriter(encoding=encoding,prettyprint=prettyprint,\n\u001b[1;32m     76\u001b[0m                         version=version)\n\u001b[0;32m---> 77\u001b[0;31m     \u001b[0mwriter\u001b[0m\u001b[0;34m.\u001b[0m\u001b[0madd_graph\u001b[0m\u001b[0;34m(\u001b[0m\u001b[0mG\u001b[0m\u001b[0;34m)\u001b[0m\u001b[0;34m\u001b[0m\u001b[0m\n\u001b[0m\u001b[1;32m     78\u001b[0m     \u001b[0mwriter\u001b[0m\u001b[0;34m.\u001b[0m\u001b[0mwrite\u001b[0m\u001b[0;34m(\u001b[0m\u001b[0mpath\u001b[0m\u001b[0;34m)\u001b[0m\u001b[0;34m\u001b[0m\u001b[0m\n\u001b[1;32m     79\u001b[0m \u001b[0;34m\u001b[0m\u001b[0m\n",
        "\u001b[0;32m/Library/Python/2.7/site-packages/networkx/readwrite/gexf.pyc\u001b[0m in \u001b[0;36madd_graph\u001b[0;34m(self, G)\u001b[0m\n\u001b[1;32m    285\u001b[0m         \u001b[0mgraph_element\u001b[0m \u001b[0;34m=\u001b[0m \u001b[0mElement\u001b[0m\u001b[0;34m(\u001b[0m\u001b[0;34m\"graph\"\u001b[0m\u001b[0;34m,\u001b[0m\u001b[0mdefaultedgetype\u001b[0m\u001b[0;34m=\u001b[0m\u001b[0mdefault\u001b[0m\u001b[0;34m,\u001b[0m\u001b[0mmode\u001b[0m\u001b[0;34m=\u001b[0m\u001b[0mself\u001b[0m\u001b[0;34m.\u001b[0m\u001b[0mmode\u001b[0m\u001b[0;34m)\u001b[0m\u001b[0;34m\u001b[0m\u001b[0m\n\u001b[1;32m    286\u001b[0m         \u001b[0mself\u001b[0m\u001b[0;34m.\u001b[0m\u001b[0mgraph_element\u001b[0m\u001b[0;34m=\u001b[0m\u001b[0mgraph_element\u001b[0m\u001b[0;34m\u001b[0m\u001b[0m\n\u001b[0;32m--> 287\u001b[0;31m         \u001b[0mself\u001b[0m\u001b[0;34m.\u001b[0m\u001b[0madd_nodes\u001b[0m\u001b[0;34m(\u001b[0m\u001b[0mG\u001b[0m\u001b[0;34m,\u001b[0m\u001b[0mgraph_element\u001b[0m\u001b[0;34m)\u001b[0m\u001b[0;34m\u001b[0m\u001b[0m\n\u001b[0m\u001b[1;32m    288\u001b[0m         \u001b[0mself\u001b[0m\u001b[0;34m.\u001b[0m\u001b[0madd_edges\u001b[0m\u001b[0;34m(\u001b[0m\u001b[0mG\u001b[0m\u001b[0;34m,\u001b[0m\u001b[0mgraph_element\u001b[0m\u001b[0;34m)\u001b[0m\u001b[0;34m\u001b[0m\u001b[0m\n\u001b[1;32m    289\u001b[0m         \u001b[0mself\u001b[0m\u001b[0;34m.\u001b[0m\u001b[0mxml\u001b[0m\u001b[0;34m.\u001b[0m\u001b[0mappend\u001b[0m\u001b[0;34m(\u001b[0m\u001b[0mgraph_element\u001b[0m\u001b[0;34m)\u001b[0m\u001b[0;34m\u001b[0m\u001b[0m\n",
        "\u001b[0;32m/Library/Python/2.7/site-packages/networkx/readwrite/gexf.pyc\u001b[0m in \u001b[0;36madd_nodes\u001b[0;34m(self, G, graph_element)\u001b[0m\n\u001b[1;32m    316\u001b[0m             \u001b[0mnode_data\u001b[0m\u001b[0;34m=\u001b[0m\u001b[0mself\u001b[0m\u001b[0;34m.\u001b[0m\u001b[0madd_viz\u001b[0m\u001b[0;34m(\u001b[0m\u001b[0mnode_element\u001b[0m\u001b[0;34m,\u001b[0m\u001b[0mnode_data\u001b[0m\u001b[0;34m)\u001b[0m\u001b[0;34m\u001b[0m\u001b[0m\n\u001b[1;32m    317\u001b[0m             node_data=self.add_attributes(\"node\", node_element,\n\u001b[0;32m--> 318\u001b[0;31m                                           node_data, default)\n\u001b[0m\u001b[1;32m    319\u001b[0m             \u001b[0mnodes_element\u001b[0m\u001b[0;34m.\u001b[0m\u001b[0mappend\u001b[0m\u001b[0;34m(\u001b[0m\u001b[0mnode_element\u001b[0m\u001b[0;34m)\u001b[0m\u001b[0;34m\u001b[0m\u001b[0m\n\u001b[1;32m    320\u001b[0m         \u001b[0mgraph_element\u001b[0m\u001b[0;34m.\u001b[0m\u001b[0mappend\u001b[0m\u001b[0;34m(\u001b[0m\u001b[0mnodes_element\u001b[0m\u001b[0;34m)\u001b[0m\u001b[0;34m\u001b[0m\u001b[0m\n",
        "\u001b[0;32m/Library/Python/2.7/site-packages/networkx/readwrite/gexf.pyc\u001b[0m in \u001b[0;36madd_attributes\u001b[0;34m(self, node_or_edge, xml_obj, data, default)\u001b[0m\n\u001b[1;32m    379\u001b[0m             \u001b[0;32mif\u001b[0m \u001b[0mk\u001b[0m \u001b[0;34m==\u001b[0m \u001b[0;34m'key'\u001b[0m\u001b[0;34m:\u001b[0m\u001b[0;34m\u001b[0m\u001b[0m\n\u001b[1;32m    380\u001b[0m                 \u001b[0mk\u001b[0m\u001b[0;34m=\u001b[0m\u001b[0;34m'networkx_key'\u001b[0m\u001b[0;34m\u001b[0m\u001b[0m\n\u001b[0;32m--> 381\u001b[0;31m             attr_id = self.get_attr_id(make_str(k), self.xml_type[type(v)],\n\u001b[0m\u001b[1;32m    382\u001b[0m                                        node_or_edge, default, mode)\n\u001b[1;32m    383\u001b[0m             \u001b[0;32mif\u001b[0m \u001b[0mtype\u001b[0m\u001b[0;34m(\u001b[0m\u001b[0mv\u001b[0m\u001b[0;34m)\u001b[0m\u001b[0;34m==\u001b[0m\u001b[0mlist\u001b[0m\u001b[0;34m:\u001b[0m\u001b[0;34m\u001b[0m\u001b[0m\n",
        "\u001b[0;31mKeyError\u001b[0m: <type 'NoneType'>"
       ]
      }
     ],
     "prompt_number": 21
    },
    {
     "cell_type": "code",
     "collapsed": false,
     "input": [
      "str = \"    Baresi L., 2007, SERVICE ORIENTED COM, V1, P75, DOI 10.1007/s11761-007-0004-1 \"\n",
      "str_list = str.split(',')\n",
      "print str_list\n",
      "print str_list[5][5:]\n",
      "for st in str_list:\n",
      "    print st\n",
      "    #print st.index('2007',20)\n",
      "    \n",
      "        \n",
      "    \n",
      "    \n",
      "        "
     ],
     "language": "python",
     "metadata": {},
     "outputs": [
      {
       "output_type": "stream",
       "stream": "stdout",
       "text": [
        "['    Baresi L.', ' 2007', ' SERVICE ORIENTED COM', ' V1', ' P75', ' DOI 10.1007/s11761-007-0004-1 ']\n",
        "10.1007/s11761-007-0004-1 \n",
        "    Baresi L.\n",
        " 2007\n",
        " SERVICE ORIENTED COM\n",
        " V1\n",
        " P75\n",
        " DOI 10.1007/s11761-007-0004-1 \n"
       ]
      }
     ],
     "prompt_number": 167
    }
   ],
   "metadata": {}
  }
 ]
}
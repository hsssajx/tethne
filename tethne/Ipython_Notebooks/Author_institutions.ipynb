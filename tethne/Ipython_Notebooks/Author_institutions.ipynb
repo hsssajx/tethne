{
 "metadata": {
  "name": ""
 },
 "nbformat": 3,
 "nbformat_minor": 0,
 "worksheets": [
  {
   "cells": [
    {
     "cell_type": "code",
     "collapsed": false,
     "input": [
      "import tethne.readers as rd\n",
      "filepath = \"/Users/ramki/tethne/tethne/testsuite/testin/2_testrecords.txt\"\n",
      "wos_list = rd.parse_wos(filepath)\n",
      "\n",
      "\n",
      "meta_list=rd.wos2meta(wos_list)    \n",
      "print '\\n', meta_list\n"
     ],
     "language": "python",
     "metadata": {},
     "outputs": [
      {
       "ename": "ValueError",
       "evalue": "'Wu, Zongda, Lu, Chenglang' is not in list",
       "output_type": "pyerr",
       "traceback": [
        "\u001b[0;31m---------------------------------------------------------------------------\u001b[0m\n\u001b[0;31mValueError\u001b[0m                                Traceback (most recent call last)",
        "\u001b[0;32m<ipython-input-11-09edca85461e>\u001b[0m in \u001b[0;36m<module>\u001b[0;34m()\u001b[0m\n\u001b[1;32m      4\u001b[0m \u001b[0;34m\u001b[0m\u001b[0m\n\u001b[1;32m      5\u001b[0m \u001b[0;34m\u001b[0m\u001b[0m\n\u001b[0;32m----> 6\u001b[0;31m \u001b[0mmeta_list\u001b[0m\u001b[0;34m=\u001b[0m\u001b[0mrd\u001b[0m\u001b[0;34m.\u001b[0m\u001b[0mwos2meta\u001b[0m\u001b[0;34m(\u001b[0m\u001b[0mwos_list\u001b[0m\u001b[0;34m)\u001b[0m\u001b[0;34m\u001b[0m\u001b[0m\n\u001b[0m\u001b[1;32m      7\u001b[0m \u001b[0;32mprint\u001b[0m \u001b[0;34m'\\n'\u001b[0m\u001b[0;34m,\u001b[0m \u001b[0mmeta_list\u001b[0m\u001b[0;34m\u001b[0m\u001b[0m\n",
        "\u001b[0;32m/Users/ramki/tethne/tethne/readers.py\u001b[0m in \u001b[0;36mwos2meta\u001b[0;34m(wos_data)\u001b[0m\n\u001b[1;32m    487\u001b[0m                         \u001b[0;31m#  as our mapping key to ensure consistency with older\u001b[0m\u001b[0;34m\u001b[0m\u001b[0;34m\u001b[0m\u001b[0m\n\u001b[1;32m    488\u001b[0m                         \u001b[0;31m#  datasets.\u001b[0m\u001b[0;34m\u001b[0m\u001b[0;34m\u001b[0m\u001b[0m\n\u001b[0;32m--> 489\u001b[0;31m                         \u001b[0mauthor_index\u001b[0m \u001b[0;34m=\u001b[0m \u001b[0mwos_dict\u001b[0m\u001b[0;34m[\u001b[0m\u001b[0;34m'AF'\u001b[0m\u001b[0;34m]\u001b[0m\u001b[0;34m.\u001b[0m\u001b[0mindex\u001b[0m\u001b[0;34m(\u001b[0m\u001b[0mauthor\u001b[0m\u001b[0;34m)\u001b[0m\u001b[0;34m\u001b[0m\u001b[0m\n\u001b[0m\u001b[1;32m    490\u001b[0m                         \u001b[0;32mprint\u001b[0m \u001b[0;34m'\\n author index'\u001b[0m\u001b[0;34m,\u001b[0m \u001b[0mauthor_index\u001b[0m\u001b[0;34m\u001b[0m\u001b[0m\n\u001b[1;32m    491\u001b[0m \u001b[0;34m\u001b[0m\u001b[0m\n",
        "\u001b[0;31mValueError\u001b[0m: 'Wu, Zongda, Lu, Chenglang' is not in list"
       ]
      },
      {
       "output_type": "stream",
       "stream": "stdout",
       "text": [
        "\n",
        " wos_dict {'EM': 'zongda1983@163.com; guandong.xu@vu.edu.au; chenglang.lu@qq.com; cheneh@ustc.edu.cn', '': '', 'AB': \"Web advertising, a form of online advertising, which uses the Internet as a medium to post product or service information and attract customers, has become one of the most important marketing channels. As one prevalent type of web advertising, contextual advertising refers to the placement of the most relevant ads at appropriate positions of a web page, so as to provide a better user experience and increase the user's ad-click rate. However, most existing contextual advertising techniques only take into account how to select as relevant ads for a given page as possible, without considering the positional effect of the ad placement on the page, resulting in an unsatisfactory performance in ad local context relevance. In this paper, we address the novel problem of position-wise contextual advertising, i.e., how to select and place relevant ads properly for a target web page. In our proposed approach, the relevant ads are selected based on not only global context relevance but also local context relevance, so that the embedded ads yield contextual relevance to both the whole target page and the insertion positions where the ads are placed. In addition, to improve the accuracy of global and local context relevance measure, the rich wikipedia knowledge is used to enhance the semantic feature representation of pages and ad candidates. Last, we evaluate our approach using a set of ads and pages downloaded from the Internet, and demonstrate the effectiveness of our approach. (c) 2013 Elsevier B.V. All rights reserved.\", 'WC': 'Computer Science, Artificial Intelligence', 'FU': 'NSFC [61202171, 61272018, 60775037, 71090401/71090400]; China Postdoctoral Science Foundation [2012M521251, 2013T60623]; Doctoral Program of Higher Education of China [20093402110017, 20113402110024]; Zhejiang Provincial Natural Science Foundation of China [Q13F020034, Y1100769, Y1090328]', 'DI': '10.1016/j.neucom.2013.04.018', 'FX': 'The work is supported by Grants from the NSFC projects (Nos.61202171,61272018,60775037,71090401/71090400), the China Postdoctoral Science Foundation funded projects (Nos.2012M521251 and 2013T60623), the Doctoral Program of Higher Education of China (Nos.20093402110017,20113402110024) and the Zhejiang Provincial Natural Science Foundation of China (Nos.Q13F020034,Y1100769, Y1090328).', 'IS': None, 'DE': ['Wikipedia knowledge', ' Similarity', ' Contextual advertising'], 'VL': '120', 'AU': ['Wu, ZD', 'Xu, GD', 'Lu, CL', 'Chen, EH', 'Zhang, YC', 'Zhang, H'], 'JI': 'Neurocomputing', 'AF': ['Wu, Zongda', 'Xu, Guandong', 'Lu, Chenglang', 'Chen, Enhong', 'Zhang, Yanchun', 'Zhang, Hong'], 'CR': ['Anagnostopoulos A., 2007, CIKM 07, P331', 'Boyd S., 2004, CONVEX OPTIMIZATION', 'Broder A., 2007, SIGIR 07, P559', 'Chatterjee P, 2003, MARKET SCI, V22, P520, DOI 10.1287/mksc.22.4.520.24906', 'Fan TK, 2010, KNOWL INF SYST, V23, P321, DOI 10.1007/s10115-009-0222-2', 'Gupta S., 2009, ESWA, V36, P10627', 'Gupta S, 2005, WORLD WIDE WEB, V8, P179, DOI 10.1007/s11280-004-4873-3', 'Hu J., 2008, SIGIR 08, P179', 'Hu J., 2009, WWW 09, P471', 'Hu XH, 2009, KDD-09: 15TH ACM SIGKDD CONFERENCE ON KNOWLEDGE DISCOVERY AND DATA MINING, P389', 'Mei T., 2012, ACM TOMCCAP, V8', 'Mei T., 2008, MM 08, P439', 'Mei T., 2011, P IEEE, V98, P1416', 'Murdock V., 2007, SIGKDD WORKSH 07, P21', 'Pak A. N., 2011, P 4 INT C HUM LANG T, P533', 'Pak AN, 2010, WORLD WIDE WEB, V13, P251, DOI 10.1007/s11280-010-0084-2', 'Papadopoulos S, 2009, LECT NOTES COMPUT SC, V5478, P216, DOI 10.1007/978-3-642-00958-7_21', 'Ribeiro-Neto B., 2005, SIGIR 2005. Proceedings of the Twenty-Eighth Annual International ACM SIGIR Conference on Research and Development in Information Retrieval', 'SALTON G, 1975, COMMUN ACM, V18, P613, DOI 10.1145/361219.361220', 'Wu HC, 2008, ACM T INFORM SYST, V26, DOI 10.1145/1361684.1361686', 'Wu Z. D., 2011, CIKM 11, P2105', 'Wu ZD, 2012, COMPUT J, V55, P277, DOI 10.1093/comjnl/bxr056'], 'DT': 'Article', 'GA': '223XZ', 'EP': '535', 'ER': '', 'PG': '12', 'PU': 'ELSEVIER SCIENCE BV', 'PI': 'AMSTERDAM', 'J9': 'NEUROCOMPUTING', 'PT': 'J', 'LA': 'English', 'UT': 'WOS:000324847100057', 'PY': 2013, 'ID': ['MATCHING APPROACH'], 'SI': 'SI', 'PA': 'PO BOX 211, 1000 AE AMSTERDAM, NETHERLANDS', 'SO': 'NEUROCOMPUTING', 'Z9': '0', 'PD': 'NOV 23', 'TI': 'Position-wise contextual advertising: Placing relevant ads at appropriate positions of a web page', 'SC': 'Computer Science', 'BP': '524', 'C1': ['[Wu, Zongda, Lu, Chenglang] Wenzhou Univ, Wenzhou 325035, Peoples R China.', 'RP Lu, CL (reprint author), Wenzhou Univ, Wenzhou 325035, Peoples R China.'], 'NR': '22', 'TC': '0', 'SN': '0925-2312'}\n",
        "['Wu, Zongda, Lu, Chenglang']\n",
        "\n",
        " institution ['Wenzhou Univ', 'Wenzhou 325035', 'Peoples R China.']\n"
       ]
      }
     ],
     "prompt_number": 11
    },
    {
     "cell_type": "code",
     "collapsed": false,
     "input": [
      "A =dict()\n",
      "B =dict()\n",
      "\n",
      "A= {'A1' : 'I1', 'A2' : 'I1', 'A3' : 'I1','A4' : 'I1'}\n",
      "B= {'A1' : 'I2', 'A2' : 'I3', 'A5' : 'I2','A8' : 'I5'}\n",
      "print A,B\n",
      "\n",
      "for key,val in A.iteritems(),B.iteritems() :\n",
      "    if A[key] == B[key] :\n",
      "        print 'yes'\n",
      "    else :\n",
      "        print 'no'\n",
      "    \n",
      "        \n"
     ],
     "language": "python",
     "metadata": {},
     "outputs": [
      {
       "ename": "ValueError",
       "evalue": "too many values to unpack",
       "output_type": "pyerr",
       "traceback": [
        "\u001b[0;31m---------------------------------------------------------------------------\u001b[0m\n\u001b[0;31mValueError\u001b[0m                                Traceback (most recent call last)",
        "\u001b[0;32m<ipython-input-9-14ad61900e45>\u001b[0m in \u001b[0;36m<module>\u001b[0;34m()\u001b[0m\n\u001b[1;32m      6\u001b[0m \u001b[0;32mprint\u001b[0m \u001b[0mA\u001b[0m\u001b[0;34m,\u001b[0m\u001b[0mB\u001b[0m\u001b[0;34m\u001b[0m\u001b[0m\n\u001b[1;32m      7\u001b[0m \u001b[0;34m\u001b[0m\u001b[0m\n\u001b[0;32m----> 8\u001b[0;31m \u001b[0;32mfor\u001b[0m \u001b[0mkey\u001b[0m\u001b[0;34m,\u001b[0m\u001b[0mval\u001b[0m \u001b[0;32min\u001b[0m \u001b[0mA\u001b[0m\u001b[0;34m.\u001b[0m\u001b[0miteritems\u001b[0m\u001b[0;34m(\u001b[0m\u001b[0;34m)\u001b[0m\u001b[0;34m,\u001b[0m\u001b[0mB\u001b[0m\u001b[0;34m.\u001b[0m\u001b[0miteritems\u001b[0m\u001b[0;34m(\u001b[0m\u001b[0;34m)\u001b[0m \u001b[0;34m:\u001b[0m\u001b[0;34m\u001b[0m\u001b[0m\n\u001b[0m\u001b[1;32m      9\u001b[0m     \u001b[0;32mif\u001b[0m \u001b[0mA\u001b[0m\u001b[0;34m[\u001b[0m\u001b[0mkey\u001b[0m\u001b[0;34m]\u001b[0m \u001b[0;34m==\u001b[0m \u001b[0mB\u001b[0m\u001b[0;34m[\u001b[0m\u001b[0mkey\u001b[0m\u001b[0;34m]\u001b[0m \u001b[0;34m:\u001b[0m\u001b[0;34m\u001b[0m\u001b[0m\n\u001b[1;32m     10\u001b[0m         \u001b[0;32mprint\u001b[0m \u001b[0;34m'yes'\u001b[0m\u001b[0;34m\u001b[0m\u001b[0m\n",
        "\u001b[0;31mValueError\u001b[0m: too many values to unpack"
       ]
      },
      {
       "output_type": "stream",
       "stream": "stdout",
       "text": [
        "{'A1': 'I1', 'A3': 'I1', 'A2': 'I1', 'A4': 'I1'} {'A1': 'I2', 'A8': 'I5', 'A2': 'I3', 'A5': 'I2'}\n"
       ]
      }
     ],
     "prompt_number": 9
    },
    {
     "cell_type": "code",
     "collapsed": false,
     "input": [
      "fruit_available = {'apples': 25, 'oranges': 0, 'mango': 12, 'pineapple': 0 }\n",
      "\n",
      "my_satchel = {'apples': 1, 'oranges': 0, 'kiwi': 13 }\n",
      "\n",
      "available = set(fruit_available.keys())\n",
      "satchel = set(my_satchel.keys())\n",
      "\n",
      "# fruit not in your satchel, but that is available\n",
      "print available.difference(satchel)\n"
     ],
     "language": "python",
     "metadata": {},
     "outputs": [
      {
       "output_type": "stream",
       "stream": "stdout",
       "text": [
        "set(['mango', 'pineapple'])\n"
       ]
      }
     ],
     "prompt_number": 10
    },
    {
     "cell_type": "code",
     "collapsed": false,
     "input": [
      "import tethne.readers as rd\n",
      "filepath = \"/Users/ramki/tethne/tethne/testsuite/testin/2_testrecords.txt\"\n",
      "wos_list = rd.parse_wos(filepath)\n",
      "\n"
     ],
     "language": "python",
     "metadata": {},
     "outputs": [
      {
       "ename": "UnboundLocalError",
       "evalue": "local variable 'wos_dict' referenced before assignment",
       "output_type": "pyerr",
       "traceback": [
        "\u001b[0;31m---------------------------------------------------------------------------\u001b[0m\n\u001b[0;31mUnboundLocalError\u001b[0m                         Traceback (most recent call last)",
        "\u001b[0;32m<ipython-input-2-09df222b75eb>\u001b[0m in \u001b[0;36m<module>\u001b[0;34m()\u001b[0m\n\u001b[1;32m      1\u001b[0m \u001b[0;32mimport\u001b[0m \u001b[0mtethne\u001b[0m\u001b[0;34m.\u001b[0m\u001b[0mreaders\u001b[0m \u001b[0;32mas\u001b[0m \u001b[0mrd\u001b[0m\u001b[0;34m\u001b[0m\u001b[0m\n\u001b[1;32m      2\u001b[0m \u001b[0mfilepath\u001b[0m \u001b[0;34m=\u001b[0m \u001b[0;34m\"/Users/ramki/tethne/tethne/testsuite/testin/2_testrecords.txt\"\u001b[0m\u001b[0;34m\u001b[0m\u001b[0m\n\u001b[0;32m----> 3\u001b[0;31m \u001b[0mwos_list\u001b[0m \u001b[0;34m=\u001b[0m \u001b[0mrd\u001b[0m\u001b[0;34m.\u001b[0m\u001b[0mparse_wos\u001b[0m\u001b[0;34m(\u001b[0m\u001b[0mfilepath\u001b[0m\u001b[0;34m)\u001b[0m\u001b[0;34m\u001b[0m\u001b[0m\n\u001b[0m\u001b[1;32m      4\u001b[0m \u001b[0;34m\u001b[0m\u001b[0m\n\u001b[1;32m      5\u001b[0m \u001b[0;32mif\u001b[0m \u001b[0mwos_dict\u001b[0m\u001b[0;34m[\u001b[0m\u001b[0;34m'C1'\u001b[0m\u001b[0;34m]\u001b[0m \u001b[0;32mis\u001b[0m \u001b[0;32mnot\u001b[0m \u001b[0mNone\u001b[0m\u001b[0;34m:\u001b[0m\u001b[0;34m\u001b[0m\u001b[0m\n",
        "\u001b[0;32m/Users/ramki/tethne/tethne/readers.py\u001b[0m in \u001b[0;36mparse_wos\u001b[0;34m(filepath)\u001b[0m\n\u001b[1;32m    207\u001b[0m                 \u001b[0mwos_dict\u001b[0m\u001b[0;34m[\u001b[0m\u001b[0mfield_tag\u001b[0m\u001b[0;34m]\u001b[0m \u001b[0;34m+=\u001b[0m \u001b[0;34m'\\n'\u001b[0m \u001b[0;34m+\u001b[0m \u001b[0mstr\u001b[0m\u001b[0;34m(\u001b[0m\u001b[0mline\u001b[0m\u001b[0;34m[\u001b[0m\u001b[0;36m3\u001b[0m\u001b[0;34m:\u001b[0m\u001b[0;34m]\u001b[0m\u001b[0;34m)\u001b[0m\u001b[0;34m\u001b[0m\u001b[0m\n\u001b[1;32m    208\u001b[0m             \u001b[0;32melse\u001b[0m\u001b[0;34m:\u001b[0m\u001b[0;34m\u001b[0m\u001b[0m\n\u001b[0;32m--> 209\u001b[0;31m                 \u001b[0mwos_dict\u001b[0m\u001b[0;34m[\u001b[0m\u001b[0mfield_tag\u001b[0m\u001b[0;34m]\u001b[0m \u001b[0;34m+=\u001b[0m \u001b[0;34m' '\u001b[0m \u001b[0;34m+\u001b[0m \u001b[0mstr\u001b[0m\u001b[0;34m(\u001b[0m\u001b[0mline\u001b[0m\u001b[0;34m[\u001b[0m\u001b[0;36m3\u001b[0m\u001b[0;34m:\u001b[0m\u001b[0;34m]\u001b[0m\u001b[0;34m)\u001b[0m\u001b[0;34m\u001b[0m\u001b[0m\n\u001b[0m\u001b[1;32m    210\u001b[0m         \u001b[0;32mexcept\u001b[0m \u001b[0;34m(\u001b[0m\u001b[0mKeyError\u001b[0m\u001b[0;34m,\u001b[0m \u001b[0mTypeError\u001b[0m\u001b[0;34m)\u001b[0m\u001b[0;34m:\u001b[0m\u001b[0;34m\u001b[0m\u001b[0m\n\u001b[1;32m    211\u001b[0m             \u001b[0;31m#key didn't exist already, can't append but must create\u001b[0m\u001b[0;34m\u001b[0m\u001b[0;34m\u001b[0m\u001b[0m\n",
        "\u001b[0;31mUnboundLocalError\u001b[0m: local variable 'wos_dict' referenced before assignment"
       ]
      },
      {
       "output_type": "stream",
       "stream": "stdout",
       "text": [
        "comes in readers.parsewos - V6\n"
       ]
      }
     ],
     "prompt_number": 2
    },
    {
     "cell_type": "code",
     "collapsed": false,
     "input": [
      " au=['Hristoskova, Anna', ' Volckaert, Bruno', ' De Turck, Filip']\n",
      " ins = [ 'ASU']\n",
      "    \n",
      " au_ins= dict()   \n",
      " #print au\n",
      " #print ins   \n",
      "    \n",
      " for i in au:\n",
      "     for a in ins:   \n",
      "        \n",
      "        try:\n",
      "            au_ins[i].append(a)\n",
      "            \n",
      "        except KeyError,AttributeError:\n",
      "            au_ins[i] = a\n",
      "            \n",
      " print au_ins           "
     ],
     "language": "python",
     "metadata": {},
     "outputs": [
      {
       "output_type": "stream",
       "stream": "stdout",
       "text": [
        "{' De Turck, Filip': 'ASU', ' Volckaert, Bruno': 'ASU', 'Hristoskova, Anna': 'ASU'}\n"
       ]
      }
     ],
     "prompt_number": 13
    }
   ],
   "metadata": {}
  }
 ]
}
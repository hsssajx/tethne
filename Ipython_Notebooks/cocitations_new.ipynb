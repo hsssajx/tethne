{
 "metadata": {
  "name": ""
 },
 "nbformat": 3,
 "nbformat_minor": 0,
 "worksheets": [
  {
   "cells": [
    {
     "cell_type": "code",
     "collapsed": false,
     "input": [
      "import tethne.readers as rd\n",
      "filepath = \"../testsuite/testin/paper_cocitations#62809724.txt\"\n",
      "wos_list = rd.wos.parse_wos(filepath)\n",
      "\n",
      "meta_list=rd.wos.wos2meta(wos_list)\n",
      "\n",
      "import tethne.networks as nt\n",
      "for paper in meta_list:\n",
      "    print paper['ayjid']\n",
      "    \n",
      "coinst = nt.papers.cocitation(meta_list, 2)\n",
      "cocit = nt.papers.citation_count(meta_list)\n",
      "\n",
      "print \"cocit\", cocit\n",
      "\n",
      "#asstr=('ADRIANO D. 2001 TRACE ELEMENTS TERRE', 'RAO J 1992 RNEA TECHN B SER LAN')\n",
      "#print asstr[1]\n",
      "\n",
      "import tethne.writers as wr\n",
      "wr.graph.to_gexf(coinst, \"../testsuite/testout/cocitation_1threshold_dec31\")\n"
     ],
     "language": "python",
     "metadata": {},
     "outputs": [
      {
       "output_type": "stream",
       "stream": "stdout",
       "text": [
        "MODIS K 2014 \n",
        "TUERHONG G 2014 \n",
        "Generating citation counts for 2 papers...\n",
        "Generating a cocitation network...\n",
        "Co-citation matrix generated, building Graph...\n",
        "Done building co-citation graph, adding attributes...\n",
        "True\n",
        "Generating citation counts for 2 papers...\n",
        "cocit {'XIAO HY 2011 SOIL SEDIMENT CONTAM': 1, 'YU HL 2007 STOCH ENV RES RISK A': 1, 'CHAKRABORTI S 2001 J QUAL TECHNOL': 1, 'FILIPPIDIS A 1992 FUEL': 2, 'VATALIS K. 2006 ENVIRON MANAGE': 1, 'EFRON B. 1993 INTRO BOOTSTRAP': 1, 'ADRIANO D. 2001 TRACE ELEMENTS TERRE': 1, 'DAS N 2009 QUAL TECHNOL QUANT M': 1, 'LANG CL 2012 NAV RES LOG': 1, 'FRANK A. 2010 UCI MACHINE LEARNING': 1, 'RAO J 1992 RNEA TECHN B SER LAN': 2, 'ANGIULLI F 2005 IEEE T KNOWL DATA EN': 2, 'ZOU CK 2011 TECHNOMETRICS': 1}\n"
       ]
      }
     ],
     "prompt_number": 9
    },
    {
     "cell_type": "code",
     "collapsed": false,
     "input": [],
     "language": "python",
     "metadata": {},
     "outputs": []
    }
   ],
   "metadata": {}
  }
 ]
}
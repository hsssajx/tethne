{
 "metadata": {
  "name": ""
 },
 "nbformat": 3,
 "nbformat_minor": 0,
 "worksheets": [
  {
   "cells": [
    {
     "cell_type": "code",
     "collapsed": false,
     "input": [
      "import pickle\n",
      "\n",
      "class test:\n",
      "    \"\"\"\n",
      "        Can I pickle the instance of this class??\n",
      "        \n",
      "    \"\"\"\n",
      "    \n",
      "\n",
      "a = {'hello': 'world'}\n",
      "\n",
      "with open('filename.txt', 'wb') as handle:\n",
      "  j= pickle.dump(a, handle)\n",
      "\n",
      "with open('filename.txt', 'rb') as handle:\n",
      "  b = pickle.load(handle)\n",
      "\n",
      "    \n",
      "    \n",
      "print a,j\n",
      "print b"
     ],
     "language": "python",
     "metadata": {},
     "outputs": [
      {
       "output_type": "stream",
       "stream": "stdout",
       "text": [
        "{'hello': 'world'} None\n",
        "{'hello': 'world'}\n"
       ]
      }
     ],
     "prompt_number": 8
    }
   ],
   "metadata": {}
  }
 ]
}
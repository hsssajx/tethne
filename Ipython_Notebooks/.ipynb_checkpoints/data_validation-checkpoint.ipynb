{
 "metadata": {
  "name": ""
 },
 "nbformat": 3,
 "nbformat_minor": 0,
 "worksheets": [
  {
   "cells": [
    {
     "cell_type": "code",
     "collapsed": false,
     "input": [
      "import tethne.readers as rd\n",
      "filepath = '../testsuite/testin/iptraffic.txt'\n",
      "wos_list = rd.wos.parse_wos(filepath)\n",
      "\n",
      "cr = rd.wos.parse_cr(\"[Anonymous], 2012, 3015452 ETSI EN\")\n",
      "print cr['aulast'], cr['auinit']\n",
      "meta_list = rd.wos.wos2meta (wos_list)\n",
      "\n"
     ],
     "language": "python",
     "metadata": {},
     "outputs": [
      {
       "output_type": "stream",
       "stream": "stdout",
       "text": [
        "['[Anonymous]']\n"
       ]
      }
     ],
     "prompt_number": 4
    }
   ],
   "metadata": {}
  }
 ]
}
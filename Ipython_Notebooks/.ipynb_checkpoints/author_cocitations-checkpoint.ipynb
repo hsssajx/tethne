{
 "metadata": {
  "name": ""
 },
 "nbformat": 3,
 "nbformat_minor": 0,
 "worksheets": [
  {
   "cells": [
    {
     "cell_type": "code",
     "collapsed": false,
     "input": [
      "import tethne.readers as rd\n",
      "filepath = \"../testsuite/testin/semantic_web.txt\"\n",
      "wos_list = rd.wos.parse_wos(filepath)\n",
      "\n",
      "meta_list=rd.wos.wos2meta(wos_list)\n",
      "\n",
      "for paper in meta_list:\n",
      "    for citation in paper['citations']:\n",
      "        #aug_list= citation['aulast'],' ',  citation['auinit']\n",
      "        #print paper['citations'][i]['aulast']\n",
      "        #print aug_list,len(aug_list)\n",
      "        #print citation['date'],len(citation['auinit'])\n",
      "        pass\n",
      "import tethne.networks as nt\n",
      "author_cocitations = nt.authors.author_cocitation(meta_list, 3)\n",
      "#print author_cocitations.nodes()\n",
      "print author_cocitations.edges()"
     ],
     "language": "python",
     "metadata": {},
     "outputs": [
      {
       "output_type": "stream",
       "stream": "stdout",
       "text": [
        "[('WANG J.', 'EUZENAT J.'), ('WEN Y', 'EUZENAT J.'), ('PAK A.', 'MEI T.'), ('DEMSAR J', 'EUZENAT J.'), ('WINKLER W.', 'EUZENAT J.'), ('SHVAIKO P', 'EUZENAT J.'), ('GINSCA AL', 'EUZENAT J.'), ('HRISTOSKOVA A', 'DANIEL F'), ('JEAN-MARY YR', 'EUZENAT J.'), ('POWELL M.J.D.', 'EUZENAT J.'), ('DO HH', 'EUZENAT J.'), ('WU Z.', 'MEI T.'), ('MOSCATO P.', 'EUZENAT J.'), ('MADHAVAN J.', 'EUZENAT J.'), ('ESHELMAN LJ', 'EUZENAT J.'), ('FAN TK', 'MEI T.'), ('QUIX C.', 'EUZENAT J.'), ('GEN M', 'EUZENAT J.'), ('PAPADOPOULOS S', 'MEI T.'), ('SARULADHA K.', 'EUZENAT J.'), ('HAMDI F.', 'EUZENAT J.'), ('GRACIA J.', 'EUZENAT J.'), ('WU HC', 'MEI T.'), ('GENESERETH M.', 'EUZENAT J.'), ('EUZENAT J.', 'HOLM S'), ('EUZENAT J.', 'XU P.'), ('EUZENAT J.', 'DEB K.'), ('EUZENAT J.', 'BOCK J'), ('EUZENAT J.', 'VAZQUEZ NAYA'), ('EUZENAT J.', 'STOILOS G.'), ('EUZENAT J.', 'EHRIG M'), ('EUZENAT J.', 'ABDULLAH S'), ('EUZENAT J.', 'VAN RIJSBERGEN'), ('EUZENAT J.', 'EUZENAT J.'), ('EUZENAT J.', 'GRUBER TR'), ('EUZENAT J.', 'ACAMPORA G'), ('EUZENAT J.', 'KRASNOGOR N'), ('EUZENAT J.', 'GARCIA S'), ('EUZENAT J.', 'LEVENSTEIN I.'), ('EUZENAT J.', 'MARTINEZ-GIL J.'), ('EUZENAT J.', 'NOY NF'), ('EUZENAT J.', 'WEI W.'), ('EUZENAT J.', 'TANG J.'), ('EUZENAT J.', 'NOESSNER J.'), ('EUZENAT J.', 'NGUYEN QH'), ('EUZENAT J.', 'SHVAIKO P.'), ('EUZENAT J.', 'TING CK'), ('EUZENAT J.', 'CRUZ I.F.'), ('EUZENAT J.', 'HU W.'), ('EUZENAT J.', 'KIRKPATRICK S.'), ('EUZENAT J.', 'WANG Z.'), ('EUZENAT J.', 'DAWKINS R'), ('EUZENAT J.', 'FRIEDMAN M'), ('EUZENAT J.', 'DAVID J.'), ('EUZENAT J.', 'RAHM E'), ('EUZENAT J.', 'HERRERA F'), ('EUZENAT J.', 'SALTON G'), ('EUZENAT J.', 'SHESKIN D.J.'), ('GUPTA S.', 'MEI T.'), ('HU J.', 'MEI T.'), ('MURDOCK V.', 'MEI T.'), ('BRODER A.', 'MEI T.'), ('BOYD S.', 'MEI T.'), ('MEI T.', 'GUPTA S'), ('MEI T.', 'SALTON G'), ('MEI T.', 'ANAGNOSTOPOULOS A.'), ('MEI T.', 'CHATTERJEE P'), ('MEI T.', 'RIBEIRO-NETO B.'), ('MEI T.', 'MEI T.'), ('MEI T.', 'PAK AN'), ('MEI T.', 'HU XH'), ('MEI T.', 'WU ZD'), ('VAN HORN', 'JACK CR')]\n"
       ]
      }
     ],
     "prompt_number": 3
    },
    {
     "cell_type": "code",
     "collapsed": false,
     "input": [
      "import tethne.readers as rd\n",
      "filepath = \"../testsuite/testin/iptraffic.txt\"\n",
      "wos_list = rd.wos.parse_wos(filepath)\n",
      "\n",
      "meta_list=rd.wos.wos2meta(wos_list)\n",
      "\n",
      "import tethne.networks as nt\n",
      "author_cocitations = nt.authors.author_cocitation(meta_list, 1)"
     ],
     "language": "python",
     "metadata": {},
     "outputs": [
      {
       "ename": "TypeError",
       "evalue": "argument 2 to map() must support iteration",
       "output_type": "pyerr",
       "traceback": [
        "\u001b[0;31m---------------------------------------------------------------------------\u001b[0m\n\u001b[0;31mTypeError\u001b[0m                                 Traceback (most recent call last)",
        "\u001b[0;32m<ipython-input-1-db2321eba06a>\u001b[0m in \u001b[0;36m<module>\u001b[0;34m()\u001b[0m\n\u001b[1;32m      6\u001b[0m \u001b[0;34m\u001b[0m\u001b[0m\n\u001b[1;32m      7\u001b[0m \u001b[0;32mimport\u001b[0m \u001b[0mtethne\u001b[0m\u001b[0;34m.\u001b[0m\u001b[0mnetworks\u001b[0m \u001b[0;32mas\u001b[0m \u001b[0mnt\u001b[0m\u001b[0;34m\u001b[0m\u001b[0m\n\u001b[0;32m----> 8\u001b[0;31m \u001b[0mauthor_cocitations\u001b[0m \u001b[0;34m=\u001b[0m \u001b[0mnt\u001b[0m\u001b[0;34m.\u001b[0m\u001b[0mauthors\u001b[0m\u001b[0;34m.\u001b[0m\u001b[0mauthor_cocitation\u001b[0m\u001b[0;34m(\u001b[0m\u001b[0mmeta_list\u001b[0m\u001b[0;34m,\u001b[0m \u001b[0;36m1\u001b[0m\u001b[0;34m)\u001b[0m\u001b[0;34m\u001b[0m\u001b[0m\n\u001b[0m",
        "\u001b[0;32m/Users/ramki/tethne/tethne/networks/authors.pyc\u001b[0m in \u001b[0;36mauthor_cocitation\u001b[0;34m(meta_list, threshold)\u001b[0m\n\u001b[1;32m    287\u001b[0m                 \u001b[0;32mfor\u001b[0m \u001b[0mi\u001b[0m \u001b[0;32min\u001b[0m \u001b[0mxrange\u001b[0m\u001b[0;34m(\u001b[0m\u001b[0;36m0\u001b[0m\u001b[0;34m,\u001b[0m \u001b[0mn\u001b[0m\u001b[0;34m)\u001b[0m\u001b[0;34m:\u001b[0m\u001b[0;34m\u001b[0m\u001b[0m\n\u001b[1;32m    288\u001b[0m                     \u001b[0mal_i_str\u001b[0m\u001b[0;34m=\u001b[0m\u001b[0;34m''\u001b[0m\u001b[0;34m.\u001b[0m\u001b[0mjoin\u001b[0m\u001b[0;34m(\u001b[0m\u001b[0mmap\u001b[0m\u001b[0;34m(\u001b[0m\u001b[0mstr\u001b[0m\u001b[0;34m,\u001b[0m\u001b[0;34m(\u001b[0m\u001b[0mpaper\u001b[0m\u001b[0;34m[\u001b[0m\u001b[0;34m'citations'\u001b[0m\u001b[0;34m]\u001b[0m\u001b[0;34m[\u001b[0m\u001b[0mi\u001b[0m\u001b[0;34m]\u001b[0m\u001b[0;34m[\u001b[0m\u001b[0;34m'aulast'\u001b[0m\u001b[0;34m]\u001b[0m\u001b[0;34m)\u001b[0m\u001b[0;34m)\u001b[0m\u001b[0;34m)\u001b[0m \u001b[0;31m#author i's last name\u001b[0m\u001b[0;34m\u001b[0m\u001b[0m\n\u001b[0;32m--> 289\u001b[0;31m                     \u001b[0mai_i_str\u001b[0m\u001b[0;34m=\u001b[0m\u001b[0;34m''\u001b[0m\u001b[0;34m.\u001b[0m\u001b[0mjoin\u001b[0m\u001b[0;34m(\u001b[0m\u001b[0mmap\u001b[0m\u001b[0;34m(\u001b[0m\u001b[0mstr\u001b[0m\u001b[0;34m,\u001b[0m\u001b[0;34m(\u001b[0m\u001b[0mpaper\u001b[0m\u001b[0;34m[\u001b[0m\u001b[0;34m'citations'\u001b[0m\u001b[0;34m]\u001b[0m\u001b[0;34m[\u001b[0m\u001b[0mi\u001b[0m\u001b[0;34m]\u001b[0m\u001b[0;34m[\u001b[0m\u001b[0;34m'auinit'\u001b[0m\u001b[0;34m]\u001b[0m\u001b[0;34m)\u001b[0m\u001b[0;34m)\u001b[0m\u001b[0;34m)\u001b[0m \u001b[0;31m#author i's initial\u001b[0m\u001b[0;34m\u001b[0m\u001b[0m\n\u001b[0m\u001b[1;32m    290\u001b[0m                     \u001b[0mauthor_i_str\u001b[0m\u001b[0;34m=\u001b[0m\u001b[0mal_i_str\u001b[0m\u001b[0;34m+\u001b[0m\u001b[0mdelim\u001b[0m\u001b[0;34m+\u001b[0m\u001b[0mai_i_str\u001b[0m\u001b[0;31m#making it a tuple, so that it becomes the key for cocitations dict\u001b[0m\u001b[0;34m\u001b[0m\u001b[0m\n\u001b[1;32m    291\u001b[0m                     \u001b[0;31m#print \"1:\",author_i_str, type(author_i_str)\u001b[0m\u001b[0;34m\u001b[0m\u001b[0;34m\u001b[0m\u001b[0m\n",
        "\u001b[0;31mTypeError\u001b[0m: argument 2 to map() must support iteration"
       ]
      }
     ],
     "prompt_number": 1
    },
    {
     "cell_type": "code",
     "collapsed": false,
     "input": [
      "\n",
      "aList = ['123', 'xyz', 'zara', 'abc'];\n",
      "bList = ['223', 'sssz', 'zaara', 'abc'];\n",
      "\n",
      "L = ['L','O','L']\n",
      "makeitastringdammit = ''.join(map(str, L))\n",
      "print type(makeitastringdammit)\n",
      "\n",
      "new= aList+bList\n",
      "print new\n",
      "\n",
      "cList=[]\n",
      "delim=' ' \n",
      "for i in xrange(len(aList)):\n",
      "    cList.append(aList[i] + delim + bList[i]);\n",
      "    print \"Updated List : \", cList;"
     ],
     "language": "python",
     "metadata": {},
     "outputs": [
      {
       "output_type": "stream",
       "stream": "stdout",
       "text": [
        "<type 'str'>\n",
        "['123', 'xyz', 'zara', 'abc', '223', 'sssz', 'zaara', 'abc']\n",
        "Updated List :  ['123 223']\n",
        "Updated List :  ['123 223', 'xyz sssz']\n",
        "Updated List :  ['123 223', 'xyz sssz', 'zara zaara']\n",
        "Updated List :  ['123 223', 'xyz sssz', 'zara zaara', 'abc abc']\n"
       ]
      }
     ],
     "prompt_number": 6
    },
    {
     "cell_type": "code",
     "collapsed": false,
     "input": [
      "\n",
      "ref=\"Anonymous, 2013, UND FULL VIRT PAR HA\"\n",
      "tokens= ref.split(' ')\n",
      "print tokens\n",
      "name= tokens[0]\n",
      "print name\n",
      "name=l.split(' ')\n",
      "print name\n",
      "print 'else' ,name[0],name[1]\n",
      "print len(name)\n",
      "if(name):\n",
      "    print 'hi'\n",
      "else:\n",
      "    print 'else'    "
     ],
     "language": "python",
     "metadata": {},
     "outputs": [
      {
       "output_type": "stream",
       "stream": "stdout",
       "text": [
        "['[Anonymous],', '2013,', 'UND', 'FULL', 'VIRT', 'PAR', 'HA']\n",
        "[Anonymous],\n",
        "['[Anonymous],', '2013,', 'UND', 'FULL', 'VIRT', 'PAR', 'HA']\n",
        "else [Anonymous], 2013,\n",
        "7\n",
        "hi\n"
       ]
      }
     ],
     "prompt_number": 5
    }
   ],
   "metadata": {}
  }
 ]
}
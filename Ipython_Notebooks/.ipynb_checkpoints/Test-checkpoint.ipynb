{
 "metadata": {
  "name": ""
 },
 "nbformat": 3,
 "nbformat_minor": 0,
 "worksheets": [
  {
   "cells": [
    {
     "cell_type": "code",
     "collapsed": false,
     "input": [
      "\n",
      "import tethne.readers as rd\n",
      "import networkx as nx\n",
      "#filepath = \"../docs/savedrecs.txt\"\n",
      "filepath = \"../testsuite/testin/citations_test.txt\"\n",
      "wos_list = rd.wos.parse_wos(filepath)\n",
      "meta_list = rd.wos.wos2meta(wos_list)\n",
      "\n",
      "import tethne.networks as nt\n",
      "cites, internal_cites = nt.papers.direct_citation(meta_list, 'ayjid', 'atitle', 'date')\n",
      "\n",
      "print \"------Cites Nodes----\"\n",
      "print cites.nodes()\n",
      "print \"####Cites Edges####\"\n",
      "print cites.edges()\n",
      "print \"----Internal Cites--\"\n",
      "print internal_cites.nodes()\n",
      "print internal_cites.edges()\n",
      "\n",
      "c_des = nx.descendants(cites,'ALAMPORA G 1999 INFORMATION SCIENCES')\n",
      "i_des = nx.descendants(internal_cites,'WU Z 2012 NEUROCOMPUTING')\n",
      "c_ans = nx.ancestors(cites,'Hu J. 2008 SIGIR 08')\n",
      "i_ans = nx.ancestors(internal_cites,'WU Z 2012 NEUROCOMPUTING')\n",
      "print '####cites des#####:', c_des\n",
      "print 'Internal des:', i_des\n",
      "\n",
      "print '----cites ans------:', c_ans\n",
      "print '-----Internal ans----:', i_ans\n",
      "\n",
      "is_directed = cites.is_directed()\n",
      "is_dag = nx.is_directed_acyclic_graph(cites)\n",
      "print 'Is it directed? :' , is_directed\n",
      "print 'Is it dag :' , is_dag"
     ],
     "language": "python",
     "metadata": {},
     "outputs": [
      {
       "ename": "NetworkXError",
       "evalue": "The node ALAMPORA G 1999 INFORMATION SCIENCES  is not in the graph.",
       "output_type": "pyerr",
       "traceback": [
        "\u001b[0;31m---------------------------------------------------------------------------\u001b[0m\n\u001b[0;31mNetworkXError\u001b[0m                             Traceback (most recent call last)",
        "\u001b[0;32m/home/ramki/git/tethne/Ipython_Notebooks/<ipython-input-12-5efbae7f246a>\u001b[0m in \u001b[0;36m<module>\u001b[0;34m()\u001b[0m\n\u001b[1;32m     21\u001b[0m \u001b[0mi_des\u001b[0m \u001b[0;34m=\u001b[0m \u001b[0mnx\u001b[0m\u001b[0;34m.\u001b[0m\u001b[0mdescendants\u001b[0m\u001b[0;34m(\u001b[0m\u001b[0minternal_cites\u001b[0m\u001b[0;34m,\u001b[0m\u001b[0;34m'WU Z 2012 NEUROCOMPUTING'\u001b[0m\u001b[0;34m)\u001b[0m\u001b[0;34m\u001b[0m\u001b[0m\n\u001b[1;32m     22\u001b[0m \u001b[0mc_ans\u001b[0m \u001b[0;34m=\u001b[0m \u001b[0mnx\u001b[0m\u001b[0;34m.\u001b[0m\u001b[0mancestors\u001b[0m\u001b[0;34m(\u001b[0m\u001b[0mcites\u001b[0m\u001b[0;34m,\u001b[0m\u001b[0;34m'Hu J. 2008 SIGIR 08'\u001b[0m\u001b[0;34m)\u001b[0m\u001b[0;34m\u001b[0m\u001b[0m\n\u001b[0;32m---> 23\u001b[0;31m \u001b[0mi_ans\u001b[0m \u001b[0;34m=\u001b[0m \u001b[0mnx\u001b[0m\u001b[0;34m.\u001b[0m\u001b[0mancestors\u001b[0m\u001b[0;34m(\u001b[0m\u001b[0minternal_cites\u001b[0m\u001b[0;34m,\u001b[0m\u001b[0;34m'ALAMPORA G 1999 INFORMATION SCIENCES '\u001b[0m\u001b[0;34m)\u001b[0m\u001b[0;34m\u001b[0m\u001b[0m\n\u001b[0m\u001b[1;32m     24\u001b[0m \u001b[0;32mprint\u001b[0m \u001b[0;34m'####cites des#####:'\u001b[0m\u001b[0;34m,\u001b[0m \u001b[0mc_des\u001b[0m\u001b[0;34m\u001b[0m\u001b[0m\n\u001b[1;32m     25\u001b[0m \u001b[0;32mprint\u001b[0m \u001b[0;34m'Internal des:'\u001b[0m\u001b[0;34m,\u001b[0m \u001b[0mi_des\u001b[0m\u001b[0;34m\u001b[0m\u001b[0m\n",
        "\u001b[0;32m/usr/local/lib/python2.7/dist-packages/networkx/algorithms/dag.pyc\u001b[0m in \u001b[0;36mancestors\u001b[0;34m(G, source)\u001b[0m\n\u001b[1;32m     51\u001b[0m     \"\"\"\n\u001b[1;32m     52\u001b[0m     \u001b[0;32mif\u001b[0m \u001b[0;32mnot\u001b[0m \u001b[0mG\u001b[0m\u001b[0;34m.\u001b[0m\u001b[0mhas_node\u001b[0m\u001b[0;34m(\u001b[0m\u001b[0msource\u001b[0m\u001b[0;34m)\u001b[0m\u001b[0;34m:\u001b[0m\u001b[0;34m\u001b[0m\u001b[0m\n\u001b[0;32m---> 53\u001b[0;31m         \u001b[0;32mraise\u001b[0m \u001b[0mnx\u001b[0m\u001b[0;34m.\u001b[0m\u001b[0mNetworkXError\u001b[0m\u001b[0;34m(\u001b[0m\u001b[0;34m\"The node %s is not in the graph.\"\u001b[0m \u001b[0;34m%\u001b[0m \u001b[0msource\u001b[0m\u001b[0;34m)\u001b[0m\u001b[0;34m\u001b[0m\u001b[0m\n\u001b[0m\u001b[1;32m     54\u001b[0m     \u001b[0manc\u001b[0m \u001b[0;34m=\u001b[0m \u001b[0mset\u001b[0m\u001b[0;34m(\u001b[0m\u001b[0mnx\u001b[0m\u001b[0;34m.\u001b[0m\u001b[0mshortest_path_length\u001b[0m\u001b[0;34m(\u001b[0m\u001b[0mG\u001b[0m\u001b[0;34m,\u001b[0m \u001b[0mtarget\u001b[0m\u001b[0;34m=\u001b[0m\u001b[0msource\u001b[0m\u001b[0;34m)\u001b[0m\u001b[0;34m.\u001b[0m\u001b[0mkeys\u001b[0m\u001b[0;34m(\u001b[0m\u001b[0;34m)\u001b[0m\u001b[0;34m)\u001b[0m \u001b[0;34m-\u001b[0m \u001b[0mset\u001b[0m\u001b[0;34m(\u001b[0m\u001b[0;34m[\u001b[0m\u001b[0msource\u001b[0m\u001b[0;34m]\u001b[0m\u001b[0;34m)\u001b[0m\u001b[0;34m\u001b[0m\u001b[0m\n\u001b[1;32m     55\u001b[0m     \u001b[0;32mreturn\u001b[0m \u001b[0manc\u001b[0m\u001b[0;34m\u001b[0m\u001b[0m\n",
        "\u001b[0;31mNetworkXError\u001b[0m: The node ALAMPORA G 1999 INFORMATION SCIENCES  is not in the graph."
       ]
      },
      {
       "output_type": "stream",
       "stream": "stdout",
       "text": [
        "------Cites Nodes----\n",
        "['Mei T. 2012 ACM TOMCCAP', 'Dawkins R 1976 SELFISH GENE', 'ESHELMAN LJ 1993 FDN GENETIC ALGORITH', 'Chen YL 2008 EXPERT SYST APPL', 'Do HH 2007 INFORM SYST', 'Euzenat J. 2010 P 5 INT WORKSH ONT M', 'Wu Z. 2011 CIKM 11', 'Chen YL 2009 EUR J OPER RES', 'Garcia S 2009 J HEURISTICS', 'Winkler W. 1999 TECHNICAL REPORT', 'Ting CK 2010 INFORM SCIENCES', 'Stoilos G. 2005 P 4 INT SEM WEB C IS', 'Abdullah S 2012 INFORM SCIENCES', 'Hu J. 2008 SIGIR 08', 'Mei T. 2011 P IEEE', 'HUANG T 2013 UROPEAN JOURNAL OF OPERATIONAL RESEARCH', 'Wu HC 2008 ACM T INFORM SYST', 'Euzenat J. 2011 P 6 INT WORKSH ONT M', 'Hu XH 2009 KDD-09: 15TH ACM SIGKDD CONFERENCE ON KNOWLEDGE DISCOVERY AND DATA MINING', 'Quix C. 2010 P 5 INT WORKSH ONT M', 'Euzenat J. 2011 LECT NOTES COMPUTER', 'AZAMPORA G 1998 INFORMATION SCIENCES', 'Wu ZD 2012 COMPUT J', 'Wen Y 2011 INFORM SCIENCES', 'Wang Z. 2010 P 5 INT WORKSH ONT M', 'Chen YL 2010 DECIS SUPPORT SYST', 'Mei T. 2008 MM 08', 'Xu P. 2010 P 5 INT WORKSH ONT M', 'Pak AN 2010 WORLD WIDE WEB', 'Acampora G 2012 INT J INTELL SYST', 'Rahm E 2001 VLDB J', 'Cruz I.F. 2010 P 5 INT WORKSH ONT M', 'Bock J 2012 INFORM SCIENCES', 'Ribeiro-Neto B. 2005 SIGIR 2005. Proceedings of the Twenty-Eighth Annual International ACM SIGIR Conference on Research and Development in Information Retrieval', 'Euzenat J. 2007 ONTOLOGY MATCHING', 'SALTON G 1975 COMMUN ACM', 'Gen M 1997 GENETIC ALGORITHMS E', 'Papadopoulos S 2009 LECT NOTES COMPUT SC', 'van Rijsbergen 1979 INFORM RETRIEVAL', 'Friedman M 1937 J AM STAT ASSOC', 'Anagnostopoulos A. 2007 CIKM 07', 'Chen YL 2006 FUZZY SET SYST', 'Vazquez Naya 2010 SOFT COMPUTING METHO', 'Deb K. 1995 COMPLEX SYSTEMS', 'WU Z 2012 NEUROCOMPUTING', 'David J. 2007 THESIS U NANTES', 'ALAMPORA G 1999 INFORMATION SCIENCES', 'Pak A. 2011 P 4 INT C HUM LANG T', 'Murdock V. 2007 SIGKDD WORKSH 07', 'Euzenat J. 2008 STATE ART ONTOLOGY A', 'Tang J. 2007 SOFT COMPUT', 'Wang J. 2006 P IEEE AS PAC C SERV', 'Ehrig M 2007 SEMAT WEB BEYOND-COM', 'Wei W. 2010 P 5 INT WORKSH ONT M', 'Hu J. 2009 WWW 09', 'Demsar J 2006 J MACH LEARN RES']\n",
        "####Cites Edges####\n",
        "[('WU Z 2012 NEUROCOMPUTING', 'Mei T. 2012 ACM TOMCCAP'), ('WU Z 2012 NEUROCOMPUTING', 'Chen YL 2008 EXPERT SYST APPL'), ('WU Z 2012 NEUROCOMPUTING', 'Wu Z. 2011 CIKM 11'), ('WU Z 2012 NEUROCOMPUTING', 'Chen YL 2009 EUR J OPER RES'), ('WU Z 2012 NEUROCOMPUTING', 'Ting CK 2010 INFORM SCIENCES'), ('WU Z 2012 NEUROCOMPUTING', 'Hu J. 2008 SIGIR 08'), ('WU Z 2012 NEUROCOMPUTING', 'Mei T. 2011 P IEEE'), ('WU Z 2012 NEUROCOMPUTING', 'HUANG T 2013 UROPEAN JOURNAL OF OPERATIONAL RESEARCH'), ('WU Z 2012 NEUROCOMPUTING', 'Wu HC 2008 ACM T INFORM SYST'), ('WU Z 2012 NEUROCOMPUTING', 'Hu XH 2009 KDD-09: 15TH ACM SIGKDD CONFERENCE ON KNOWLEDGE DISCOVERY AND DATA MINING'), ('WU Z 2012 NEUROCOMPUTING', 'Wu ZD 2012 COMPUT J'), ('WU Z 2012 NEUROCOMPUTING', 'Chen YL 2010 DECIS SUPPORT SYST'), ('WU Z 2012 NEUROCOMPUTING', 'Mei T. 2008 MM 08'), ('WU Z 2012 NEUROCOMPUTING', 'Pak AN 2010 WORLD WIDE WEB'), ('WU Z 2012 NEUROCOMPUTING', 'Ribeiro-Neto B. 2005 SIGIR 2005. Proceedings of the Twenty-Eighth Annual International ACM SIGIR Conference on Research and Development in Information Retrieval'), ('WU Z 2012 NEUROCOMPUTING', 'SALTON G 1975 COMMUN ACM'), ('WU Z 2012 NEUROCOMPUTING', 'Papadopoulos S 2009 LECT NOTES COMPUT SC'), ('WU Z 2012 NEUROCOMPUTING', 'van Rijsbergen 1979 INFORM RETRIEVAL'), ('WU Z 2012 NEUROCOMPUTING', 'Anagnostopoulos A. 2007 CIKM 07'), ('WU Z 2012 NEUROCOMPUTING', 'Chen YL 2006 FUZZY SET SYST'), ('WU Z 2012 NEUROCOMPUTING', 'Vazquez Naya 2010 SOFT COMPUTING METHO'), ('WU Z 2012 NEUROCOMPUTING', 'ALAMPORA G 1999 INFORMATION SCIENCES'), ('WU Z 2012 NEUROCOMPUTING', 'Pak A. 2011 P 4 INT C HUM LANG T'), ('WU Z 2012 NEUROCOMPUTING', 'Murdock V. 2007 SIGKDD WORKSH 07'), ('WU Z 2012 NEUROCOMPUTING', 'Hu J. 2009 WWW 09'), ('ALAMPORA G 1999 INFORMATION SCIENCES', 'Mei T. 2012 ACM TOMCCAP'), ('ALAMPORA G 1999 INFORMATION SCIENCES', 'Dawkins R 1976 SELFISH GENE'), ('ALAMPORA G 1999 INFORMATION SCIENCES', 'ESHELMAN LJ 1993 FDN GENETIC ALGORITH'), ('ALAMPORA G 1999 INFORMATION SCIENCES', 'Chen YL 2008 EXPERT SYST APPL'), ('ALAMPORA G 1999 INFORMATION SCIENCES', 'Do HH 2007 INFORM SYST'), ('ALAMPORA G 1999 INFORMATION SCIENCES', 'Euzenat J. 2010 P 5 INT WORKSH ONT M'), ('ALAMPORA G 1999 INFORMATION SCIENCES', 'Abdullah S 2012 INFORM SCIENCES'), ('ALAMPORA G 1999 INFORMATION SCIENCES', 'Chen YL 2009 EUR J OPER RES'), ('ALAMPORA G 1999 INFORMATION SCIENCES', 'Garcia S 2009 J HEURISTICS'), ('ALAMPORA G 1999 INFORMATION SCIENCES', 'Winkler W. 1999 TECHNICAL REPORT'), ('ALAMPORA G 1999 INFORMATION SCIENCES', 'Ting CK 2010 INFORM SCIENCES'), ('ALAMPORA G 1999 INFORMATION SCIENCES', 'Stoilos G. 2005 P 4 INT SEM WEB C IS'), ('ALAMPORA G 1999 INFORMATION SCIENCES', 'Mei T. 2011 P IEEE'), ('ALAMPORA G 1999 INFORMATION SCIENCES', 'Euzenat J. 2011 P 6 INT WORKSH ONT M'), ('ALAMPORA G 1999 INFORMATION SCIENCES', 'Quix C. 2010 P 5 INT WORKSH ONT M'), ('ALAMPORA G 1999 INFORMATION SCIENCES', 'Euzenat J. 2011 LECT NOTES COMPUTER'), ('ALAMPORA G 1999 INFORMATION SCIENCES', 'AZAMPORA G 1998 INFORMATION SCIENCES'), ('ALAMPORA G 1999 INFORMATION SCIENCES', 'Wen Y 2011 INFORM SCIENCES'), ('ALAMPORA G 1999 INFORMATION SCIENCES', 'Chen YL 2010 DECIS SUPPORT SYST'), ('ALAMPORA G 1999 INFORMATION SCIENCES', 'Mei T. 2008 MM 08'), ('ALAMPORA G 1999 INFORMATION SCIENCES', 'Xu P. 2010 P 5 INT WORKSH ONT M'), ('ALAMPORA G 1999 INFORMATION SCIENCES', 'Wang Z. 2010 P 5 INT WORKSH ONT M'), ('ALAMPORA G 1999 INFORMATION SCIENCES', 'Acampora G 2012 INT J INTELL SYST'), ('ALAMPORA G 1999 INFORMATION SCIENCES', 'Rahm E 2001 VLDB J'), ('ALAMPORA G 1999 INFORMATION SCIENCES', 'Bock J 2012 INFORM SCIENCES'), ('ALAMPORA G 1999 INFORMATION SCIENCES', 'Euzenat J. 2007 ONTOLOGY MATCHING'), ('ALAMPORA G 1999 INFORMATION SCIENCES', 'Gen M 1997 GENETIC ALGORITHMS E'), ('ALAMPORA G 1999 INFORMATION SCIENCES', 'Friedman M 1937 J AM STAT ASSOC'), ('ALAMPORA G 1999 INFORMATION SCIENCES', 'van Rijsbergen 1979 INFORM RETRIEVAL'), ('ALAMPORA G 1999 INFORMATION SCIENCES', 'Chen YL 2006 FUZZY SET SYST'), ('ALAMPORA G 1999 INFORMATION SCIENCES', 'Deb K. 1995 COMPLEX SYSTEMS'), ('ALAMPORA G 1999 INFORMATION SCIENCES', 'David J. 2007 THESIS U NANTES'), ('ALAMPORA G 1999 INFORMATION SCIENCES', 'Cruz I.F. 2010 P 5 INT WORKSH ONT M'), ('ALAMPORA G 1999 INFORMATION SCIENCES', 'Vazquez Naya 2010 SOFT COMPUTING METHO'), ('ALAMPORA G 1999 INFORMATION SCIENCES', 'Euzenat J. 2008 STATE ART ONTOLOGY A'), ('ALAMPORA G 1999 INFORMATION SCIENCES', 'Tang J. 2007 SOFT COMPUT'), ('ALAMPORA G 1999 INFORMATION SCIENCES', 'Wang J. 2006 P IEEE AS PAC C SERV'), ('ALAMPORA G 1999 INFORMATION SCIENCES', 'Ehrig M 2007 SEMAT WEB BEYOND-COM'), ('ALAMPORA G 1999 INFORMATION SCIENCES', 'Wei W. 2010 P 5 INT WORKSH ONT M'), ('ALAMPORA G 1999 INFORMATION SCIENCES', 'Demsar J 2006 J MACH LEARN RES')]\n",
        "----Internal Cites--\n",
        "['ALAMPORA G 1999 INFORMATION SCIENCES', 'WU Z 2012 NEUROCOMPUTING']\n",
        "[('WU Z 2012 NEUROCOMPUTING', 'ALAMPORA G 1999 INFORMATION SCIENCES')]"
       ]
      }
     ],
     "prompt_number": 12
    },
    {
     "cell_type": "code",
     "collapsed": false,
     "input": [
      "def str_cmp(li_orig):\n",
      "    print li_orig\n",
      "    j=len(li_orig)\n",
      "    for i in xrange(j):\n",
      "     try:   \n",
      "        print \"try\", li_orig[i], \"second:\" ,li_orig[j-1]    \n",
      "        if li_orig[i+1] == li_orig[j-1]: \n",
      "          print 'yes'\n",
      "        else:\n",
      "          print \"else\" \n",
      "          print 'no'\n",
      "        i+=i\n",
      "        j-=j\n",
      "     except IndexError as e:\n",
      "         pass   \n",
      "str_cmp(\"madam\")"
     ],
     "language": "python",
     "metadata": {},
     "outputs": [
      {
       "output_type": "stream",
       "stream": "stdout",
       "text": [
        "madam\n",
        "try m second: m\n",
        "else\n",
        "no\n",
        "try a second: m\n",
        "else\n",
        "no\n",
        "try d second: m\n",
        "else\n",
        "no\n",
        "try a second: m\n",
        "yes\n",
        "try m second: m\n"
       ]
      }
     ],
     "prompt_number": 25
    },
    {
     "cell_type": "code",
     "collapsed": false,
     "input": [
      "import re\n",
      "#s = \"I am goingtyue  to test regular exp\"\n",
      "match = re.search(r'\\d\\s+\\S+\\s+\\d',\"1     xxxxxxxxx 2\")\n",
      "#match = re.search(r'word:\\w\\w\\w', str)\n",
      "print match.group()"
     ],
     "language": "python",
     "metadata": {},
     "outputs": [
      {
       "output_type": "stream",
       "stream": "stdout",
       "text": [
        "1     xxxxxxxxx 2\n"
       ]
      }
     ],
     "prompt_number": 67
    },
    {
     "cell_type": "code",
     "collapsed": false,
     "input": [
      "def rev(str):\n",
      "    if len(str)<=1:\n",
      "        print \"last\"\n",
      "        return str\n",
      "    \n",
      "    return rev(str[1:]) + str[0]\n",
      "\n",
      "\n",
      "str1=rev(\"Ramki is a good boy:\")        \n",
      "print str1\n",
      "print str1[1:5:1]\n"
     ],
     "language": "python",
     "metadata": {},
     "outputs": [
      {
       "output_type": "stream",
       "stream": "stdout",
       "text": [
        "last\n",
        ":yob doog a si ikmaR\n",
        "yob \n"
       ]
      }
     ],
     "prompt_number": 85
    },
    {
     "cell_type": "code",
     "collapsed": false,
     "input": [
      "my_container = ['Larry', 'Moe', 'Curly']\n",
      "for index, element in enumerate(my_container):\n",
      "        print ('{} {}'.format(index, element))"
     ],
     "language": "python",
     "metadata": {},
     "outputs": [
      {
       "output_type": "stream",
       "stream": "stdout",
       "text": [
        "0 Larry\n",
        "1 Moe\n",
        "2 Curly\n"
       ]
      }
     ],
     "prompt_number": 88
    },
    {
     "cell_type": "code",
     "collapsed": false,
     "input": [
      "import pickle\n",
      "\n",
      "data1 = {'a': [1, 2.0, 3, 4+6j],\n",
      "         'b': ('string', u'Unicode string'),\n",
      "         'c': None}\n",
      "\n",
      "selfref_list = [1, 2, 3]\n",
      "selfref_list.append(selfref_list)\n",
      "\n",
      "\n",
      "output = open('data.pkl', 'wb')\n",
      "\n",
      "# Pickle dictionary using protocol 0.\n",
      "pickle.dump(data1, output)\n",
      "\n",
      "# Pickle the list using the highest protocol available.\n",
      "pickle.dump(selfref_list, output, -1)\n",
      "\n",
      "output.close()\n",
      "\n",
      "\n",
      "import pprint, pickle\n",
      "\n",
      "pkl_file = open('data.pkl', 'rb')\n",
      "\n",
      "data1 = pickle.load(pkl_file)\n",
      "pprint.pprint(data1)\n",
      "\n",
      "data2 = pickle.load(pkl_file)\n",
      "pprint.pprint(data2)\n",
      "\n",
      "pkl_file.close()"
     ],
     "language": "python",
     "metadata": {},
     "outputs": [
      {
       "output_type": "stream",
       "stream": "stdout",
       "text": [
        "{'a': [1, 2.0, 3, (4+6j)], 'b': ('string', u'Unicode string'), 'c': None}\n",
        "[1, 2, 3, <Recursion on list with id=4519568952>]\n"
       ]
      }
     ],
     "prompt_number": 107
    },
    {
     "cell_type": "code",
     "collapsed": false,
     "input": [
      "li = ['1','2','3']\n",
      "print li\n",
      "li.extend(li)\n",
      "print li"
     ],
     "language": "python",
     "metadata": {},
     "outputs": [
      {
       "output_type": "stream",
       "stream": "stdout",
       "text": [
        "['1', '2', '3']\n",
        "['1', '2', '3', '1', '2', '3']\n"
       ]
      }
     ],
     "prompt_number": 106
    },
    {
     "cell_type": "code",
     "collapsed": false,
     "input": [],
     "language": "python",
     "metadata": {},
     "outputs": []
    }
   ],
   "metadata": {}
  }
 ]
}
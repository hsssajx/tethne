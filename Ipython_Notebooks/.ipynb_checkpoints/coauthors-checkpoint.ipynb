{
 "metadata": {
  "name": ""
 },
 "nbformat": 3,
 "nbformat_minor": 0,
 "worksheets": [
  {
   "cells": [
    {
     "cell_type": "code",
     "collapsed": false,
     "input": [
      "import tethne.readers as rd\n",
      "filepath = \"../testsuite/testin/coauthors_2_recs.txt\"\n",
      "wos_list = rd.wos.parse_wos(filepath)\n",
      "meta_list = rd.wos.wos2meta(wos_list)\n",
      "\n",
      "import tethne.networks as nt\n",
      "coauthors = nt.authors.coauthors(meta_list, 'date','jtitle','ayjid')\n",
      "\n",
      "print \"comes here################\"\n",
      "import tethne.writers as wr\n",
      "wr.graph.to_sif(coauthors, \"../testsuite/testout/coauthors_code_jan07\")\n",
      "\n",
      "print coauthors.nodes()\n",
      "print '@@@@@@@@edges@@@@@'\n",
      "print coauthors.edges()"
     ],
     "language": "python",
     "metadata": {},
     "outputs": [
      {
       "output_type": "stream",
       "stream": "stdout",
       "text": [
        "comes here################\n",
        "['IZAGIRRE U', 'HAN D', 'JIN M', 'TONG X', 'CAJARAVILLE M', 'MARIGOMEZ I', 'ORBEA A', 'SOTO M', 'GARMENDIA L']"
       ]
      },
      {
       "output_type": "stream",
       "stream": "stdout",
       "text": [
        "\n",
        "@@@@@@@@edges@@@@@\n",
        "[('IZAGIRRE U', 'JIN M'), ('IZAGIRRE U', 'CAJARAVILLE M'), ('IZAGIRRE U', 'MARIGOMEZ I'), ('IZAGIRRE U', 'ORBEA A'), ('IZAGIRRE U', 'SOTO M'), ('IZAGIRRE U', 'GARMENDIA L'), ('HAN D', 'CAJARAVILLE M'), ('HAN D', 'JIN M'), ('HAN D', 'TONG X'), ('JIN M', 'TONG X'), ('JIN M', 'CAJARAVILLE M'), ('JIN M', 'MARIGOMEZ I'), ('JIN M', 'ORBEA A'), ('JIN M', 'SOTO M'), ('JIN M', 'GARMENDIA L'), ('TONG X', 'CAJARAVILLE M'), ('CAJARAVILLE M', 'MARIGOMEZ I'), ('CAJARAVILLE M', 'ORBEA A'), ('CAJARAVILLE M', 'SOTO M'), ('CAJARAVILLE M', 'GARMENDIA L'), ('MARIGOMEZ I', 'ORBEA A'), ('MARIGOMEZ I', 'SOTO M'), ('MARIGOMEZ I', 'GARMENDIA L'), ('ORBEA A', 'SOTO M'), ('ORBEA A', 'GARMENDIA L'), ('SOTO M', 'GARMENDIA L')]\n"
       ]
      }
     ],
     "prompt_number": 2
    },
    {
     "cell_type": "code",
     "collapsed": false,
     "input": [
      "import networkx as nx\n",
      "G=nx.Graph()   # or DiGraph, MultiGraph, MultiDiGraph, etc\n",
      "att = { 'color': '123'}\n",
      "G.add_edge(0,1,attr=att)\n",
      "print nx.get_edge_attributes(G,'label')\n",
      "\n"
     ],
     "language": "python",
     "metadata": {},
     "outputs": [
      {
       "output_type": "stream",
       "stream": "stdout",
       "text": [
        "{}\n"
       ]
      }
     ],
     "prompt_number": 10
    },
    {
     "cell_type": "code",
     "collapsed": false,
     "input": [
      "import tethne.readers as rd\n",
      "filepath = \"../testsuite/testin/coauthors_2_recs.txt\"\n",
      "wos_list = rd.wos.parse_wos(filepath)\n",
      "meta_list = rd.wos.wos2meta(wos_list)\n",
      "\n",
      "import tethne.networks as nt\n",
      "coauthors = nt.authors.coauthors(meta_list, 'date','jtitle','ayjid')\n",
      "\n",
      "print \"comes here################\"\n",
      "import tethne.writers as wr\n",
      "wr.graph.to_gexf(coauthors, \"../testsuite/testout/coauthors_code_jan07\")\n",
      "\n",
      "print coauthors.nodes()\n",
      "print '@@@@@@@@edges@@@@@'\n",
      "print coauthors.edges()"
     ],
     "language": "python",
     "metadata": {},
     "outputs": [
      {
       "ename": "TypeError",
       "evalue": "'int' object is not iterable",
       "output_type": "pyerr",
       "traceback": [
        "\u001b[0;31m---------------------------------------------------------------------------\u001b[0m\n\u001b[0;31mTypeError\u001b[0m                                 Traceback (most recent call last)",
        "\u001b[0;32m<ipython-input-1-1240c527dea6>\u001b[0m in \u001b[0;36m<module>\u001b[0;34m()\u001b[0m\n\u001b[1;32m      9\u001b[0m \u001b[0;32mprint\u001b[0m \u001b[0;34m\"comes here################\"\u001b[0m\u001b[0;34m\u001b[0m\u001b[0m\n\u001b[1;32m     10\u001b[0m \u001b[0;32mimport\u001b[0m \u001b[0mtethne\u001b[0m\u001b[0;34m.\u001b[0m\u001b[0mwriters\u001b[0m \u001b[0;32mas\u001b[0m \u001b[0mwr\u001b[0m\u001b[0;34m\u001b[0m\u001b[0m\n\u001b[0;32m---> 11\u001b[0;31m \u001b[0mwr\u001b[0m\u001b[0;34m.\u001b[0m\u001b[0mgraph\u001b[0m\u001b[0;34m.\u001b[0m\u001b[0mto_gexf\u001b[0m\u001b[0;34m(\u001b[0m\u001b[0mcoauthors\u001b[0m\u001b[0;34m,\u001b[0m \u001b[0;34m\"../testsuite/testout/coauthors_code_jan07\"\u001b[0m\u001b[0;34m)\u001b[0m\u001b[0;34m\u001b[0m\u001b[0m\n\u001b[0m\u001b[1;32m     12\u001b[0m \u001b[0;34m\u001b[0m\u001b[0m\n\u001b[1;32m     13\u001b[0m \u001b[0;32mprint\u001b[0m \u001b[0mcoauthors\u001b[0m\u001b[0;34m.\u001b[0m\u001b[0mnodes\u001b[0m\u001b[0;34m(\u001b[0m\u001b[0;34m)\u001b[0m\u001b[0;34m\u001b[0m\u001b[0m\n",
        "\u001b[0;32m/Users/ramki/tethne/tethne/writers/graph.pyc\u001b[0m in \u001b[0;36mto_gexf\u001b[0;34m(graph, output_path)\u001b[0m\n\u001b[1;32m    138\u001b[0m \u001b[0;32mdef\u001b[0m \u001b[0mto_gexf\u001b[0m\u001b[0;34m(\u001b[0m\u001b[0mgraph\u001b[0m\u001b[0;34m,\u001b[0m \u001b[0moutput_path\u001b[0m\u001b[0;34m)\u001b[0m\u001b[0;34m:\u001b[0m\u001b[0;34m\u001b[0m\u001b[0m\n\u001b[1;32m    139\u001b[0m     \u001b[0;34m\"\"\"Writes the provided graph to a GEXF-format network file.\"\"\"\u001b[0m\u001b[0;34m\u001b[0m\u001b[0m\n\u001b[0;32m--> 140\u001b[0;31m     \u001b[0mnx\u001b[0m\u001b[0;34m.\u001b[0m\u001b[0mwrite_gexf\u001b[0m\u001b[0;34m(\u001b[0m\u001b[0mgraph\u001b[0m\u001b[0;34m,\u001b[0m \u001b[0moutput_path\u001b[0m \u001b[0;34m+\u001b[0m \u001b[0;34m\".gexf\"\u001b[0m\u001b[0;34m)\u001b[0m\u001b[0;34m\u001b[0m\u001b[0m\n\u001b[0m\u001b[1;32m    141\u001b[0m \u001b[0;34m\u001b[0m\u001b[0m\n\u001b[1;32m    142\u001b[0m \u001b[0;34m\u001b[0m\u001b[0m\n",
        "\u001b[0;32m/Library/Python/2.7/site-packages/networkx/readwrite/gexf.pyc\u001b[0m in \u001b[0;36mwrite_gexf\u001b[0;34m(G, path, encoding, prettyprint, version)\u001b[0m\n",
        "\u001b[0;32m/Library/Python/2.7/site-packages/networkx/utils/decorators.pyc\u001b[0m in \u001b[0;36m_open_file\u001b[0;34m(func, *args, **kwargs)\u001b[0m\n\u001b[1;32m    261\u001b[0m         \u001b[0;31m# Finally, we call the original function, making sure to close the fobj.\u001b[0m\u001b[0;34m\u001b[0m\u001b[0;34m\u001b[0m\u001b[0m\n\u001b[1;32m    262\u001b[0m         \u001b[0;32mtry\u001b[0m\u001b[0;34m:\u001b[0m\u001b[0;34m\u001b[0m\u001b[0m\n\u001b[0;32m--> 263\u001b[0;31m             \u001b[0mresult\u001b[0m \u001b[0;34m=\u001b[0m \u001b[0mfunc\u001b[0m\u001b[0;34m(\u001b[0m\u001b[0;34m*\u001b[0m\u001b[0mnew_args\u001b[0m\u001b[0;34m,\u001b[0m \u001b[0;34m**\u001b[0m\u001b[0mkwargs\u001b[0m\u001b[0;34m)\u001b[0m\u001b[0;34m\u001b[0m\u001b[0m\n\u001b[0m\u001b[1;32m    264\u001b[0m         \u001b[0;32mfinally\u001b[0m\u001b[0;34m:\u001b[0m\u001b[0;34m\u001b[0m\u001b[0m\n\u001b[1;32m    265\u001b[0m             \u001b[0;32mif\u001b[0m \u001b[0mclose_fobj\u001b[0m\u001b[0;34m:\u001b[0m\u001b[0;34m\u001b[0m\u001b[0m\n",
        "\u001b[0;32m/Library/Python/2.7/site-packages/networkx/readwrite/gexf.pyc\u001b[0m in \u001b[0;36mwrite_gexf\u001b[0;34m(G, path, encoding, prettyprint, version)\u001b[0m\n\u001b[1;32m     75\u001b[0m     writer = GEXFWriter(encoding=encoding,prettyprint=prettyprint,\n\u001b[1;32m     76\u001b[0m                         version=version)\n\u001b[0;32m---> 77\u001b[0;31m     \u001b[0mwriter\u001b[0m\u001b[0;34m.\u001b[0m\u001b[0madd_graph\u001b[0m\u001b[0;34m(\u001b[0m\u001b[0mG\u001b[0m\u001b[0;34m)\u001b[0m\u001b[0;34m\u001b[0m\u001b[0m\n\u001b[0m\u001b[1;32m     78\u001b[0m     \u001b[0mwriter\u001b[0m\u001b[0;34m.\u001b[0m\u001b[0mwrite\u001b[0m\u001b[0;34m(\u001b[0m\u001b[0mpath\u001b[0m\u001b[0;34m)\u001b[0m\u001b[0;34m\u001b[0m\u001b[0m\n\u001b[1;32m     79\u001b[0m \u001b[0;34m\u001b[0m\u001b[0m\n",
        "\u001b[0;32m/Library/Python/2.7/site-packages/networkx/readwrite/gexf.pyc\u001b[0m in \u001b[0;36madd_graph\u001b[0;34m(self, G)\u001b[0m\n\u001b[1;32m    286\u001b[0m         \u001b[0mself\u001b[0m\u001b[0;34m.\u001b[0m\u001b[0mgraph_element\u001b[0m\u001b[0;34m=\u001b[0m\u001b[0mgraph_element\u001b[0m\u001b[0;34m\u001b[0m\u001b[0m\n\u001b[1;32m    287\u001b[0m         \u001b[0mself\u001b[0m\u001b[0;34m.\u001b[0m\u001b[0madd_nodes\u001b[0m\u001b[0;34m(\u001b[0m\u001b[0mG\u001b[0m\u001b[0;34m,\u001b[0m\u001b[0mgraph_element\u001b[0m\u001b[0;34m)\u001b[0m\u001b[0;34m\u001b[0m\u001b[0m\n\u001b[0;32m--> 288\u001b[0;31m         \u001b[0mself\u001b[0m\u001b[0;34m.\u001b[0m\u001b[0madd_edges\u001b[0m\u001b[0;34m(\u001b[0m\u001b[0mG\u001b[0m\u001b[0;34m,\u001b[0m\u001b[0mgraph_element\u001b[0m\u001b[0;34m)\u001b[0m\u001b[0;34m\u001b[0m\u001b[0m\n\u001b[0m\u001b[1;32m    289\u001b[0m         \u001b[0mself\u001b[0m\u001b[0;34m.\u001b[0m\u001b[0mxml\u001b[0m\u001b[0;34m.\u001b[0m\u001b[0mappend\u001b[0m\u001b[0;34m(\u001b[0m\u001b[0mgraph_element\u001b[0m\u001b[0;34m)\u001b[0m\u001b[0;34m\u001b[0m\u001b[0m\n\u001b[1;32m    290\u001b[0m \u001b[0;34m\u001b[0m\u001b[0m\n",
        "\u001b[0;32m/Library/Python/2.7/site-packages/networkx/readwrite/gexf.pyc\u001b[0m in \u001b[0;36madd_edges\u001b[0;34m(self, G, graph_element)\u001b[0m\n\u001b[1;32m    361\u001b[0m             \u001b[0medge_data\u001b[0m\u001b[0;34m=\u001b[0m\u001b[0mself\u001b[0m\u001b[0;34m.\u001b[0m\u001b[0madd_viz\u001b[0m\u001b[0;34m(\u001b[0m\u001b[0medge_element\u001b[0m\u001b[0;34m,\u001b[0m\u001b[0medge_data\u001b[0m\u001b[0;34m)\u001b[0m\u001b[0;34m\u001b[0m\u001b[0m\n\u001b[1;32m    362\u001b[0m             edge_data=self.add_attributes(\"edge\", edge_element,\n\u001b[0;32m--> 363\u001b[0;31m                                           edge_data, default)\n\u001b[0m\u001b[1;32m    364\u001b[0m             \u001b[0medges_element\u001b[0m\u001b[0;34m.\u001b[0m\u001b[0mappend\u001b[0m\u001b[0;34m(\u001b[0m\u001b[0medge_element\u001b[0m\u001b[0;34m)\u001b[0m\u001b[0;34m\u001b[0m\u001b[0m\n\u001b[1;32m    365\u001b[0m         \u001b[0mgraph_element\u001b[0m\u001b[0;34m.\u001b[0m\u001b[0mappend\u001b[0m\u001b[0;34m(\u001b[0m\u001b[0medges_element\u001b[0m\u001b[0;34m)\u001b[0m\u001b[0;34m\u001b[0m\u001b[0m\n",
        "\u001b[0;32m/Library/Python/2.7/site-packages/networkx/readwrite/gexf.pyc\u001b[0m in \u001b[0;36madd_attributes\u001b[0;34m(self, node_or_edge, xml_obj, data, default)\u001b[0m\n\u001b[1;32m    383\u001b[0m             \u001b[0;32mif\u001b[0m \u001b[0mtype\u001b[0m\u001b[0;34m(\u001b[0m\u001b[0mv\u001b[0m\u001b[0;34m)\u001b[0m\u001b[0;34m==\u001b[0m\u001b[0mlist\u001b[0m\u001b[0;34m:\u001b[0m\u001b[0;34m\u001b[0m\u001b[0m\n\u001b[1;32m    384\u001b[0m                 \u001b[0;31m# dynamic data\u001b[0m\u001b[0;34m\u001b[0m\u001b[0;34m\u001b[0m\u001b[0m\n\u001b[0;32m--> 385\u001b[0;31m                 \u001b[0;32mfor\u001b[0m \u001b[0mval\u001b[0m\u001b[0;34m,\u001b[0m\u001b[0mstart\u001b[0m\u001b[0;34m,\u001b[0m\u001b[0mend\u001b[0m \u001b[0;32min\u001b[0m \u001b[0mv\u001b[0m\u001b[0;34m:\u001b[0m\u001b[0;34m\u001b[0m\u001b[0m\n\u001b[0m\u001b[1;32m    386\u001b[0m                     \u001b[0me\u001b[0m\u001b[0;34m=\u001b[0m\u001b[0mElement\u001b[0m\u001b[0;34m(\u001b[0m\u001b[0;34m\"attvalue\"\u001b[0m\u001b[0;34m)\u001b[0m\u001b[0;34m\u001b[0m\u001b[0m\n\u001b[1;32m    387\u001b[0m                     \u001b[0me\u001b[0m\u001b[0;34m.\u001b[0m\u001b[0mattrib\u001b[0m\u001b[0;34m[\u001b[0m\u001b[0;34m'for'\u001b[0m\u001b[0;34m]\u001b[0m\u001b[0;34m=\u001b[0m\u001b[0mattr_id\u001b[0m\u001b[0;34m\u001b[0m\u001b[0m\n",
        "\u001b[0;31mTypeError\u001b[0m: 'int' object is not iterable"
       ]
      },
      {
       "output_type": "stream",
       "stream": "stdout",
       "text": [
        "Starting the Map: ('MARIGOMEZ I', 'CAJARAVILLE M') ---- > {'date': 2013, 'ayjid': 'MARIGOMEZ I 2013 ECOTOXICOLOGY', 'jtitle': 'ECOTOXICOLOGY'}\n",
        "Starting the Map: ('GARMENDIA L', 'CAJARAVILLE M') ---- > {'date': 2013, 'ayjid': 'MARIGOMEZ I 2013 ECOTOXICOLOGY', 'jtitle': 'ECOTOXICOLOGY'}\n",
        "Starting the Map: ('IZAGIRRE U', 'JIN M') ---- > {'date': 2013, 'ayjid': 'MARIGOMEZ I 2013 ECOTOXICOLOGY', 'jtitle': 'ECOTOXICOLOGY'}\n",
        "Starting the Map: ('ORBEA A', 'IZAGIRRE U') ---- > {'date': 2013, 'ayjid': 'MARIGOMEZ I 2013 ECOTOXICOLOGY', 'jtitle': 'ECOTOXICOLOGY'}\n",
        "Starting the Map: ('MARIGOMEZ I', 'IZAGIRRE U') ---- > {'date': 2013, 'ayjid': 'MARIGOMEZ I 2013 ECOTOXICOLOGY', 'jtitle': 'ECOTOXICOLOGY'}\n",
        "Starting the Map: ('MARIGOMEZ I', 'ORBEA A') ---- > {'date': 2013, 'ayjid': 'MARIGOMEZ I 2013 ECOTOXICOLOGY', 'jtitle': 'ECOTOXICOLOGY'}\n",
        "Starting the Map: ('GARMENDIA L', 'JIN M') ---- > {'date': 2013, 'ayjid': 'MARIGOMEZ I 2013 ECOTOXICOLOGY', 'jtitle': 'ECOTOXICOLOGY'}\n",
        "Starting the Map: ('IZAGIRRE U', 'CAJARAVILLE M') ---- > {'date': 2013, 'ayjid': 'MARIGOMEZ I 2013 ECOTOXICOLOGY', 'jtitle': 'ECOTOXICOLOGY'}\n",
        "Starting the Map: ('GARMENDIA L', 'ORBEA A') ---- > {'date': 2013, 'ayjid': 'MARIGOMEZ I 2013 ECOTOXICOLOGY', 'jtitle': 'ECOTOXICOLOGY'}\n",
        "Starting the Map: ('TONG X', 'JIN M') ---- > {'date': 2013, 'ayjid': 'HAN D 2013 ENVIRONMENTAL MONITORING AND ASSESSMENT', 'jtitle': 'ENVIRONMENTAL MONITORING AND ASSESSMENT'}\n",
        "Starting the Map: ('TONG X', 'CAJARAVILLE M') ---- > {'date': 2013, 'ayjid': 'HAN D 2013 ENVIRONMENTAL MONITORING AND ASSESSMENT', 'jtitle': 'ENVIRONMENTAL MONITORING AND ASSESSMENT'}\n",
        "Starting the Map: ('JIN M', 'CAJARAVILLE M') ---- > defaultdict(<type 'list'>, {'date': [2013, 2013], 'jtitle': ['ECOTOXICOLOGY', 'ENVIRONMENTAL MONITORING AND ASSESSMENT'], 'ayjid': ['MARIGOMEZ I 2013 ECOTOXICOLOGY', 'HAN D 2013 ENVIRONMENTAL MONITORING AND ASSESSMENT']})\n",
        "Starting the Map: ('ORBEA A', 'CAJARAVILLE M') ---- > {'date': 2013, 'ayjid': 'MARIGOMEZ I 2013 ECOTOXICOLOGY', 'jtitle': 'ECOTOXICOLOGY'}\n",
        "Starting the Map: ('SOTO M', 'ORBEA A') ---- > {'date': 2013, 'ayjid': 'MARIGOMEZ I 2013 ECOTOXICOLOGY', 'jtitle': 'ECOTOXICOLOGY'}\n",
        "Starting the Map: ('SOTO M', 'JIN M') ---- > {'date': 2013, 'ayjid': 'MARIGOMEZ I 2013 ECOTOXICOLOGY', 'jtitle': 'ECOTOXICOLOGY'}\n",
        "Starting the Map: ('HAN D', 'JIN M') ---- > {'date': 2013, 'ayjid': 'HAN D 2013 ENVIRONMENTAL MONITORING AND ASSESSMENT', 'jtitle': 'ENVIRONMENTAL MONITORING AND ASSESSMENT'}\n",
        "Starting the Map: ('HAN D', 'CAJARAVILLE M') ---- > {'date': 2013, 'ayjid': 'HAN D 2013 ENVIRONMENTAL MONITORING AND ASSESSMENT', 'jtitle': 'ENVIRONMENTAL MONITORING AND ASSESSMENT'}\n",
        "Starting the Map: ('GARMENDIA L', 'SOTO M') ---- > {'date': 2013, 'ayjid': 'MARIGOMEZ I 2013 ECOTOXICOLOGY', 'jtitle': 'ECOTOXICOLOGY'}\n",
        "Starting the Map: ('MARIGOMEZ I', 'GARMENDIA L') ---- > {'date': 2013, 'ayjid': 'MARIGOMEZ I 2013 ECOTOXICOLOGY', 'jtitle': 'ECOTOXICOLOGY'}\n",
        "Starting the Map: ('SOTO M', 'IZAGIRRE U') ---- > {'date': 2013, 'ayjid': 'MARIGOMEZ I 2013 ECOTOXICOLOGY', 'jtitle': 'ECOTOXICOLOGY'}\n",
        "Starting the Map: ('ORBEA A', 'JIN M') ---- > {'date': 2013, 'ayjid': 'MARIGOMEZ I 2013 ECOTOXICOLOGY', 'jtitle': 'ECOTOXICOLOGY'}\n",
        "Starting the Map: ('HAN D', 'TONG X') ---- > {'date': 2013, 'ayjid': 'HAN D 2013 ENVIRONMENTAL MONITORING AND ASSESSMENT', 'jtitle': 'ENVIRONMENTAL MONITORING AND ASSESSMENT'}\n",
        "Starting the Map: ('SOTO M', 'CAJARAVILLE M') ---- > {'date': 2013, 'ayjid': 'MARIGOMEZ I 2013 ECOTOXICOLOGY', 'jtitle': 'ECOTOXICOLOGY'}\n",
        "Starting the Map: ('GARMENDIA L', 'IZAGIRRE U') ---- > {'date': 2013, 'ayjid': 'MARIGOMEZ I 2013 ECOTOXICOLOGY', 'jtitle': 'ECOTOXICOLOGY'}\n",
        "Starting the Map: ('MARIGOMEZ I', 'JIN M') ---- > {'date': 2013, 'ayjid': 'MARIGOMEZ I 2013 ECOTOXICOLOGY', 'jtitle': 'ECOTOXICOLOGY'}\n",
        "Starting the Map: ('MARIGOMEZ I', 'SOTO M') ---- > {'date': 2013, 'ayjid': 'MARIGOMEZ I 2013 ECOTOXICOLOGY', 'jtitle': 'ECOTOXICOLOGY'}\n",
        "comes here################\n"
       ]
      }
     ],
     "prompt_number": 1
    },
    {
     "cell_type": "code",
     "collapsed": false,
     "input": [
      "import fileinput\n",
      "import sys\n",
      "\n",
      "for line in fileinput.FileInput('../testsuite/testin/coauthors_2_recs.txt'):\n",
      "    sys.stdout.write(\"-> \")\n",
      "    sys.stdout.write(line)\n",
      "    print line"
     ],
     "language": "python",
     "metadata": {},
     "outputs": [
      {
       "output_type": "stream",
       "stream": "stdout",
       "text": [
        "-> FN Thomson Reuters Web of Knowledge\n",
        "-> VR 1.0\n",
        "-> PT J\n",
        "-> AU Marigomez, I\n",
        "->    Garmendia, L\n",
        "->    Soto, M\n",
        "->    Orbea, A\n",
        "->    Izagirre, U\n",
        "->    Jin, MG\n",
        "->    Cajaraville, MP\n",
        "-> TI Marine ecosystem health status assessment through integrative biomarker\n",
        "->    indices: a comparative study after the Prestige oil spill \"Mussel Watch\"\n",
        "-> SO ECOTOXICOLOGY\n",
        "-> CR ADAMS SM, 1993, T AM FISH SOC, V122, P63, DOI 10.1577/1548-8659(1993)122<0063:AQHAIF>2.3.CO;2\n",
        "->    Beliaeff B, 2002, ENVIRON TOXICOL CHEM, V21, P1316, DOI 10.1897/1551-5028(2002)021<1316:IBRAUT>2.0.CO;2\n",
        "-> PU SPRINGER\n",
        "-> J9 ECOTOXICOLOGY\n",
        "-> JI Ecotoxicology\n",
        "-> PY 2013\n",
        "-> BP 486\n",
        "-> EP 505\n",
        "-> DI 10.1007/s10646-013-1042-4\n",
        "-> ER\n",
        "-> \n",
        "-> PT J\n",
        "-> AU Han, DM\n",
        "->    Tong, XX\n",
        "->    Jin, MG\n",
        "->    Cajaraville, MP\n",
        "-> AF Han, D. M.\n",
        "->    Tong, X. X.\n",
        "->    Jin, M. G.\n",
        "->    Cajaraville, Miren P.\n",
        "-> TI Evaluation of organic contamination in urban groundwater surrounding a\n",
        "->    municipal landfill, Zhoukou, China\n",
        "-> SO ENVIRONMENTAL MONITORING AND ASSESSMENT\n",
        "-> CR Akyuz M, 2010, SCI TOTAL ENVIRON, V408, P5550, DOI 10.1016/j.scitotenv.2010.07.063\n",
        "->    APHA, 1992, STAND METH EX WAT WA\n",
        "->    Basberg L, 1998, AQUAT GEOCHEM, V4, P253, DOI 10.1023/A:1009623205558\n",
        "-> PU SPRINGER\n",
        "-> J9 ENVIRON MONIT ASSESS\n",
        "-> JI Environ. Monit. Assess.\n",
        "-> PY 2013\n",
        "-> BP 3413\n",
        "-> EP 3444\n",
        "-> DI 10.1007/s10661-012-2801-z\n",
        "-> ER\n"
       ]
      }
     ],
     "prompt_number": 26
    }
   ],
   "metadata": {}
  }
 ]
}
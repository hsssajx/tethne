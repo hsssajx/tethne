{
 "metadata": {
  "name": ""
 },
 "nbformat": 3,
 "nbformat_minor": 0,
 "worksheets": [
  {
   "cells": [
    {
     "cell_type": "code",
     "collapsed": false,
     "input": [
      "import tethne.readers as rd\n",
      "filepath = \"../testsuite/testin/coauthors_2_recs.txt\"\n",
      "wos_list = rd.wos.parse_wos(filepath)\n",
      "meta_list = rd.wos.wos2meta(wos_list)\n",
      "\n",
      "import tethne.networks as nt\n",
      "coauthors = nt.authors.coauthors(meta_list, 'date','jtitle','ayjid')\n",
      "\n",
      "for paper in meta_list:\n",
      "    print paper['aulast'], paper['jtitle']\n",
      "\n",
      "print \"comes here################\"\n",
      "import tethne.writers as wr\n",
      "wr.graph.to_gexf(coauthors, \"../testsuite/testout/coauthors_code_changed\")\n",
      "\n",
      "print coauthors.nodes()\n",
      "print '@@@@@@@@edges@@@@@'\n",
      "print coauthors.edges()"
     ],
     "language": "python",
     "metadata": {},
     "outputs": [
      {
       "output_type": "stream",
       "stream": "stdout",
       "text": [
        "['MARIGOMEZ', 'GARMENDIA', 'SOTO', 'ORBEA', 'IZAGIRRE', 'CAJARAVILLE'] ECOTOXICOLOGY\n",
        "['HAN', 'TONG', 'JIN', 'CAJARAVILLE', 'MARIGOMEZ', 'GARMENDIA'] ENVIRONMENTAL MONITORING AND ASSESSMENT\n",
        "comes here################\n",
        "['IZAGIRRE U', 'TONG X', 'JIN M', 'HAN D', 'CAJARAVILLE M', 'MARIGOMEZ I', 'ORBEA A', 'SOTO M', 'GARMENDIA L']\n",
        "[('IZAGIRRE U', 'CAJARAVILLE M'), ('IZAGIRRE U', 'ORBEA A'), ('IZAGIRRE U', 'MARIGOMEZ I'), ('IZAGIRRE U', 'SOTO M'), ('IZAGIRRE U', 'GARMENDIA L'), ('TONG X', 'CAJARAVILLE M'), ('TONG X', 'MARIGOMEZ I'), ('TONG X', 'JIN M'), ('TONG X', 'HAN D'), ('TONG X', 'GARMENDIA L'), ('JIN M', 'CAJARAVILLE M'), ('JIN M', 'MARIGOMEZ I'), ('JIN M', 'HAN D'), ('JIN M', 'GARMENDIA L'), ('HAN D', 'CAJARAVILLE M'), ('HAN D', 'MARIGOMEZ I'), ('HAN D', 'GARMENDIA L'), ('CAJARAVILLE M', 'MARIGOMEZ I'), ('CAJARAVILLE M', 'ORBEA A'), ('CAJARAVILLE M', 'SOTO M'), ('CAJARAVILLE M', 'GARMENDIA L'), ('MARIGOMEZ I', 'ORBEA A'), ('MARIGOMEZ I', 'SOTO M'), ('MARIGOMEZ I', 'GARMENDIA L'), ('ORBEA A', 'SOTO M'), ('ORBEA A', 'GARMENDIA L'), ('SOTO M', 'GARMENDIA L')]\n"
       ]
      }
     ],
     "prompt_number": 10
    },
    {
     "cell_type": "code",
     "collapsed": false,
     "input": [
      "import networkx as nx\n",
      "G=nx.Graph()   # or DiGraph, MultiGraph, MultiDiGraph, etc\n",
      "G.add_path([0,1,2,3])\n",
      "#G.add_path([10,11,12],weight=7)"
     ],
     "language": "python",
     "metadata": {},
     "outputs": [
      {
       "output_type": "stream",
       "stream": "stdout",
       "text": [
        "\n"
       ]
      }
     ],
     "prompt_number": 24
    }
   ],
   "metadata": {}
  }
 ]
}
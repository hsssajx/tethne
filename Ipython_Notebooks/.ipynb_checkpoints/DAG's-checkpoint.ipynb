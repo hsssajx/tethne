{
 "metadata": {
  "name": ""
 },
 "nbformat": 3,
 "nbformat_minor": 0,
 "worksheets": [
  {
   "cells": [
    {
     "cell_type": "code",
     "collapsed": false,
     "input": [
      "import tethne.readers as rd\n",
      "import tethne.networks as nt\n",
      "import networkx as nx\n",
      "#import tethne.networks.dagfunctions as dag\n",
      "\n",
      "#filepath = \"../docs/savedrecs.txt\"\n",
      "filepath = \"../testsuite/testin/citations_test.txt\"\n",
      "wos_list = rd.wos.parse_wos(filepath)\n",
      "meta_list = rd.wos.wos2meta(wos_list)\n",
      "\n",
      "for paper in meta_list:\n",
      "    #print 'citations id:\\n', paper['citations'][-1]['ayjid']\n",
      "    #print 'paper ayjid:\\n',paper['ayjid']\n",
      "    pass\n",
      "\n",
      "cites, internal_cites = nt.citations.direct_citation(meta_list, 'doi', 'date') \n",
      "\n",
      "print \"------Cites Nodes----\"\n",
      "print '\\n',cites.nodes()\n",
      "print \"####Cites Edges####\"\n",
      "print cites.edges(),'\\n'\n",
      "print \"----Internal Nodes--\"\n",
      "print internal_cites.nodes(),'\\n'\n",
      "print \"----Internal Edges--\"\n",
      "print internal_cites.edges(),'\\n'\n",
      "\n",
      "print \"node attribs\"\n",
      "print nx.get_node_attributes(cites,\"date\"),'\\n'\n",
      "\n",
      "c_des = nx.descendants(cites,'ALAMPORA G 1999 INFORMATION SCIENCES')\n",
      "i_des = nx.descendants(internal_cites,'ALAMPORA G 1999 INFORMATION SCIENCES')\n",
      "\n",
      "c_ans = nx.ancestors(cites,'WU Z 2012 NEUROCOMPUTING')\n",
      "i_ans = nx.ancestors(internal_cites,'ALAMPORA G 1999 INFORMATION SCIENCES')\n",
      "\n",
      "print 'cites desendants: \\n', c_des\n",
      "print 'Internal descendants:\\n', i_des\n",
      "\n",
      "print 'cites anscestors:', c_ans\n",
      "print 'Internal anscestors:', i_ans\n",
      "\n",
      "is_directed = cites.is_directed()\n",
      "is_dag = nx.is_directed_acyclic_graph(cites)\n",
      "is_internal_dag = nx.is_directed_acyclic_graph(internal_cites)\n",
      "\n",
      "print 'Is it directed? :' , is_directed\n",
      "print 'Is Cites dag :' , is_dag\n",
      "print 'Is Internal Cites dag :' , is_internal_dag\n",
      "\n",
      "\n",
      "import tethne.writers as wr\n",
      "wr.graph.to_gexf(cites, \"../testsuite/testout/cites\" )\n",
      "wr.graph.to_gexf(internal_cites, \"../testsuite/testout/internal_cites\")\n"
     ],
     "language": "python",
     "metadata": {},
     "outputs": [
      {
       "output_type": "stream",
       "stream": "stdout",
       "text": [
        "------Cites Nodes----\n",
        "\n",
        "['Mei T. 2012 ACM TOMCCAP', 'Dawkins R 1976 SELFISH GENE', 'ESHELMAN LJ 1993 FDN GENETIC ALGORITH', 'Chen YL 2008 EXPERT SYST APPL', 'Do HH 2007 INFORM SYST', 'Euzenat J. 2010 P 5 INT WORKSH ONT M', 'Wu Z. 2011 CIKM 11', 'Chen YL 2009 EUR J OPER RES', 'Garcia S 2009 J HEURISTICS', 'Winkler W. 1999 TECHNICAL REPORT', 'Ting CK 2010 INFORM SCIENCES', 'Stoilos G. 2005 P 4 INT SEM WEB C IS', 'Abdullah S 2012 INFORM SCIENCES', 'Hu J. 2008 SIGIR 08', 'Mei T. 2011 P IEEE', 'HUANG T 2013 UROPEAN JOURNAL OF OPERATIONAL RESEARCH', 'Wu HC 2008 ACM T INFORM SYST', 'Euzenat J. 2011 P 6 INT WORKSH ONT M', 'Hu XH 2009 KDD-09: 15TH ACM SIGKDD CONFERENCE ON KNOWLEDGE DISCOVERY AND DATA MINING', 'Quix C. 2010 P 5 INT WORKSH ONT M', 'Euzenat J. 2011 LECT NOTES COMPUTER', 'AZAMPORA G 1998 INFORMATION SCIENCES', 'Wu ZD 2012 COMPUT J', 'Wen Y 2011 INFORM SCIENCES', 'Wang Z. 2010 P 5 INT WORKSH ONT M', 'Chen YL 2010 DECIS SUPPORT SYST', 'Mei T. 2008 MM 08', 'Xu P. 2010 P 5 INT WORKSH ONT M', 'Pak AN 2010 WORLD WIDE WEB', 'Acampora G 2012 INT J INTELL SYST', 'Rahm E 2001 VLDB J', 'Cruz I.F. 2010 P 5 INT WORKSH ONT M', 'Bock J 2012 INFORM SCIENCES', 'Ribeiro-Neto B. 2005 SIGIR 2005. Proceedings of the Twenty-Eighth Annual International ACM SIGIR Conference on Research and Development in Information Retrieval', 'Euzenat J. 2007 ONTOLOGY MATCHING', 'SALTON G 1975 COMMUN ACM', 'Gen M 1997 GENETIC ALGORITHMS E', 'Papadopoulos S 2009 LECT NOTES COMPUT SC', 'van Rijsbergen 1979 INFORM RETRIEVAL', 'Friedman M 1937 J AM STAT ASSOC', 'Anagnostopoulos A. 2007 CIKM 07', 'Chen YL 2006 FUZZY SET SYST', 'Vazquez Naya 2010 SOFT COMPUTING METHO', 'Deb K. 1995 COMPLEX SYSTEMS', 'WU Z 2012 NEUROCOMPUTING', 'David J. 2007 THESIS U NANTES', 'ALAMPORA G 1999 INFORMATION SCIENCES', 'Pak A. 2011 P 4 INT C HUM LANG T', 'Murdock V. 2007 SIGKDD WORKSH 07', 'Euzenat J. 2008 STATE ART ONTOLOGY A', 'Tang J. 2007 SOFT COMPUT', 'Wang J. 2006 P IEEE AS PAC C SERV', 'Ehrig M 2007 SEMAT WEB BEYOND-COM', 'Wei W. 2010 P 5 INT WORKSH ONT M', 'Hu J. 2009 WWW 09', 'Demsar J 2006 J MACH LEARN RES']\n",
        "####Cites Edges####\n",
        "[('WU Z 2012 NEUROCOMPUTING', 'Mei T. 2012 ACM TOMCCAP'), ('WU Z 2012 NEUROCOMPUTING', 'Chen YL 2008 EXPERT SYST APPL'), ('WU Z 2012 NEUROCOMPUTING', 'Wu Z. 2011 CIKM 11'), ('WU Z 2012 NEUROCOMPUTING', 'Chen YL 2009 EUR J OPER RES'), ('WU Z 2012 NEUROCOMPUTING', 'Ting CK 2010 INFORM SCIENCES'), ('WU Z 2012 NEUROCOMPUTING', 'Hu J. 2008 SIGIR 08'), ('WU Z 2012 NEUROCOMPUTING', 'Mei T. 2011 P IEEE'), ('WU Z 2012 NEUROCOMPUTING', 'HUANG T 2013 UROPEAN JOURNAL OF OPERATIONAL RESEARCH'), ('WU Z 2012 NEUROCOMPUTING', 'Wu HC 2008 ACM T INFORM SYST'), ('WU Z 2012 NEUROCOMPUTING', 'Hu XH 2009 KDD-09: 15TH ACM SIGKDD CONFERENCE ON KNOWLEDGE DISCOVERY AND DATA MINING'), ('WU Z 2012 NEUROCOMPUTING', 'Wu ZD 2012 COMPUT J'), ('WU Z 2012 NEUROCOMPUTING', 'Chen YL 2010 DECIS SUPPORT SYST'), ('WU Z 2012 NEUROCOMPUTING', 'Mei T. 2008 MM 08'), ('WU Z 2012 NEUROCOMPUTING', 'Pak AN 2010 WORLD WIDE WEB'), ('WU Z 2012 NEUROCOMPUTING', 'Ribeiro-Neto B. 2005 SIGIR 2005. Proceedings of the Twenty-Eighth Annual International ACM SIGIR Conference on Research and Development in Information Retrieval'), ('WU Z 2012 NEUROCOMPUTING', 'SALTON G 1975 COMMUN ACM'), ('WU Z 2012 NEUROCOMPUTING', 'Papadopoulos S 2009 LECT NOTES COMPUT SC'), ('WU Z 2012 NEUROCOMPUTING', 'van Rijsbergen 1979 INFORM RETRIEVAL'), ('WU Z 2012 NEUROCOMPUTING', 'Anagnostopoulos A. 2007 CIKM 07'), ('WU Z 2012 NEUROCOMPUTING', 'Chen YL 2006 FUZZY SET SYST'), ('WU Z 2012 NEUROCOMPUTING', 'Vazquez Naya 2010 SOFT COMPUTING METHO'), ('WU Z 2012 NEUROCOMPUTING', 'ALAMPORA G 1999 INFORMATION SCIENCES'), ('WU Z 2012 NEUROCOMPUTING', 'Pak A. 2011 P 4 INT C HUM LANG T'), ('WU Z 2012 NEUROCOMPUTING', 'Murdock V. 2007 SIGKDD WORKSH 07'), ('WU Z 2012 NEUROCOMPUTING', 'Hu J. 2009 WWW 09'), ('ALAMPORA G 1999 INFORMATION SCIENCES', 'Mei T. 2012 ACM TOMCCAP'), ('ALAMPORA G 1999 INFORMATION SCIENCES', 'Dawkins R 1976 SELFISH GENE'), ('ALAMPORA G 1999 INFORMATION SCIENCES', 'ESHELMAN LJ 1993 FDN GENETIC ALGORITH'), ('ALAMPORA G 1999 INFORMATION SCIENCES', 'Chen YL 2008 EXPERT SYST APPL'), ('ALAMPORA G 1999 INFORMATION SCIENCES', 'Do HH 2007 INFORM SYST'), ('ALAMPORA G 1999 INFORMATION SCIENCES', 'Euzenat J. 2010 P 5 INT WORKSH ONT M'), ('ALAMPORA G 1999 INFORMATION SCIENCES', 'Abdullah S 2012 INFORM SCIENCES'), ('ALAMPORA G 1999 INFORMATION SCIENCES', 'Chen YL 2009 EUR J OPER RES'), ('ALAMPORA G 1999 INFORMATION SCIENCES', 'Garcia S 2009 J HEURISTICS'), ('ALAMPORA G 1999 INFORMATION SCIENCES', 'Winkler W. 1999 TECHNICAL REPORT'), ('ALAMPORA G 1999 INFORMATION SCIENCES', 'Ting CK 2010 INFORM SCIENCES'), ('ALAMPORA G 1999 INFORMATION SCIENCES', 'Stoilos G. 2005 P 4 INT SEM WEB C IS'), ('ALAMPORA G 1999 INFORMATION SCIENCES', 'Mei T. 2011 P IEEE'), ('ALAMPORA G 1999 INFORMATION SCIENCES', 'Euzenat J. 2011 P 6 INT WORKSH ONT M'), ('ALAMPORA G 1999 INFORMATION SCIENCES', 'Quix C. 2010 P 5 INT WORKSH ONT M'), ('ALAMPORA G 1999 INFORMATION SCIENCES', 'Euzenat J. 2011 LECT NOTES COMPUTER'), ('ALAMPORA G 1999 INFORMATION SCIENCES', 'AZAMPORA G 1998 INFORMATION SCIENCES'), ('ALAMPORA G 1999 INFORMATION SCIENCES', 'Wen Y 2011 INFORM SCIENCES'), ('ALAMPORA G 1999 INFORMATION SCIENCES', 'Chen YL 2010 DECIS SUPPORT SYST'), ('ALAMPORA G 1999 INFORMATION SCIENCES', 'Mei T. 2008 MM 08'), ('ALAMPORA G 1999 INFORMATION SCIENCES', 'Xu P. 2010 P 5 INT WORKSH ONT M'), ('ALAMPORA G 1999 INFORMATION SCIENCES', 'Wang Z. 2010 P 5 INT WORKSH ONT M'), ('ALAMPORA G 1999 INFORMATION SCIENCES', 'Acampora G 2012 INT J INTELL SYST'), ('ALAMPORA G 1999 INFORMATION SCIENCES', 'Rahm E 2001 VLDB J'), ('ALAMPORA G 1999 INFORMATION SCIENCES', 'Bock J 2012 INFORM SCIENCES'), ('ALAMPORA G 1999 INFORMATION SCIENCES', 'Euzenat J. 2007 ONTOLOGY MATCHING'), ('ALAMPORA G 1999 INFORMATION SCIENCES', 'Gen M 1997 GENETIC ALGORITHMS E'), ('ALAMPORA G 1999 INFORMATION SCIENCES', 'Friedman M 1937 J AM STAT ASSOC'), ('ALAMPORA G 1999 INFORMATION SCIENCES', 'van Rijsbergen 1979 INFORM RETRIEVAL'), ('ALAMPORA G 1999 INFORMATION SCIENCES', 'Chen YL 2006 FUZZY SET SYST'), ('ALAMPORA G 1999 INFORMATION SCIENCES', 'Deb K. 1995 COMPLEX SYSTEMS'), ('ALAMPORA G 1999 INFORMATION SCIENCES', 'David J. 2007 THESIS U NANTES'), ('ALAMPORA G 1999 INFORMATION SCIENCES', 'Cruz I.F. 2010 P 5 INT WORKSH ONT M'), ('ALAMPORA G 1999 INFORMATION SCIENCES', 'Vazquez Naya 2010 SOFT COMPUTING METHO'), ('ALAMPORA G 1999 INFORMATION SCIENCES', 'Euzenat J. 2008 STATE ART ONTOLOGY A'), ('ALAMPORA G 1999 INFORMATION SCIENCES', 'Tang J. 2007 SOFT COMPUT'), ('ALAMPORA G 1999 INFORMATION SCIENCES', 'Wang J. 2006 P IEEE AS PAC C SERV'), ('ALAMPORA G 1999 INFORMATION SCIENCES', 'Ehrig M 2007 SEMAT WEB BEYOND-COM'), ('ALAMPORA G 1999 INFORMATION SCIENCES', 'Wei W. 2010 P 5 INT WORKSH ONT M'), ('ALAMPORA G 1999 INFORMATION SCIENCES', 'Demsar J 2006 J MACH LEARN RES')] \n",
        "\n",
        "----Internal Nodes--\n",
        "['ALAMPORA G 1999 INFORMATION SCIENCES', 'WU Z 2012 NEUROCOMPUTING'] \n",
        "\n",
        "----Internal Edges--\n",
        "[('WU Z 2012 NEUROCOMPUTING', 'ALAMPORA G 1999 INFORMATION SCIENCES')] \n",
        "\n",
        "node attribs\n",
        "{'Mei T. 2012 ACM TOMCCAP': 2012, 'Dawkins R 1976 SELFISH GENE': 1976, 'ESHELMAN LJ 1993 FDN GENETIC ALGORITH': 1993, 'Chen YL 2008 EXPERT SYST APPL': 2008, 'Do HH 2007 INFORM SYST': 2007, 'Euzenat J. 2010 P 5 INT WORKSH ONT M': 2010, 'Wu Z. 2011 CIKM 11': 2011, 'Chen YL 2009 EUR J OPER RES': 2009, 'Garcia S 2009 J HEURISTICS': 2009, 'David J. 2007 THESIS U NANTES': 2007, 'Ting CK 2010 INFORM SCIENCES': 2010, 'Stoilos G. 2005 P 4 INT SEM WEB C IS': 2005, 'Hu J. 2008 SIGIR 08': 2008, 'Mei T. 2011 P IEEE': 2011, 'Mei T. 2008 MM 08': 2008, 'Wu HC 2008 ACM T INFORM SYST': 2008, 'Euzenat J. 2011 P 6 INT WORKSH ONT M': 2011, 'Hu XH 2009 KDD-09: 15TH ACM SIGKDD CONFERENCE ON KNOWLEDGE DISCOVERY AND DATA MINING': 2009, 'Quix C. 2010 P 5 INT WORKSH ONT M': 2010, 'Euzenat J. 2011 LECT NOTES COMPUTER': 2011, 'AZAMPORA G 1998 INFORMATION SCIENCES': 1998, 'Wu ZD 2012 COMPUT J': 2012, 'Wen Y 2011 INFORM SCIENCES': 2011, 'Chen YL 2010 DECIS SUPPORT SYST': 2010, 'HUANG T 2013 UROPEAN JOURNAL OF OPERATIONAL RESEARCH': 2013, 'Wang Z. 2010 P 5 INT WORKSH ONT M': 2010, 'Acampora G 2012 INT J INTELL SYST': 2012, 'Rahm E 2001 VLDB J': 2001, 'Pak A. 2011 P 4 INT C HUM LANG T': 2011, 'Bock J 2012 INFORM SCIENCES': 2012, 'Ribeiro-Neto B. 2005 SIGIR 2005. Proceedings of the Twenty-Eighth Annual International ACM SIGIR Conference on Research and Development in Information Retrieval': 2005, 'Euzenat J. 2007 ONTOLOGY MATCHING': 2007, 'Gen M 1997 GENETIC ALGORITHMS E': 1997, 'Abdullah S 2012 INFORM SCIENCES': 2012, 'Pak AN 2010 WORLD WIDE WEB': 2010, 'van Rijsbergen 1979 INFORM RETRIEVAL': 1979, 'Friedman M 1937 J AM STAT ASSOC': 1937, 'Anagnostopoulos A. 2007 CIKM 07': 2007, 'Chen YL 2006 FUZZY SET SYST': 2006, 'Murdock V. 2007 SIGKDD WORKSH 07': 2007, 'Deb K. 1995 COMPLEX SYSTEMS': 1995, 'WU Z 2012 NEUROCOMPUTING': 2012, 'Winkler W. 1999 TECHNICAL REPORT': 1999, 'Ehrig M 2007 SEMAT WEB BEYOND-COM': 2007, 'ALAMPORA G 1999 INFORMATION SCIENCES': 1999, 'Papadopoulos S 2009 LECT NOTES COMPUT SC': 2009, 'Cruz I.F. 2010 P 5 INT WORKSH ONT M': 2010, 'Vazquez Naya 2010 SOFT COMPUTING METHO': 2010, 'Euzenat J. 2008 STATE ART ONTOLOGY A': 2008, 'Tang J. 2007 SOFT COMPUT': 2007, 'Wang J. 2006 P IEEE AS PAC C SERV': 2006, 'SALTON G 1975 COMMUN ACM': 1975, 'Xu P. 2010 P 5 INT WORKSH ONT M': 2010, 'Wei W. 2010 P 5 INT WORKSH ONT M': 2010, 'Hu J. 2009 WWW 09': 2009, 'Demsar J 2006 J MACH LEARN RES': 2006} \n",
        "\n",
        "cites desendants: \n",
        "set(['Mei T. 2012 ACM TOMCCAP', 'Dawkins R 1976 SELFISH GENE', 'ESHELMAN LJ 1993 FDN GENETIC ALGORITH', 'Chen YL 2008 EXPERT SYST APPL', 'Do HH 2007 INFORM SYST', 'Euzenat J. 2010 P 5 INT WORKSH ONT M', 'Abdullah S 2012 INFORM SCIENCES', 'Chen YL 2009 EUR J OPER RES', 'Garcia S 2009 J HEURISTICS', 'Winkler W. 1999 TECHNICAL REPORT', 'Ting CK 2010 INFORM SCIENCES', 'Stoilos G. 2005 P 4 INT SEM WEB C IS', 'Mei T. 2011 P IEEE', 'Euzenat J. 2011 P 6 INT WORKSH ONT M', 'Quix C. 2010 P 5 INT WORKSH ONT M', 'Euzenat J. 2011 LECT NOTES COMPUTER', 'AZAMPORA G 1998 INFORMATION SCIENCES', 'Wen Y 2011 INFORM SCIENCES', 'Chen YL 2010 DECIS SUPPORT SYST', 'Mei T. 2008 MM 08', 'Xu P. 2010 P 5 INT WORKSH ONT M', 'Wang Z. 2010 P 5 INT WORKSH ONT M', 'Acampora G 2012 INT J INTELL SYST', 'Rahm E 2001 VLDB J', 'Bock J 2012 INFORM SCIENCES', 'Euzenat J. 2007 ONTOLOGY MATCHING', 'Gen M 1997 GENETIC ALGORITHMS E', 'Friedman M 1937 J AM STAT ASSOC', 'van Rijsbergen 1979 INFORM RETRIEVAL', 'Chen YL 2006 FUZZY SET SYST', 'Deb K. 1995 COMPLEX SYSTEMS', 'David J. 2007 THESIS U NANTES', 'Cruz I.F. 2010 P 5 INT WORKSH ONT M', 'Vazquez Naya 2010 SOFT COMPUTING METHO', 'Euzenat J. 2008 STATE ART ONTOLOGY A', 'Tang J. 2007 SOFT COMPUT', 'Wang J. 2006 P IEEE AS PAC C SERV', 'Ehrig M 2007 SEMAT WEB BEYOND-COM', 'Wei W. 2010 P 5 INT WORKSH ONT M', 'Demsar J 2006 J MACH LEARN RES'])\n",
        "Internal descendants:\n",
        "set([])\n",
        "cites anscestors: set([])\n",
        "Internal anscestors: set(['WU Z 2012 NEUROCOMPUTING'])\n",
        "Is it directed? : True\n",
        "Is Cites dag : True\n",
        "Is Internal Cites dag : True\n"
       ]
      }
     ],
     "prompt_number": 5
    },
    {
     "cell_type": "code",
     "collapsed": false,
     "input": [],
     "language": "python",
     "metadata": {},
     "outputs": []
    }
   ],
   "metadata": {}
  }
 ]
}
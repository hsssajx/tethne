{
 "metadata": {
  "name": ""
 },
 "nbformat": 3,
 "nbformat_minor": 0,
 "worksheets": [
  {
   "cells": [
    {
     "cell_type": "code",
     "collapsed": false,
     "input": [
      "import tethne.readers as rd\n",
      "import tethne.networks as nt\n",
      "#import tethne.networks.dagfunctions as dag\n",
      "\n",
      "#filepath = \"../docs/savedrecs.txt\"\n",
      "filepath = \"../testsuite/testin/citations_test.txt\"\n",
      "wos_list = rd.wos.parse_wos(filepath)\n",
      "meta_list = rd.wos.wos2meta(wos_list)\n",
      "\n",
      "cites, internal_cites = nt.citations.direct_citation(meta_list, 'ayjid', 'atitle', 'date') \n",
      "\n",
      "print \"------Cites Nodes----\"\n",
      "print '\\n',cites.nodes()\n",
      "print \"####Cites Edges####\"\n",
      "print cites.edges(),'\\n'\n",
      "print \"----Internal Nodes--\"\n",
      "print internal_cites.nodes(),'\\n'\n",
      "print \"----Internal Edges--\"\n",
      "print internal_cites.edges(),'\\n'\n",
      "\n",
      "c_des = dag.descendants(cites,'WU Z 2012 NEUROCOMPUTING')\n",
      "i_des = dag.descendants(internal_cites,'ALAMPORA G 1999 INFORMATION SCIENCES')\n",
      "\n",
      "c_ans = dag.ancestors(cites,'Dawkins R 1976 SELFISH GENE')\n",
      "c_pre = cites.predecessors('Dawkins R 1976 SELFISH GENE')\n",
      "c_suc = cites.successors('WU Z 2012 NEUROCOMPUTING')\n",
      "print 'c_pre' , c_pre\n",
      "print 'c_suc' , c_suc\n",
      "\n",
      "i_ans = dag.ancestors(internal_cites,'ALAMPORA G 1999 INFORMATION SCIENCES')\n",
      "\n",
      "print 'cites des:', c_des\n",
      "print 'Internal des:', i_des\n",
      "\n",
      "print 'cites ans:', c_ans\n",
      "print 'Internal ans:', i_ans\n",
      "\n",
      "is_directed = cites.is_directed()\n",
      "is_dag = dag.is_directed_acyclic_graph(cites)\n",
      "\n",
      "print 'Is it directed? :' , is_directed\n",
      "print 'Is it dag :' , is_dag\n",
      "\n",
      "\n",
      "#import tethne.writers as wr\n",
      "#wr.graph.to_gexf(cites, \"../testsuite/testout/cites\" )\n",
      "#wr.graph.to_gexf(internal_cites, \"../testsuite/testout/internal_cites\")\n"
     ],
     "language": "python",
     "metadata": {},
     "outputs": [
      {
       "ename": "AttributeError",
       "evalue": "'module' object has no attribute 'networks'",
       "output_type": "pyerr",
       "traceback": [
        "\u001b[0;31m---------------------------------------------------------------------------\u001b[0m\n\u001b[0;31mAttributeError\u001b[0m                            Traceback (most recent call last)",
        "\u001b[0;32m<ipython-input-2-cdb0e6f90b77>\u001b[0m in \u001b[0;36m<module>\u001b[0;34m()\u001b[0m\n\u001b[1;32m      7\u001b[0m \u001b[0mmeta_list\u001b[0m \u001b[0;34m=\u001b[0m \u001b[0mrd\u001b[0m\u001b[0;34m.\u001b[0m\u001b[0mwos\u001b[0m\u001b[0;34m.\u001b[0m\u001b[0mwos2meta\u001b[0m\u001b[0;34m(\u001b[0m\u001b[0mwos_list\u001b[0m\u001b[0;34m)\u001b[0m\u001b[0;34m\u001b[0m\u001b[0m\n\u001b[1;32m      8\u001b[0m \u001b[0;34m\u001b[0m\u001b[0m\n\u001b[0;32m----> 9\u001b[0;31m \u001b[0;32mimport\u001b[0m \u001b[0mtethne\u001b[0m\u001b[0;34m.\u001b[0m\u001b[0mnetworks\u001b[0m \u001b[0;32mas\u001b[0m \u001b[0mnt\u001b[0m\u001b[0;34m\u001b[0m\u001b[0m\n\u001b[0m\u001b[1;32m     10\u001b[0m \u001b[0mcites\u001b[0m\u001b[0;34m,\u001b[0m \u001b[0minternal_cites\u001b[0m \u001b[0;34m=\u001b[0m \u001b[0mnt\u001b[0m\u001b[0;34m.\u001b[0m\u001b[0mcitations\u001b[0m\u001b[0;34m.\u001b[0m\u001b[0mdirect_citation\u001b[0m\u001b[0;34m(\u001b[0m\u001b[0mmeta_list\u001b[0m\u001b[0;34m,\u001b[0m \u001b[0;34m'ayjid'\u001b[0m\u001b[0;34m,\u001b[0m \u001b[0;34m'atitle'\u001b[0m\u001b[0;34m,\u001b[0m \u001b[0;34m'date'\u001b[0m\u001b[0;34m)\u001b[0m\u001b[0;34m\u001b[0m\u001b[0m\n\u001b[1;32m     11\u001b[0m \u001b[0;34m\u001b[0m\u001b[0m\n",
        "\u001b[0;32m/Users/ramki/tethne/tethne/networks/__init__.py\u001b[0m in \u001b[0;36m<module>\u001b[0;34m()\u001b[0m\n\u001b[1;32m     23\u001b[0m \u001b[0;32mimport\u001b[0m \u001b[0mhelpers\u001b[0m\u001b[0;34m\u001b[0m\u001b[0m\n\u001b[1;32m     24\u001b[0m \u001b[0;32mimport\u001b[0m \u001b[0mterms\u001b[0m\u001b[0;34m\u001b[0m\u001b[0m\n\u001b[0;32m---> 25\u001b[0;31m \u001b[0;32mimport\u001b[0m \u001b[0mdagfunctions\u001b[0m\u001b[0;34m\u001b[0m\u001b[0m\n\u001b[0m",
        "\u001b[0;32m/Users/ramki/tethne/tethne/networks/dagfunctions.py\u001b[0m in \u001b[0;36m<module>\u001b[0;34m()\u001b[0m\n\u001b[1;32m      3\u001b[0m \u001b[0;32mimport\u001b[0m \u001b[0mtethne\u001b[0m\u001b[0;34m.\u001b[0m\u001b[0mdata\u001b[0m \u001b[0;32mas\u001b[0m \u001b[0mds\u001b[0m\u001b[0;34m\u001b[0m\u001b[0m\n\u001b[1;32m      4\u001b[0m \u001b[0;32mimport\u001b[0m \u001b[0mtethne\u001b[0m\u001b[0;34m.\u001b[0m\u001b[0mreaders\u001b[0m \u001b[0;32mas\u001b[0m \u001b[0mrd\u001b[0m\u001b[0;34m\u001b[0m\u001b[0m\n\u001b[0;32m----> 5\u001b[0;31m \u001b[0;32mimport\u001b[0m \u001b[0mtethne\u001b[0m\u001b[0;34m.\u001b[0m\u001b[0mnetworks\u001b[0m \u001b[0;32mas\u001b[0m \u001b[0mnt\u001b[0m\u001b[0;34m\u001b[0m\u001b[0m\n\u001b[0m\u001b[1;32m      6\u001b[0m \u001b[0;34m\u001b[0m\u001b[0m\n\u001b[1;32m      7\u001b[0m \u001b[0;31m#trying DAG's for citations\u001b[0m\u001b[0;34m\u001b[0m\u001b[0;34m\u001b[0m\u001b[0m\n",
        "\u001b[0;31mAttributeError\u001b[0m: 'module' object has no attribute 'networks'"
       ]
      }
     ],
     "prompt_number": 2
    },
    {
     "cell_type": "code",
     "collapsed": false,
     "input": [],
     "language": "python",
     "metadata": {},
     "outputs": []
    }
   ],
   "metadata": {}
  }
 ]
}
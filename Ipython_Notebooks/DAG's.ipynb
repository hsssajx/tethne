{
 "metadata": {
  "name": ""
 },
 "nbformat": 3,
 "nbformat_minor": 0,
 "worksheets": [
  {
   "cells": [
    {
     "cell_type": "code",
     "collapsed": false,
     "input": [
      "import tethne.readers as rd\n",
      "import tethne.networks as nt\n",
      "import networkx as nx\n",
      "#import tethne.networks.dagfunctions as dag\n",
      "\n",
      "#filepath = \"../docs/savedrecs.txt\"\n",
      "filepath = \"../testsuite/testin/citations_test.txt\"\n",
      "wos_list = rd.wos.parse_wos(filepath)\n",
      "meta_list = rd.wos.wos2meta(wos_list)\n",
      "\n",
      "for paper in meta_list:\n",
      "    #print 'citations id:\\n', paper['citations'][-1]['ayjid']\n",
      "    #print 'paper ayjid:\\n',paper['ayjid']\n",
      "    pass\n",
      "\n",
      "cites, internal_cites = nt.citations.direct_citation(meta_list, 'doi', 'date') \n",
      "\n",
      "print \"------Cites Nodes----\"\n",
      "print '\\n',cites.nodes()\n",
      "print \"####Cites Edges####\"\n",
      "print cites.edges(),'\\n'\n",
      "print \"----Internal Nodes--\"\n",
      "print internal_cites.nodes(),'\\n'\n",
      "print \"----Internal Edges--\"\n",
      "print internal_cites.edges(),'\\n'\n",
      "\n",
      "print \"node attribs\"\n",
      "print nx.get_node_attributes(cites,\"date\"),'\\n'\n",
      "\n",
      "c_des = nx.descendants(cites,'ALAMPORA G 1999 INFORMATION SCIENCES')\n",
      "i_des = nx.descendants(internal_cites,'ALAMPORA G 1999 INFORMATION SCIENCES')\n",
      "\n",
      "c_ans = nx.ancestors(cites,'WU Z 2012 NEUROCOMPUTING')\n",
      "i_ans = nx.ancestors(internal_cites,'ALAMPORA G 1999 INFORMATION SCIENCES')\n",
      "\n",
      "print 'cites desendants: \\n', c_des\n",
      "print 'Internal descendants:\\n', i_des\n",
      "\n",
      "print 'cites anscestors:', c_ans\n",
      "print 'Internal anscestors:', i_ans\n",
      "\n",
      "is_directed = cites.is_directed()\n",
      "is_dag = nx.is_directed_acyclic_graph(cites)\n",
      "is_internal_dag = nx.is_directed_acyclic_graph(internal_cites)\n",
      "\n",
      "print 'Is it directed? :' , is_directed\n",
      "print 'Is Cites dag :' , is_dag\n",
      "print 'Is Internal Cites dag :' , is_internal_dag\n",
      "\n",
      "\n",
      "import tethne.writers as wr\n",
      "wr.graph.to_gexf(cites, \"../testsuite/testout/cites\" )\n",
      "wr.graph.to_gexf(internal_cites, \"../testsuite/testout/internal_cites\")\n"
     ],
     "language": "python",
     "metadata": {},
     "outputs": [
      {
       "ename": "NetworkXError",
       "evalue": "The node ALAMPORA G 1999 INFORMATION SCIENCES is not in the graph.",
       "output_type": "pyerr",
       "traceback": [
        "\u001b[0;31m---------------------------------------------------------------------------\u001b[0m\n\u001b[0;31mNetworkXError\u001b[0m                             Traceback (most recent call last)",
        "\u001b[0;32m<ipython-input-7-82af81d1dc56>\u001b[0m in \u001b[0;36m<module>\u001b[0;34m()\u001b[0m\n\u001b[1;32m     28\u001b[0m \u001b[0;32mprint\u001b[0m \u001b[0mnx\u001b[0m\u001b[0;34m.\u001b[0m\u001b[0mget_node_attributes\u001b[0m\u001b[0;34m(\u001b[0m\u001b[0mcites\u001b[0m\u001b[0;34m,\u001b[0m\u001b[0;34m\"date\"\u001b[0m\u001b[0;34m)\u001b[0m\u001b[0;34m,\u001b[0m\u001b[0;34m'\\n'\u001b[0m\u001b[0;34m\u001b[0m\u001b[0m\n\u001b[1;32m     29\u001b[0m \u001b[0;34m\u001b[0m\u001b[0m\n\u001b[0;32m---> 30\u001b[0;31m \u001b[0mc_des\u001b[0m \u001b[0;34m=\u001b[0m \u001b[0mnx\u001b[0m\u001b[0;34m.\u001b[0m\u001b[0mdescendants\u001b[0m\u001b[0;34m(\u001b[0m\u001b[0mcites\u001b[0m\u001b[0;34m,\u001b[0m\u001b[0;34m'ALAMPORA G 1999 INFORMATION SCIENCES'\u001b[0m\u001b[0;34m)\u001b[0m\u001b[0;34m\u001b[0m\u001b[0m\n\u001b[0m\u001b[1;32m     31\u001b[0m \u001b[0mi_des\u001b[0m \u001b[0;34m=\u001b[0m \u001b[0mnx\u001b[0m\u001b[0;34m.\u001b[0m\u001b[0mdescendants\u001b[0m\u001b[0;34m(\u001b[0m\u001b[0minternal_cites\u001b[0m\u001b[0;34m,\u001b[0m\u001b[0;34m'ALAMPORA G 1999 INFORMATION SCIENCES'\u001b[0m\u001b[0;34m)\u001b[0m\u001b[0;34m\u001b[0m\u001b[0m\n\u001b[1;32m     32\u001b[0m \u001b[0;34m\u001b[0m\u001b[0m\n",
        "\u001b[0;32m/Library/Python/2.7/site-packages/networkx/algorithms/dag.pyc\u001b[0m in \u001b[0;36mdescendants\u001b[0;34m(G, source)\u001b[0m\n\u001b[1;32m     33\u001b[0m     \"\"\"\n\u001b[1;32m     34\u001b[0m     \u001b[0;32mif\u001b[0m \u001b[0;32mnot\u001b[0m \u001b[0mG\u001b[0m\u001b[0;34m.\u001b[0m\u001b[0mhas_node\u001b[0m\u001b[0;34m(\u001b[0m\u001b[0msource\u001b[0m\u001b[0;34m)\u001b[0m\u001b[0;34m:\u001b[0m\u001b[0;34m\u001b[0m\u001b[0m\n\u001b[0;32m---> 35\u001b[0;31m         \u001b[0;32mraise\u001b[0m \u001b[0mnx\u001b[0m\u001b[0;34m.\u001b[0m\u001b[0mNetworkXError\u001b[0m\u001b[0;34m(\u001b[0m\u001b[0;34m\"The node %s is not in the graph.\"\u001b[0m \u001b[0;34m%\u001b[0m \u001b[0msource\u001b[0m\u001b[0;34m)\u001b[0m\u001b[0;34m\u001b[0m\u001b[0m\n\u001b[0m\u001b[1;32m     36\u001b[0m     \u001b[0mdes\u001b[0m \u001b[0;34m=\u001b[0m \u001b[0mset\u001b[0m\u001b[0;34m(\u001b[0m\u001b[0mnx\u001b[0m\u001b[0;34m.\u001b[0m\u001b[0mshortest_path_length\u001b[0m\u001b[0;34m(\u001b[0m\u001b[0mG\u001b[0m\u001b[0;34m,\u001b[0m \u001b[0msource\u001b[0m\u001b[0;34m=\u001b[0m\u001b[0msource\u001b[0m\u001b[0;34m)\u001b[0m\u001b[0;34m.\u001b[0m\u001b[0mkeys\u001b[0m\u001b[0;34m(\u001b[0m\u001b[0;34m)\u001b[0m\u001b[0;34m)\u001b[0m \u001b[0;34m-\u001b[0m \u001b[0mset\u001b[0m\u001b[0;34m(\u001b[0m\u001b[0;34m[\u001b[0m\u001b[0msource\u001b[0m\u001b[0;34m]\u001b[0m\u001b[0;34m)\u001b[0m\u001b[0;34m\u001b[0m\u001b[0m\n\u001b[1;32m     37\u001b[0m     \u001b[0;32mreturn\u001b[0m \u001b[0mdes\u001b[0m\u001b[0;34m\u001b[0m\u001b[0m\n",
        "\u001b[0;31mNetworkXError\u001b[0m: The node ALAMPORA G 1999 INFORMATION SCIENCES is not in the graph."
       ]
      },
      {
       "output_type": "stream",
       "stream": "stdout",
       "text": [
        "------Cites Nodes----\n",
        "\n",
        "['10.1016/j.ins.2013.06.052', '10.2307/2279372', '10.1002/int.20517', '10.1016/j.ins.2011.12.018', '10.1016/j.ins.2010.10.001', '10.1016/j.fss.2006.02.008', '10.1016/j.neucom.2013.04.018', '10.1093/comjnl/bxr056', '10.1016/j.is.2006.09.002', '10.1007/s007780100057', '10.1016/j.ejor.2008.09.004', '10.1016/j.eswa.2007.04.004', '10.1007/s11280-010-0084-2', '10.1007/978-3-642-00958-7_21', '10.1016/j.dss.2009.12.003', '10.1016/j.ins.2010.08.021', '10.1016/j.ins.2010.08.013', '10.1007/s10732-008-9080-4', '10.1145/361219.361220']\n",
        "####Cites Edges####\n",
        "[('10.1016/j.ins.2013.06.052', '10.1007/s10732-008-9080-4'), ('10.1016/j.ins.2013.06.052', '10.1002/int.20517'), ('10.1016/j.ins.2013.06.052', '10.1016/j.ins.2011.12.018'), ('10.1016/j.ins.2013.06.052', '10.1016/j.ins.2010.10.001'), ('10.1016/j.ins.2013.06.052', '10.1016/j.ejor.2008.09.004'), ('10.1016/j.ins.2013.06.052', '10.1016/j.ins.2010.08.021'), ('10.1016/j.ins.2013.06.052', '10.1016/j.is.2006.09.002'), ('10.1016/j.ins.2013.06.052', '10.1016/j.fss.2006.02.008'), ('10.1016/j.ins.2013.06.052', '10.1016/j.eswa.2007.04.004'), ('10.1016/j.ins.2013.06.052', '10.1016/j.dss.2009.12.003'), ('10.1016/j.ins.2013.06.052', '10.2307/2279372'), ('10.1016/j.ins.2013.06.052', '10.1016/j.ins.2010.08.013'), ('10.1016/j.ins.2013.06.052', '10.1007/s007780100057'), ('10.1016/j.neucom.2013.04.018', '10.1016/j.fss.2006.02.008'), ('10.1016/j.neucom.2013.04.018', '10.1093/comjnl/bxr056'), ('10.1016/j.neucom.2013.04.018', '10.1016/j.ejor.2008.09.004'), ('10.1016/j.neucom.2013.04.018', '10.1016/j.eswa.2007.04.004'), ('10.1016/j.neucom.2013.04.018', '10.1007/978-3-642-00958-7_21'), ('10.1016/j.neucom.2013.04.018', '10.1007/s11280-010-0084-2'), ('10.1016/j.neucom.2013.04.018', '10.1016/j.dss.2009.12.003'), ('10.1016/j.neucom.2013.04.018', '10.1016/j.ins.2010.08.021'), ('10.1016/j.neucom.2013.04.018', '10.1145/361219.361220')] \n",
        "\n",
        "----Internal Nodes--\n",
        "['10.1016/j.neucom.2013.04.018', '10.1016/j.ins.2013.06.052'] \n",
        "\n",
        "----Internal Edges--\n",
        "[] \n",
        "\n",
        "node attribs\n",
        "{'10.1016/j.ins.2013.06.052': 1999, '10.1016/j.ins.2010.08.021': 2010, '10.1002/int.20517': 2012, '10.1016/j.ins.2011.12.018': 2012, '10.1016/j.ins.2010.10.001': 2011, '10.1016/j.ejor.2008.09.004': 2009, '10.1016/j.neucom.2013.04.018': 2012, '10.1007/s10732-008-9080-4': 2009, '10.1093/comjnl/bxr056': 2012, '10.1016/j.is.2006.09.002': 2007, '10.1016/j.fss.2006.02.008': 2006, '10.1016/j.eswa.2007.04.004': 2008, '10.1007/s11280-010-0084-2': 2010, '10.1007/978-3-642-00958-7_21': 2009, '10.1016/j.dss.2009.12.003': 2010, '10.2307/2279372': 1937, '10.1016/j.ins.2010.08.013': 2012, '10.1007/s007780100057': 2001, '10.1145/361219.361220': 1975} \n",
        "\n"
       ]
      }
     ],
     "prompt_number": 7
    },
    {
     "cell_type": "code",
     "collapsed": false,
     "input": [],
     "language": "python",
     "metadata": {},
     "outputs": []
    }
   ],
   "metadata": {}
  }
 ]
}
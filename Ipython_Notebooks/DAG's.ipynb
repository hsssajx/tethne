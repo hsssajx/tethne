{
 "metadata": {
  "name": ""
 },
 "nbformat": 3,
 "nbformat_minor": 0,
 "worksheets": [
  {
   "cells": [
    {
     "cell_type": "code",
     "collapsed": false,
     "input": [
      "import tethne.readers as rd\n",
      "import tethne.networks as nt\n",
      "#import tethne.networks.dagfunctions as dag\n",
      "\n",
      "#filepath = \"../docs/savedrecs.txt\"\n",
      "filepath = \"../testsuite/testin/citations_test.txt\"\n",
      "wos_list = rd.wos.parse_wos(filepath)\n",
      "meta_list = rd.wos.wos2meta(wos_list)\n",
      "\n",
      "cites, internal_cites = nt.citations.direct_citation(meta_list, 'ayjid', 'atitle', 'date') \n",
      "\n",
      "print \"------Cites Nodes----\"\n",
      "print '\\n',cites.nodes()\n",
      "print \"####Cites Edges####\"\n",
      "print cites.edges(),'\\n'\n",
      "print \"----Internal Nodes--\"\n",
      "print internal_cites.nodes(),'\\n'\n",
      "print \"----Internal Edges--\"\n",
      "print internal_cites.edges(),'\\n'\n",
      "\n",
      "c_des = dag.descendants(cites,'WU Z 2012 NEUROCOMPUTING')\n",
      "i_des = dag.descendants(internal_cites,'ALAMPORA G 1999 INFORMATION SCIENCES')\n",
      "\n",
      "c_ans = dag.ancestors(cites,'Dawkins R 1976 SELFISH GENE')\n",
      "c_pre = cites.predecessors('Dawkins R 1976 SELFISH GENE')\n",
      "c_suc = cites.successors('WU Z 2012 NEUROCOMPUTING')\n",
      "print 'c_pre' , c_pre\n",
      "print 'c_suc' , c_suc\n",
      "\n",
      "i_ans = dag.ancestors(internal_cites,'ALAMPORA G 1999 INFORMATION SCIENCES')\n",
      "\n",
      "print 'cites des:', c_des\n",
      "print 'Internal des:', i_des\n",
      "\n",
      "print 'cites ans:', c_ans\n",
      "print 'Internal ans:', i_ans\n",
      "\n",
      "is_directed = cites.is_directed()\n",
      "is_dag = dag.is_directed_acyclic_graph(cites)\n",
      "\n",
      "print 'Is it directed? :' , is_directed\n",
      "print 'Is it dag :' , is_dag\n",
      "\n",
      "\n",
      "#import tethne.writers as wr\n",
      "#wr.graph.to_gexf(cites, \"../testsuite/testout/cites\" )\n",
      "#wr.graph.to_gexf(internal_cites, \"../testsuite/testout/internal_cites\")\n"
     ],
     "language": "python",
     "metadata": {},
     "outputs": [
      {
       "ename": "NameError",
       "evalue": "name 'dag' is not defined",
       "output_type": "pyerr",
       "traceback": [
        "\u001b[0;31m---------------------------------------------------------------------------\u001b[0m\n\u001b[0;31mNameError\u001b[0m                                 Traceback (most recent call last)",
        "\u001b[0;32m<ipython-input-4-cc8784b7d7a5>\u001b[0m in \u001b[0;36m<module>\u001b[0;34m()\u001b[0m\n\u001b[1;32m     19\u001b[0m \u001b[0;32mprint\u001b[0m \u001b[0minternal_cites\u001b[0m\u001b[0;34m.\u001b[0m\u001b[0medges\u001b[0m\u001b[0;34m(\u001b[0m\u001b[0;34m)\u001b[0m\u001b[0;34m,\u001b[0m\u001b[0;34m'\\n'\u001b[0m\u001b[0;34m\u001b[0m\u001b[0m\n\u001b[1;32m     20\u001b[0m \u001b[0;34m\u001b[0m\u001b[0m\n\u001b[0;32m---> 21\u001b[0;31m \u001b[0mc_des\u001b[0m \u001b[0;34m=\u001b[0m \u001b[0mdag\u001b[0m\u001b[0;34m.\u001b[0m\u001b[0mdescendants\u001b[0m\u001b[0;34m(\u001b[0m\u001b[0mcites\u001b[0m\u001b[0;34m,\u001b[0m\u001b[0;34m'WU Z 2012 NEUROCOMPUTING'\u001b[0m\u001b[0;34m)\u001b[0m\u001b[0;34m\u001b[0m\u001b[0m\n\u001b[0m\u001b[1;32m     22\u001b[0m \u001b[0mi_des\u001b[0m \u001b[0;34m=\u001b[0m \u001b[0mdag\u001b[0m\u001b[0;34m.\u001b[0m\u001b[0mdescendants\u001b[0m\u001b[0;34m(\u001b[0m\u001b[0minternal_cites\u001b[0m\u001b[0;34m,\u001b[0m\u001b[0;34m'ALAMPORA G 1999 INFORMATION SCIENCES'\u001b[0m\u001b[0;34m)\u001b[0m\u001b[0;34m\u001b[0m\u001b[0m\n\u001b[1;32m     23\u001b[0m \u001b[0;34m\u001b[0m\u001b[0m\n",
        "\u001b[0;31mNameError\u001b[0m: name 'dag' is not defined"
       ]
      },
      {
       "output_type": "stream",
       "stream": "stdout",
       "text": [
        "------Cites Nodes----\n",
        "\n",
        "['Mei T. 2012 ACM TOMCCAP', 'Chen YL 2008 EXPERT SYST APPL', 'Wu Z. 2011 CIKM 11', 'Chen YL 2009 EUR J OPER RES', 'Ting CK 2010 INFORM SCIENCES', 'Hu J. 2008 SIGIR 08', 'Mei T. 2011 P IEEE', 'HUANG T 2013 UROPEAN JOURNAL OF OPERATIONAL RESEARCH', 'Wu HC 2008 ACM T INFORM SYST', 'Hu XH 2009 KDD-09: 15TH ACM SIGKDD CONFERENCE ON KNOWLEDGE DISCOVERY AND DATA MINING', 'Wu ZD 2012 COMPUT J', 'Chen YL 2010 DECIS SUPPORT SYST', 'Mei T. 2008 MM 08', 'Pak AN 2010 WORLD WIDE WEB', 'Ribeiro-Neto B. 2005 SIGIR 2005. Proceedings of the Twenty-Eighth Annual International ACM SIGIR Conference on Research and Development in Information Retrieval', 'SALTON G 1975 COMMUN ACM', 'Papadopoulos S 2009 LECT NOTES COMPUT SC', 'van Rijsbergen 1979 INFORM RETRIEVAL', 'Anagnostopoulos A. 2007 CIKM 07', 'Chen YL 2006 FUZZY SET SYST', 'Vazquez Naya 2010 SOFT COMPUTING METHO', 'WU Z 2012 NEUROCOMPUTING', 'ALAMPORA G 1999 INFORMATION SCIENCES', 'Pak A. 2011 P 4 INT C HUM LANG T', 'Murdock V. 2007 SIGKDD WORKSH 07', 'Hu J. 2009 WWW 09']\n",
        "####Cites Edges####\n",
        "[('WU Z 2012 NEUROCOMPUTING', 'Mei T. 2012 ACM TOMCCAP'), ('WU Z 2012 NEUROCOMPUTING', 'Chen YL 2008 EXPERT SYST APPL'), ('WU Z 2012 NEUROCOMPUTING', 'Wu Z. 2011 CIKM 11'), ('WU Z 2012 NEUROCOMPUTING', 'Chen YL 2009 EUR J OPER RES'), ('WU Z 2012 NEUROCOMPUTING', 'Ting CK 2010 INFORM SCIENCES'), ('WU Z 2012 NEUROCOMPUTING', 'Hu J. 2008 SIGIR 08'), ('WU Z 2012 NEUROCOMPUTING', 'Mei T. 2011 P IEEE'), ('WU Z 2012 NEUROCOMPUTING', 'HUANG T 2013 UROPEAN JOURNAL OF OPERATIONAL RESEARCH'), ('WU Z 2012 NEUROCOMPUTING', 'Wu HC 2008 ACM T INFORM SYST'), ('WU Z 2012 NEUROCOMPUTING', 'Hu XH 2009 KDD-09: 15TH ACM SIGKDD CONFERENCE ON KNOWLEDGE DISCOVERY AND DATA MINING'), ('WU Z 2012 NEUROCOMPUTING', 'Wu ZD 2012 COMPUT J'), ('WU Z 2012 NEUROCOMPUTING', 'Chen YL 2010 DECIS SUPPORT SYST'), ('WU Z 2012 NEUROCOMPUTING', 'Mei T. 2008 MM 08'), ('WU Z 2012 NEUROCOMPUTING', 'Pak AN 2010 WORLD WIDE WEB'), ('WU Z 2012 NEUROCOMPUTING', 'Ribeiro-Neto B. 2005 SIGIR 2005. Proceedings of the Twenty-Eighth Annual International ACM SIGIR Conference on Research and Development in Information Retrieval'), ('WU Z 2012 NEUROCOMPUTING', 'SALTON G 1975 COMMUN ACM'), ('WU Z 2012 NEUROCOMPUTING', 'Papadopoulos S 2009 LECT NOTES COMPUT SC'), ('WU Z 2012 NEUROCOMPUTING', 'van Rijsbergen 1979 INFORM RETRIEVAL'), ('WU Z 2012 NEUROCOMPUTING', 'Anagnostopoulos A. 2007 CIKM 07'), ('WU Z 2012 NEUROCOMPUTING', 'Chen YL 2006 FUZZY SET SYST'), ('WU Z 2012 NEUROCOMPUTING', 'Vazquez Naya 2010 SOFT COMPUTING METHO'), ('WU Z 2012 NEUROCOMPUTING', 'ALAMPORA G 1999 INFORMATION SCIENCES'), ('WU Z 2012 NEUROCOMPUTING', 'Pak A. 2011 P 4 INT C HUM LANG T'), ('WU Z 2012 NEUROCOMPUTING', 'Murdock V. 2007 SIGKDD WORKSH 07'), ('WU Z 2012 NEUROCOMPUTING', 'Hu J. 2009 WWW 09')] \n",
        "\n",
        "----Internal Nodes--\n",
        "['ALAMPORA G 1999 INFORMATION SCIENCES', 'WU Z 2012 NEUROCOMPUTING'] \n",
        "\n",
        "----Internal Edges--\n",
        "[('WU Z 2012 NEUROCOMPUTING', 'ALAMPORA G 1999 INFORMATION SCIENCES')] \n",
        "\n"
       ]
      }
     ],
     "prompt_number": 4
    },
    {
     "cell_type": "code",
     "collapsed": false,
     "input": [],
     "language": "python",
     "metadata": {},
     "outputs": []
    }
   ],
   "metadata": {}
  }
 ]
}
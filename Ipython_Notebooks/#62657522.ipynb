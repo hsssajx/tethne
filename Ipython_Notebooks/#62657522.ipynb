{
 "metadata": {
  "name": ""
 },
 "nbformat": 3,
 "nbformat_minor": 0,
 "worksheets": [
  {
   "cells": [
    {
     "cell_type": "code",
     "collapsed": false,
     "input": [
      "import tethne.readers as rd\n",
      "filepath = \"../testsuite/testin/cocitations_test_full.txt\"\n",
      "wos_list = rd.wos.parse_wos(filepath)\n",
      "\n",
      "meta_list=rd.wos.wos2meta(wos_list)\n",
      "\n",
      "import tethne.networks as nt\n",
      "for paper in meta_list:\n",
      "    print paper['ayjid']\n",
      "\n",
      "coinst = nt.papers.cocitation(meta_list, 1)\n",
      "\n",
      "#asstr=('ADRIANO D. 2001 TRACE ELEMENTS TERRE', 'RAO J 1992 RNEA TECHN B SER LAN')\n",
      "#print asstr[1]\n",
      "\n",
      "import tethne.writers as wr\n",
      "wr.graph.to_gexf(coinst, \"../testsuite/testout/cocitation_1threshold_dec31\")\n"
     ],
     "language": "python",
     "metadata": {},
     "outputs": [
      {
       "ename": "AttributeError",
       "evalue": "'module' object has no attribute 'graph'",
       "output_type": "pyerr",
       "traceback": [
        "\u001b[0;31m---------------------------------------------------------------------------\u001b[0m\n\u001b[0;31mAttributeError\u001b[0m                            Traceback (most recent call last)",
        "\u001b[0;32m<ipython-input-1-0abf5b0e8dd3>\u001b[0m in \u001b[0;36m<module>\u001b[0;34m()\u001b[0m\n\u001b[1;32m     15\u001b[0m \u001b[0;34m\u001b[0m\u001b[0m\n\u001b[1;32m     16\u001b[0m \u001b[0;32mimport\u001b[0m \u001b[0mtethne\u001b[0m\u001b[0;34m.\u001b[0m\u001b[0mwriters\u001b[0m \u001b[0;32mas\u001b[0m \u001b[0mwr\u001b[0m\u001b[0;34m\u001b[0m\u001b[0m\n\u001b[0;32m---> 17\u001b[0;31m \u001b[0mwr\u001b[0m\u001b[0;34m.\u001b[0m\u001b[0mgraph\u001b[0m\u001b[0;34m.\u001b[0m\u001b[0mto_gexf\u001b[0m\u001b[0;34m(\u001b[0m\u001b[0mcoinst\u001b[0m\u001b[0;34m,\u001b[0m \u001b[0;34m\"../testsuite/testout/cocitation_1threshold_dec31\"\u001b[0m\u001b[0;34m)\u001b[0m\u001b[0;34m\u001b[0m\u001b[0m\n\u001b[0m",
        "\u001b[0;31mAttributeError\u001b[0m: 'module' object has no attribute 'graph'"
       ]
      },
      {
       "output_type": "stream",
       "stream": "stdout",
       "text": [
        "MODIS K 2014 SOIL & SEDIMENT CONTAMINATION\n",
        "TUERHONG G 2014 COMMUNICATIONS IN STATISTICS-SIMULATION AND COMPUTATION\n",
        "HUANG T 2013 EUROPEAN JOURNAL OF OPERATIONAL RESEARCH\n",
        "CHEN T 2013 ADVANCES IN ENGINEERING SOFTWARE\n",
        "VAN DER AALST W 2013 DISTRIBUTED AND PARALLEL DATABASES\n",
        "PAGANO D 2013 EMPIRICAL SOFTWARE ENGINEERING\n",
        "HERMAN G 2013 PATTERN RECOGNITION\n",
        "GALAR M 2013 PATTERN RECOGNITION\n"
       ]
      }
     ],
     "prompt_number": 1
    },
    {
     "cell_type": "code",
     "collapsed": false,
     "input": [],
     "language": "python",
     "metadata": {},
     "outputs": []
    }
   ],
   "metadata": {}
  }
 ]
}
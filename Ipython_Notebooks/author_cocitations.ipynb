{
 "metadata": {
  "name": ""
 },
 "nbformat": 3,
 "nbformat_minor": 0,
 "worksheets": [
  {
   "cells": [
    {
     "cell_type": "code",
     "collapsed": false,
     "input": [
      "import tethne.readers as rd\n",
      "filepath = \"../testsuite/testin/semantic_web.txt\"\n",
      "wos_list = rd.wos.parse_wos(filepath)\n",
      "\n",
      "meta_list=rd.wos.wos2meta(wos_list)\n",
      "\n",
      "for paper in meta_list:\n",
      "    for citation in paper['citations']:\n",
      "        #aug_list= citation['aulast'],' ',  citation['auinit']\n",
      "        #print paper['citations'][i]['aulast']\n",
      "        #print aug_list,len(aug_list)\n",
      "        #print citation['date'],len(citation['auinit'])\n",
      "        pass\n",
      "import tethne.networks as nt\n",
      "author_cocitations = nt.authors.author_cocitation(meta_list, 2)\n",
      "#print author_cocitations.nodes()\n",
      "print author_cocitations.edges()"
     ],
     "language": "python",
     "metadata": {},
     "outputs": [
      {
       "output_type": "stream",
       "stream": "stdout",
       "text": [
        "[('BUCCIGROSSI R', 'VAN HORN'), ('BUCCIGROSSI R', 'JACK CR'), ('CUNNINGHAM H.', 'GOWDA KC'), ('GROTH PAUL', 'VAN HORN'), ('GROTH PAUL', 'JACK CR'), ('BARESI L', 'DANIEL F'), ('BARESI L', 'HRISTOSKOVA A'), ('TSALGATIDOU A', 'DANIEL F'), ('TSALGATIDOU A', 'HRISTOSKOVA A'), ('SARULADHA K.', 'EUZENAT J.'), ('SARULADHA K.', 'SALTON G'), ('CANFORA G.', 'DANIEL F'), ('CANFORA G.', 'HRISTOSKOVA A'), ('HALL PAV', 'GOWDA KC'), ('AKKIRAJU R.', 'DANIEL F'), ('AKKIRAJU R.', 'HRISTOSKOVA A'), ('HRISTOSKOVA A', 'ASCHOFF R.'), ('HRISTOSKOVA A', 'BARESI L.'), ('HRISTOSKOVA A', 'ZISMAN A.'), ('HRISTOSKOVA A', 'BEISIEGEL M.'), ('HRISTOSKOVA A', 'MOLLER T'), ('HRISTOSKOVA A', 'LIU J'), ('HRISTOSKOVA A', 'TAIVALSAARI ANTERO'), ('HRISTOSKOVA A', 'BATTLE S.'), ('HRISTOSKOVA A', 'METZGER A.'), ('HRISTOSKOVA A', 'LARA R'), ('HRISTOSKOVA A', 'PAPAZOGLOU MP'), ('HRISTOSKOVA A', 'GUINEA S.'), ('HRISTOSKOVA A', 'GAMHA Y.'), ('HRISTOSKOVA A', 'PELTZ C'), ('HRISTOSKOVA A', 'TOSI DAVIDE'), ('HRISTOSKOVA A', 'DAI Y'), ('HRISTOSKOVA A', 'KLUSCH M.'), ('HRISTOSKOVA A', 'HAWKE S.'), ('HRISTOSKOVA A', 'VAN DER'), ('HRISTOSKOVA A', 'PISTORE M.'), ('HRISTOSKOVA A', 'PRETE L.'), ('HRISTOSKOVA A', 'DANIEL F'), ('HRISTOSKOVA A', 'PIETSCHMANN S'), ('HRISTOSKOVA A', 'BERNERS-LEE T'), ('HRISTOSKOVA A', 'BERBNER R'), ('HRISTOSKOVA A', 'SIRIN E.'), ('HRISTOSKOVA A', 'VERMA K'), ('HRISTOSKOVA A', 'LECUE F.'), ('HRISTOSKOVA A', 'LEITNER P.'), ('HRISTOSKOVA A', 'LIN K.'), ('HRISTOSKOVA A', 'AGRE GENNADY'), ('HRISTOSKOVA A', 'KLUSCH M'), ('HRISTOSKOVA A', 'PFEFFER H'), ('HRISTOSKOVA A', 'BROGI A'), ('HRISTOSKOVA A', 'HAUSHEER D'), ('HRISTOSKOVA A', 'AVELLINO G'), ('HRISTOSKOVA A', 'SIRIN E'), ('HRISTOSKOVA A', 'YELMO J.'), ('HRISTOSKOVA A', 'ZHANG S.'), ('HRISTOSKOVA A', 'HORROCKS I.'), ('HRISTOSKOVA A', 'ROMAN D.'), ('HRISTOSKOVA A', 'BERTOLI P'), ('HRISTOSKOVA A', 'GUBALA T.'), ('HRISTOSKOVA A', 'MARTIN D.'), ('HRISTOSKOVA A', 'FUJII K'), ('HRISTOSKOVA A', 'HAMADI R.'), ('HRISTOSKOVA A', 'CANDIDO G'), ('HRISTOSKOVA A', 'VALLEE M.'), ('HRISTOSKOVA A', 'ARDAGNA DANILO'), ('HRISTOSKOVA A', 'MIYAGI M.'), ('HRISTOSKOVA A', 'DI NITTO'), ('SYCARA K', 'GOWDA KC'), ('RESNIK P.', 'GOWDA KC'), ('ARENS Y.', 'VAN HORN'), ('ARENS Y.', 'JACK CR'), ('FAN TK', 'MEI T.'), ('FAN TK', 'HU J.'), ('DAI Y', 'DANIEL F'), ('ZISMAN A.', 'DANIEL F'), ('HAMDI F.', 'EUZENAT J.'), ('HAMDI F.', 'SALTON G'), ('MILLER G.', 'GOWDA KC'), ('MOSCATO P.', 'EUZENAT J.'), ('MOSCATO P.', 'SALTON G'), ('HOLM S', 'EUZENAT J.'), ('HOLM S', 'SALTON G'), ('SPELIOTES EK', 'VAN HORN'), ('SPELIOTES EK', 'JACK CR'), ('BERBNER R', 'DANIEL F'), ('UKKONEN E', 'GOWDA KC'), ('ZADEH LA', 'GOWDA KC'), ('WEINER MICHAEL', 'VAN HORN'), ('WEINER MICHAEL', 'JACK CR'), ('EUZENAT J.', 'WANG J.'), ('EUZENAT J.', 'WEN Y'), ('EUZENAT J.', 'POWELL M.J.D.'), ('EUZENAT J.', 'DEMSAR J'), ('EUZENAT J.', 'WINKLER W.'), ('EUZENAT J.', 'SHVAIKO P'), ('EUZENAT J.', 'GINSCA AL'), ('EUZENAT J.', 'JEAN-MARY YR'), ('EUZENAT J.', 'DO HH'), ('EUZENAT J.', 'MADHAVAN J.'), ('EUZENAT J.', 'ESHELMAN LJ'), ('EUZENAT J.', 'QUIX C.'), ('EUZENAT J.', 'GEN M'), ('EUZENAT J.', 'GRACIA J.'), ('EUZENAT J.', 'GENESERETH M.'), ('EUZENAT J.', 'XU P.'), ('EUZENAT J.', 'DEB K.'), ('EUZENAT J.', 'BOCK J'), ('EUZENAT J.', 'VAZQUEZ NAYA'), ('EUZENAT J.', 'STOILOS G.'), ('EUZENAT J.', 'EHRIG M'), ('EUZENAT J.', 'ABDULLAH S'), ('EUZENAT J.', 'VAN RIJSBERGEN'), ('EUZENAT J.', 'EUZENAT J.'), ('EUZENAT J.', 'GRUBER TR'), ('EUZENAT J.', 'ACAMPORA G'), ('EUZENAT J.', 'KRASNOGOR N'), ('EUZENAT J.', 'GARCIA S'), ('EUZENAT J.', 'LEVENSTEIN I.'), ('EUZENAT J.', 'MARTINEZ-GIL J.'), ('EUZENAT J.', 'NOY NF'), ('EUZENAT J.', 'WEI W.'), ('EUZENAT J.', 'TANG J.'), ('EUZENAT J.', 'NOESSNER J.'), ('EUZENAT J.', 'NGUYEN QH'), ('EUZENAT J.', 'SHVAIKO P.'), ('EUZENAT J.', 'TING CK'), ('EUZENAT J.', 'CRUZ I.F.'), ('EUZENAT J.', 'HU W.'), ('EUZENAT J.', 'KIRKPATRICK S.'), ('EUZENAT J.', 'WANG Z.'), ('EUZENAT J.', 'DAWKINS R'), ('EUZENAT J.', 'FRIEDMAN M'), ('EUZENAT J.', 'DAVID J.'), ('EUZENAT J.', 'RAHM E'), ('EUZENAT J.', 'HERRERA F'), ('EUZENAT J.', 'SALTON G'), ('EUZENAT J.', 'SHESKIN D.J.'), ('MOREAU L', 'VAN HORN'), ('MOREAU L', 'JACK CR'), ('TEETERS JL', 'VAN HORN'), ('TEETERS JL', 'JACK CR'), ('ADALI S.', 'VAN HORN'), ('ADALI S.', 'JACK CR'), ('LEVENSTEIN I.', 'SALTON G'), ('HULL D', 'VAN HORN'), ('HULL D', 'JACK CR'), ('RIPKE S', 'VAN HORN'), ('RIPKE S', 'JACK CR'), ('NOESSNER J.', 'SALTON G'), ('GUPTA S', 'MEI T.'), ('GUPTA S', 'HU J.'), ('HORROCKS I.', 'DANIEL F'), ('HU XH', 'MEI T.'), ('HU XH', 'HU J.'), ('VERMA K', 'DANIEL F'), ('PAPADOPOULOS S', 'MEI T.'), ('PAPADOPOULOS S', 'HU J.'), ('DAWKINS R', 'SALTON G'), ('GUPTA A', 'VAN HORN'), ('GUPTA A', 'JACK CR'), ('LASSILA O.', 'GOWDA KC'), ('FRIEDMAN M', 'SALTON G'), ('DAVID J.', 'SALTON G'), ('TING CK', 'SALTON G'), ('HERRERA F', 'SALTON G'), ('CRUZ I.F.', 'SALTON G'), ('PAK A.', 'MEI T.'), ('PAK A.', 'HU J.'), ('DEMSAR J', 'SALTON G'), ('WINKLER W.', 'SALTON G'), ('OZYURT IB', 'VAN HORN'), ('OZYURT IB', 'JACK CR'), ('TAIVALSAARI ANTERO', 'DANIEL F'), ('BATTLE S.', 'DANIEL F'), ('GUPTA S.', 'MEI T.'), ('GUPTA S.', 'HU J.'), ('MENNES M.', 'VAN HORN'), ('MENNES M.', 'JACK CR'), ('LEACOCK C.', 'GOWDA KC'), ('MARCUS DS', 'VAN HORN'), ('MARCUS DS', 'JACK CR'), ('LENZERINI M', 'VAN HORN'), ('LENZERINI M', 'JACK CR'), ('GAMHA Y.', 'DANIEL F'), ('PELTZ C', 'DANIEL F'), ('LARSON S.', 'VAN HORN'), ('LARSON S.', 'JACK CR'), ('RADA R', 'GOWDA KC'), ('HAWKE S.', 'DANIEL F'), ('PISTORE M.', 'DANIEL F'), ('XU P.', 'SALTON G'), ('RUSS TA', 'VAN HORN'), ('RUSS TA', 'JACK CR'), ('BOCK J', 'SALTON G'), ('VAZQUEZ NAYA', 'SALTON G'), ('STOILOS G.', 'SALTON G'), ('GADDE S', 'VAN HORN'), ('GADDE S', 'JACK CR'), ('PEDERSEN T.', 'GOWDA KC'), ('EHRIG M', 'SALTON G'), ('LECUE F.', 'DANIEL F'), ('ASHISH NAVEEN', 'VAN HORN'), ('ASHISH NAVEEN', 'JACK CR'), ('GIUNCHIGLIA F', 'GOWDA KC'), ('VAN RIJSBERGEN', 'SALTON G'), ('PAK AN', 'MEI T.'), ('PAK AN', 'HU J.'), ('VINCENT R.D.', 'VAN HORN'), ('VINCENT R.D.', 'JACK CR'), ('BROGI A', 'DANIEL F'), ('AUMUELLER D.', 'GOWDA KC'), ('KRASNOGOR N', 'SALTON G'), ('PATWARDHAN S.', 'GOWDA KC'), ('MARTINEZ-GIL J.', 'SALTON G'), ('ACAMPORA G', 'SALTON G'), ('YELMO J.', 'DANIEL F'), ('LEE TB', 'GOWDA KC'), ('JACK CR', 'VAN ERP'), ('JACK CR', 'KRUGGEL F'), ('JACK CR', 'FLORESCU D'), ('JACK CR', 'NOONER KATE'), ('JACK CR', 'ULLMAN JD'), ('JACK CR', 'SAWCER S'), ('JACK CR', 'POLINE JEAN-BAPTISTE'), ('JACK CR', 'YONG E'), ('JACK CR', 'KHO A.N.'), ('JACK CR', 'GRONENSCHILD EHBM'), ('JACK CR', 'STEIN JL'), ('JACK CR', 'INSEL TR'), ('JACK CR', 'GLOVER GH'), ('JACK CR', 'DRAPER D.'), ('JACK CR', 'BISWAL BB'), ('JACK CR', 'LOUIE B'), ('JACK CR', 'MACKENZIE-GRAHAM AJ'), ('JACK CR', 'VAN HORN'), ('JACK CR', 'HAMMER J.'), ('JACK CR', 'THAKKAR S.'), ('JACK CR', 'LANGLOTZ CP'), ('JACK CR', 'KEATOR DAVID'), ('JACK CR', 'BEGLEY CG'), ('JACK CR', 'MILHAM MP'), ('SHVAIKO P.', 'SALTON G'), ('ANAGNOSTOPOULOS A.', 'MEI T.'), ('ANAGNOSTOPOULOS A.', 'HU J.'), ('THAKKAR S.', 'VAN HORN'), ('GUBALA T.', 'DANIEL F'), ('MARTIN D.', 'DANIEL F'), ('HU J.', 'MURDOCK V.'), ('HU J.', 'BRODER A.'), ('HU J.', 'BOYD S.'), ('HU J.', 'RIBEIRO-NETO B.'), ('HU J.', 'WU HC'), ('HU J.', 'CHATTERJEE P'), ('HU J.', 'MEI T.'), ('HU J.', 'WU Z.'), ('HU J.', 'SALTON G'), ('HU J.', 'WU ZD'), ('GARCIA S', 'SALTON G'), ('MIYAGI M.', 'DANIEL F'), ('GOWDA KC', 'CIMIANO P.'), ('GOWDA KC', 'BIEMANN C.'), ('GOWDA KC', 'FRAKES W.B'), ('GOWDA KC', 'TVERSKY A'), ('GOWDA KC', 'LEVENSHTEIN V.'), ('GOWDA KC', 'WU Z.'), ('GOWDA KC', 'HOSSEIN ZADEH'), ('GOWDA KC', 'GOMEZ-PEREZ A.'), ('GOWDA KC', 'SMITH B.'), ('GOWDA KC', 'FAROOQ A.'), ('GOWDA KC', 'GRUBER TR'), ('GOWDA KC', 'FANKHAUSER P.'), ('GOWDA KC', 'SLIMANI T.'), ('GOWDA KC', 'LIN D'), ('GOWDA KC', 'DO H.'), ('GOWDA KC', 'GROSSO W.E.'), ('SHESKIN D.J.', 'SALTON G'), ('MOLLER T', 'DANIEL F'), ('WEN Y', 'SALTON G'), ('BARESI L.', 'DANIEL F'), ('GEN M', 'SALTON G'), ('BEISIEGEL M.', 'DANIEL F'), ('LIU J', 'DANIEL F'), ('JEAN-MARY YR', 'SALTON G'), ('LARA R', 'DANIEL F'), ('VAN ERP', 'VAN HORN'), ('DO HH', 'SALTON G'), ('MADHAVAN J.', 'SALTON G'), ('GUINEA S.', 'DANIEL F'), ('QUIX C.', 'SALTON G'), ('MURDOCK V.', 'MEI T.'), ('KLUSCH M.', 'DANIEL F'), ('HAUSHEER D', 'DANIEL F'), ('YONG E', 'VAN HORN'), ('VALLEE M.', 'DANIEL F'), ('WU HC', 'MEI T.'), ('GENESERETH M.', 'SALTON G'), ('BEGLEY CG', 'VAN HORN'), ('STEIN JL', 'VAN HORN'), ('SIRIN E.', 'DANIEL F'), ('INSEL TR', 'VAN HORN'), ('GLOVER GH', 'VAN HORN'), ('AGRE GENNADY', 'DANIEL F'), ('BOYD S.', 'MEI T.'), ('DRAPER D.', 'VAN HORN'), ('MEI T.', 'SALTON G'), ('MEI T.', 'BRODER A.'), ('MEI T.', 'CHATTERJEE P'), ('MEI T.', 'RIBEIRO-NETO B.'), ('MEI T.', 'MEI T.'), ('MEI T.', 'WU Z.'), ('MEI T.', 'WU ZD'), ('AVELLINO G', 'DANIEL F'), ('NOY NF', 'SALTON G'), ('CANDIDO G', 'DANIEL F'), ('VAN HORN', 'KRUGGEL F'), ('VAN HORN', 'FLORESCU D'), ('VAN HORN', 'NOONER KATE'), ('VAN HORN', 'ULLMAN JD'), ('VAN HORN', 'POLINE JEAN-BAPTISTE'), ('VAN HORN', 'SAWCER S'), ('VAN HORN', 'KHO A.N.'), ('VAN HORN', 'GRONENSCHILD EHBM'), ('VAN HORN', 'BISWAL BB'), ('VAN HORN', 'LOUIE B'), ('VAN HORN', 'MACKENZIE-GRAHAM AJ'), ('VAN HORN', 'HAMMER J.'), ('VAN HORN', 'LANGLOTZ CP'), ('VAN HORN', 'KEATOR DAVID'), ('VAN HORN', 'MILHAM MP'), ('HU W.', 'SALTON G'), ('RAHM E', 'SALTON G'), ('ARDAGNA DANILO', 'DANIEL F'), ('SALTON G', 'WANG J.'), ('SALTON G', 'POWELL M.J.D.'), ('SALTON G', 'SHVAIKO P'), ('SALTON G', 'GINSCA AL'), ('SALTON G', 'ESHELMAN LJ'), ('SALTON G', 'GRACIA J.'), ('SALTON G', 'DEB K.'), ('SALTON G', 'ABDULLAH S'), ('SALTON G', 'GRUBER TR'), ('SALTON G', 'WEI W.'), ('SALTON G', 'TANG J.'), ('SALTON G', 'NGUYEN QH'), ('SALTON G', 'KIRKPATRICK S.'), ('SALTON G', 'WANG Z.'), ('ASCHOFF R.', 'DANIEL F'), ('LEITNER P.', 'DANIEL F'), ('METZGER A.', 'DANIEL F'), ('PAPAZOGLOU MP', 'DANIEL F'), ('VAN DER', 'DANIEL F'), ('PRETE L.', 'DANIEL F'), ('HAMADI R.', 'DANIEL F'), ('PIETSCHMANN S', 'DANIEL F'), ('BERNERS-LEE T', 'DANIEL F'), ('KLUSCH M', 'DANIEL F'), ('LIN K.', 'DANIEL F'), ('TOSI DAVIDE', 'DANIEL F'), ('PFEFFER H', 'DANIEL F'), ('SIRIN E', 'DANIEL F'), ('ZHANG S.', 'DANIEL F'), ('ROMAN D.', 'DANIEL F'), ('BERTOLI P', 'DANIEL F'), ('FUJII K', 'DANIEL F'), ('DANIEL F', 'DI NITTO')]\n"
       ]
      }
     ],
     "prompt_number": 1
    },
    {
     "cell_type": "code",
     "collapsed": false,
     "input": [
      "import tethne.readers as rd\n",
      "filepath = \"../testsuite/testin/iptraffic.txt\"\n",
      "wos_list = rd.wos.parse_wos(filepath)\n",
      "\n",
      "meta_list=rd.wos.wos2meta(wos_list)\n",
      "\n",
      "import tethne.networks as nt\n",
      "author_cocitations = nt.authors.author_cocitation(meta_list, 1)"
     ],
     "language": "python",
     "metadata": {},
     "outputs": []
    },
    {
     "cell_type": "code",
     "collapsed": false,
     "input": [
      "\n",
      "aList = ['123', 'xyz', 'zara', 'abc'];\n",
      "bList = ['223', 'sssz', 'zaara', 'abc'];\n",
      "\n",
      "L = ['L','O','L']\n",
      "makeitastringdammit = ''.join(map(str, L))\n",
      "print type(makeitastringdammit)\n",
      "\n",
      "new= aList+bList\n",
      "print new\n",
      "\n",
      "cList=[]\n",
      "delim=' ' \n",
      "for i in xrange(len(aList)):\n",
      "    cList.append(aList[i] + delim + bList[i]);\n",
      "    print \"Updated List : \", cList;"
     ],
     "language": "python",
     "metadata": {},
     "outputs": [
      {
       "output_type": "stream",
       "stream": "stdout",
       "text": [
        "<type 'str'>\n",
        "['123', 'xyz', 'zara', 'abc', '223', 'sssz', 'zaara', 'abc']\n",
        "Updated List :  ['123 223']\n",
        "Updated List :  ['123 223', 'xyz sssz']\n",
        "Updated List :  ['123 223', 'xyz sssz', 'zara zaara']\n",
        "Updated List :  ['123 223', 'xyz sssz', 'zara zaara', 'abc abc']\n"
       ]
      }
     ],
     "prompt_number": 6
    }
   ],
   "metadata": {}
  }
 ]
}
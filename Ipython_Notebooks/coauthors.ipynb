{
 "metadata": {
  "name": ""
 },
 "nbformat": 3,
 "nbformat_minor": 0,
 "worksheets": [
  {
   "cells": [
    {
     "cell_type": "code",
     "collapsed": false,
     "input": [
      "import tethne.readers as rd\n",
      "filepath = \"../testsuite/testin/iptraffic.txt\"\n",
      "wos_list = rd.wos.parse_wos(filepath)\n",
      "meta_list = rd.wos.wos2meta(wos_list)\n",
      "\n",
      "import tethne.networks as nt\n",
      "coauthors = nt.authors.coauthors(meta_list, 'date','jtitle','ayjid')\n",
      "\n",
      "for paper in meta_list:\n",
      "    print paper['doi']\n",
      "\n",
      "print \"comes here\"\n",
      "import tethne.writers as wr\n",
      "wr.graph.to_gexf(coauthors, \"../testsuite/testout/coauthors_code_changed\")\n"
     ],
     "language": "python",
     "metadata": {},
     "outputs": [
      {
       "output_type": "stream",
       "stream": "stdout",
       "text": [
        "10.1109/TC.2012.155\n",
        "10.1007/s11227-012-0788-4\n",
        "None\n",
        "10.1007/s00034-013-9568-5\n",
        "10.1016/j.asoc.2013.07.022\n",
        "10.1587/transcom.E96.B.2784\n",
        "10.1016/j.osn.2013.05.001\n",
        "10.1016/j.comnet.2013.05.012\n",
        "10.1158/0008-5472.CAN-13-0348\n",
        "10.1109/JLT.2013.2281117\n",
        "10.1016/j.compeleceng.2013.08.006\n",
        "10.1587/transcom.E96.B.2587\n",
        "10.1364/JOCN.5.00A127\n",
        "10.1364/JOCN.5.000A46\n",
        "10.1002/sec.692\n",
        "10.1007/s11277-013-1125-9\n",
        "10.1016/j.jcyt.2013.05.022\n",
        "10.1007/s11276-013-0559-z\n",
        "10.1109/TC.2012.107\n",
        "10.1049/iet-com.2012.0686\n",
        "10.1016/j.comnet.2013.04.011\n",
        "10.1002/sat.1026\n",
        "10.1109/LCOMM.2013.070913.130580\n",
        "10.1109/TVT.2013.2252931\n",
        "10.1109/TVT.2013.2256812\n",
        "10.1109/TVT.2013.2255899\n",
        "None\n",
        "10.1007/s00296-012-2393-5\n",
        "10.1007/s11277-013-1055-6\n",
        "10.1109/JSYST.2012.2221856\n",
        "10.1016/j.mcm.2012.12.004\n",
        "10.1016/j.future.2012.03.026\n",
        "10.1007/s10922-012-9243-3\n",
        "10.1007/s12083-012-0147-5\n",
        "10.1371/journal.pone.0071808\n",
        "10.1016/j.comnet.2013.04.010\n",
        "10.1109/TWC.2013.052613.130019\n",
        "10.1364/JOCN.5.000858\n",
        "10.1002/ett.2650\n",
        "10.1007/s11276-012-0535-z\n",
        "comes here\n"
       ]
      }
     ],
     "prompt_number": 1
    },
    {
     "cell_type": "code",
     "collapsed": false,
     "input": [
      "import networkx as nx\n",
      "G=nx.Graph()   # or DiGraph, MultiGraph, MultiDiGraph, etc\n",
      "G.add_path([0,1,2,3])\n",
      "#G.add_path([10,11,12],weight=7)"
     ],
     "language": "python",
     "metadata": {},
     "outputs": [
      {
       "output_type": "stream",
       "stream": "stdout",
       "text": [
        "\n"
       ]
      }
     ],
     "prompt_number": 24
    }
   ],
   "metadata": {}
  }
 ]
}